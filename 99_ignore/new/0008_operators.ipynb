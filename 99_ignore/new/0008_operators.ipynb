{
 "cells": [
  {
   "cell_type": "markdown",
   "id": "98ec751f1d382e4f",
   "metadata": {},
   "source": "## Operatorer"
  },
  {
   "metadata": {},
   "cell_type": "markdown",
   "source": [
    "Python-operatorer er symboler, som vi bruger til at udføre operationer på værdier og variabler.\n",
    "\n",
    "#### Tildelingsoperator (assignment operator)\n",
    "\n",
    "Tildelingsoperatoren har vi allerede brugt mange gange. Den bruges til at tildele en værdi til en variabel:"
   ],
   "id": "cc7e6c0d1d872e2b"
  },
  {
   "metadata": {
    "ExecuteTime": {
     "end_time": "2025-03-28T13:40:28.941290Z",
     "start_time": "2025-03-28T13:40:28.937290Z"
    }
   },
   "cell_type": "code",
   "source": [
    "age = 8\n",
    "print(age)"
   ],
   "id": "60a86571b68e2eff",
   "outputs": [
    {
     "name": "stdout",
     "output_type": "stream",
     "text": [
      "8\n"
     ]
    }
   ],
   "execution_count": 100
  },
  {
   "metadata": {},
   "cell_type": "markdown",
   "source": "Eller til at tildele en variabels værdi til en anden variabel:",
   "id": "804f8d9101e981e0"
  },
  {
   "metadata": {
    "ExecuteTime": {
     "end_time": "2025-03-28T13:40:28.960573Z",
     "start_time": "2025-03-28T13:40:28.957316Z"
    }
   },
   "cell_type": "code",
   "source": [
    "name = \"Hans\"\n",
    "another_variable = name\n",
    "print(another_variable)"
   ],
   "id": "46b6c859f02db4b8",
   "outputs": [
    {
     "name": "stdout",
     "output_type": "stream",
     "text": [
      "Hans\n"
     ]
    }
   ],
   "execution_count": 101
  },
  {
   "metadata": {},
   "cell_type": "markdown",
   "source": [
    "#### Aritmetiske operatorer (arithmetic operators)\n",
    "\n",
    "Python har en række aritmetiske operatorer: `+`, `-`, `*`, `/`(division), `//`(heltalsdivision), `%`(rest) og `**`(eksponentiering).\n",
    "Udfør de følgende celler og eksperimenter med dem indtil du fandt ud af, hvad de enkelte operatorer gør."
   ],
   "id": "73837c52bd22e11d"
  },
  {
   "metadata": {
    "ExecuteTime": {
     "end_time": "2025-03-28T13:40:28.975725Z",
     "start_time": "2025-03-28T13:40:28.973324Z"
    }
   },
   "cell_type": "code",
   "source": "print(3 + 5)  # Addition",
   "id": "13c615474d7757d6",
   "outputs": [
    {
     "name": "stdout",
     "output_type": "stream",
     "text": [
      "8\n"
     ]
    }
   ],
   "execution_count": 102
  },
  {
   "metadata": {
    "ExecuteTime": {
     "end_time": "2025-03-28T13:40:28.990968Z",
     "start_time": "2025-03-28T13:40:28.987696Z"
    }
   },
   "cell_type": "code",
   "source": "print(4 - 1)  # Subtraktion",
   "id": "332c6060f383846a",
   "outputs": [
    {
     "name": "stdout",
     "output_type": "stream",
     "text": [
      "3\n"
     ]
    }
   ],
   "execution_count": 103
  },
  {
   "metadata": {
    "ExecuteTime": {
     "end_time": "2025-03-28T13:40:29.007005Z",
     "start_time": "2025-03-28T13:40:29.003792Z"
    }
   },
   "cell_type": "code",
   "source": "print(3 * 2)  # Multiplikation",
   "id": "bef4d39d73c12111",
   "outputs": [
    {
     "name": "stdout",
     "output_type": "stream",
     "text": [
      "6\n"
     ]
    }
   ],
   "execution_count": 104
  },
  {
   "metadata": {
    "ExecuteTime": {
     "end_time": "2025-03-28T13:40:29.022303Z",
     "start_time": "2025-03-28T13:40:29.019306Z"
    }
   },
   "cell_type": "code",
   "source": "print(7 / 2)  # Division",
   "id": "b8ecc11572d96a51",
   "outputs": [
    {
     "name": "stdout",
     "output_type": "stream",
     "text": [
      "3.5\n"
     ]
    }
   ],
   "execution_count": 105
  },
  {
   "metadata": {
    "ExecuteTime": {
     "end_time": "2025-03-28T13:40:29.037994Z",
     "start_time": "2025-03-28T13:40:29.034450Z"
    }
   },
   "cell_type": "code",
   "source": "print(7 // 2)  # Heltalsdivision",
   "id": "c2983dbade8792da",
   "outputs": [
    {
     "name": "stdout",
     "output_type": "stream",
     "text": [
      "3\n"
     ]
    }
   ],
   "execution_count": 106
  },
  {
   "metadata": {
    "ExecuteTime": {
     "end_time": "2025-03-28T13:40:29.056573Z",
     "start_time": "2025-03-28T13:40:29.053416Z"
    }
   },
   "cell_type": "code",
   "source": "print(7 % 2)  # Rest efter heltalsdivision",
   "id": "4115f45ae66e9d16",
   "outputs": [
    {
     "name": "stdout",
     "output_type": "stream",
     "text": [
      "1\n"
     ]
    }
   ],
   "execution_count": 107
  },
  {
   "metadata": {
    "ExecuteTime": {
     "end_time": "2025-03-28T13:40:29.063805Z",
     "start_time": "2025-03-28T13:40:29.059578Z"
    }
   },
   "cell_type": "code",
   "source": "print(4 ** 2)  # Eksponentiering (her: 4 i anden potens)",
   "id": "722de4b8e30dee23",
   "outputs": [
    {
     "name": "stdout",
     "output_type": "stream",
     "text": [
      "16\n"
     ]
    }
   ],
   "execution_count": 108
  },
  {
   "metadata": {},
   "cell_type": "markdown",
   "source": "Bemærk, at du ikke behøver et mellemrum mellem operanderne, men det er godt for læsbarheden.",
   "id": "480c64d9e75821ce"
  },
  {
   "metadata": {},
   "cell_type": "markdown",
   "source": "`+`bruges også fx til at sammenkæde string-værdier:",
   "id": "7f5bda9c610ff2bd"
  },
  {
   "metadata": {
    "ExecuteTime": {
     "end_time": "2025-03-28T13:40:29.084426Z",
     "start_time": "2025-03-28T13:40:29.082238Z"
    }
   },
   "cell_type": "code",
   "source": "print(\"Donald\" + \" is a duck\")",
   "id": "8683c3625b6280d2",
   "outputs": [
    {
     "name": "stdout",
     "output_type": "stream",
     "text": [
      "Donald is a duck\n"
     ]
    }
   ],
   "execution_count": 109
  },
  {
   "metadata": {},
   "cell_type": "markdown",
   "source": [
    "Vi kan kombinere tildelingsoperatoren med aritmetiske operatorer,\n",
    "\n",
    "fx `+=`, `-=`, `*=`, `/=`.\n",
    "\n",
    "Det er bare forkortelser, der gør vores kode kortere og lettere at læse.\n",
    "\n",
    "Udfør de følgende celler og eksperimenter gerne med dem."
   ],
   "id": "c60cf0238b682016"
  },
  {
   "metadata": {
    "ExecuteTime": {
     "end_time": "2025-03-28T13:40:29.096392Z",
     "start_time": "2025-03-28T13:40:29.093437Z"
    }
   },
   "cell_type": "code",
   "source": [
    "number = 3\n",
    "number = number + 4\n",
    "print(number)"
   ],
   "id": "38469f1b864b92b9",
   "outputs": [
    {
     "name": "stdout",
     "output_type": "stream",
     "text": [
      "7\n"
     ]
    }
   ],
   "execution_count": 110
  },
  {
   "metadata": {
    "ExecuteTime": {
     "end_time": "2025-03-28T13:40:29.131211Z",
     "start_time": "2025-03-28T13:40:29.128758Z"
    }
   },
   "cell_type": "code",
   "source": [
    "number = 3\n",
    "number += 4  # does exactly the same as \"number = number + 4\" would\n",
    "print(number)"
   ],
   "id": "9cb6949a0e3d1896",
   "outputs": [
    {
     "name": "stdout",
     "output_type": "stream",
     "text": [
      "7\n"
     ]
    }
   ],
   "execution_count": 111
  },
  {
   "metadata": {
    "ExecuteTime": {
     "end_time": "2025-03-28T13:40:29.138239Z",
     "start_time": "2025-03-28T13:40:29.134217Z"
    }
   },
   "cell_type": "code",
   "source": [
    "age = 8\n",
    "print(\"age is\", age)\n",
    "age += 1\n",
    "print(\"after +=1 is age now\", age)\n",
    "age /= 3\n",
    "print(\"after /=3 is age now\", age)\n",
    "age *= 5\n",
    "print(\"after *=5 is age now\", age)\n",
    "age -= 2\n",
    "print(\"after -=2 is age now\", age)"
   ],
   "id": "b118c8bdad5f7ab7",
   "outputs": [
    {
     "name": "stdout",
     "output_type": "stream",
     "text": [
      "age is 8\n",
      "after +=1 is age now 9\n",
      "after /=3 is age now 3.0\n",
      "after *=5 is age now 15.0\n",
      "after -=2 is age now 13.0\n"
     ]
    }
   ],
   "execution_count": 112
  },
  {
   "metadata": {},
   "cell_type": "markdown",
   "source": [
    "#### Sammenligningsoperatorer (comparison operators)\n",
    "\n",
    "Python definerer følgende sammenligningsoperatorer:\n",
    "* `==`er lige med\n",
    "* `!=`er ikke lige med\n",
    "* `>` er større end\n",
    "* `>` er større end eller lige med\n",
    "* `<` er mindre end\n",
    "* `<=`er mindre end eller lige med\n",
    "\n",
    "Der skal være en værdi til venstre og højre for operatøren. Tilsammen danner det et udsagn, som enten er `True`eller `False`.\n",
    "\n",
    "Udfør de følgende celler og eksperimenter gerne med dem."
   ],
   "id": "3c46ab570ef96f4c"
  },
  {
   "metadata": {
    "ExecuteTime": {
     "end_time": "2025-03-28T13:40:29.159405Z",
     "start_time": "2025-03-28T13:40:29.155940Z"
    }
   },
   "cell_type": "code",
   "source": "print(6==7)",
   "id": "31cbe314e318f487",
   "outputs": [
    {
     "name": "stdout",
     "output_type": "stream",
     "text": [
      "False\n"
     ]
    }
   ],
   "execution_count": 113
  },
  {
   "metadata": {
    "ExecuteTime": {
     "end_time": "2025-03-28T13:40:29.167114Z",
     "start_time": "2025-03-28T13:40:29.163413Z"
    }
   },
   "cell_type": "code",
   "source": "print(6<7)",
   "id": "7c8eafc199af0058",
   "outputs": [
    {
     "name": "stdout",
     "output_type": "stream",
     "text": [
      "True\n"
     ]
    }
   ],
   "execution_count": 114
  },
  {
   "metadata": {
    "ExecuteTime": {
     "end_time": "2025-03-28T13:40:29.190605Z",
     "start_time": "2025-03-28T13:40:29.187147Z"
    }
   },
   "cell_type": "code",
   "source": "print(\"Hans\" != \"Jesper\")",
   "id": "bc426a6ea3854d2b",
   "outputs": [
    {
     "name": "stdout",
     "output_type": "stream",
     "text": [
      "True\n"
     ]
    }
   ],
   "execution_count": 115
  },
  {
   "metadata": {
    "ExecuteTime": {
     "end_time": "2025-03-28T13:40:29.210014Z",
     "start_time": "2025-03-28T13:40:29.206682Z"
    }
   },
   "cell_type": "code",
   "source": "print(1 >= 3)",
   "id": "8798a2f01ae3ee55",
   "outputs": [
    {
     "name": "stdout",
     "output_type": "stream",
     "text": [
      "False\n"
     ]
    }
   ],
   "execution_count": 116
  },
  {
   "metadata": {
    "ExecuteTime": {
     "end_time": "2025-03-28T13:40:29.229607Z",
     "start_time": "2025-03-28T13:40:29.226422Z"
    }
   },
   "cell_type": "code",
   "source": "print(7 <= 7)",
   "id": "9ee042f09f591e08",
   "outputs": [
    {
     "name": "stdout",
     "output_type": "stream",
     "text": [
      "True\n"
     ]
    }
   ],
   "execution_count": 117
  },
  {
   "metadata": {},
   "cell_type": "markdown",
   "source": [
    "#### Boolske logik (boolean logic)\n",
    "\n",
    "Du kan også regne med værdierne `True` og `False`ved hjælp af `and`, `or` og `not`.\n",
    "\n",
    "`x and y` er `True`, hvis x og y begge er `True`.\n",
    "\n",
    "Ellers er `x and y` `False`.\n",
    "\n",
    "`x or y` er `True`, hvis mindst en af de to værdier x, y er `True`.\n",
    "\n",
    "Kun hvis x og y begge er `False`, er `x or y` også `False`.\n",
    "\n",
    "`not` gør et `True` til et `False` og omvendt.\n",
    "\n",
    "Udfør de følgende celler og eksperimenter gerne med dem."
   ],
   "id": "ab5b204f3d3e84a7"
  },
  {
   "metadata": {
    "ExecuteTime": {
     "end_time": "2025-03-28T13:40:29.378429Z",
     "start_time": "2025-03-28T13:40:29.375287Z"
    }
   },
   "cell_type": "code",
   "source": "print(True or False)",
   "id": "25a833cd88f033bf",
   "outputs": [
    {
     "name": "stdout",
     "output_type": "stream",
     "text": [
      "True\n"
     ]
    }
   ],
   "execution_count": 118
  },
  {
   "metadata": {
    "ExecuteTime": {
     "end_time": "2025-03-28T13:40:29.469743Z",
     "start_time": "2025-03-28T13:40:29.466788Z"
    }
   },
   "cell_type": "code",
   "source": "print(True and True)",
   "id": "b0fbb7d537744ac3",
   "outputs": [
    {
     "name": "stdout",
     "output_type": "stream",
     "text": [
      "True\n"
     ]
    }
   ],
   "execution_count": 119
  },
  {
   "metadata": {
    "ExecuteTime": {
     "end_time": "2025-03-28T13:40:29.509459Z",
     "start_time": "2025-03-28T13:40:29.506555Z"
    }
   },
   "cell_type": "code",
   "source": "print(not True)",
   "id": "161526903bd8ea28",
   "outputs": [
    {
     "name": "stdout",
     "output_type": "stream",
     "text": [
      "False\n"
     ]
    }
   ],
   "execution_count": 120
  },
  {
   "metadata": {
    "ExecuteTime": {
     "end_time": "2025-03-28T13:40:29.556055Z",
     "start_time": "2025-03-28T13:40:29.553050Z"
    }
   },
   "cell_type": "code",
   "source": "print(True and False)",
   "id": "1ee59dbfa9825bc8",
   "outputs": [
    {
     "name": "stdout",
     "output_type": "stream",
     "text": [
      "False\n"
     ]
    }
   ],
   "execution_count": 121
  },
  {
   "metadata": {
    "ExecuteTime": {
     "end_time": "2025-03-28T13:40:29.610435Z",
     "start_time": "2025-03-28T13:40:29.606428Z"
    }
   },
   "cell_type": "code",
   "source": "print(13 > 7 and 15 > 2)",
   "id": "9a5c692e7feaf998",
   "outputs": [
    {
     "name": "stdout",
     "output_type": "stream",
     "text": [
      "True\n"
     ]
    }
   ],
   "execution_count": 122
  },
  {
   "metadata": {
    "ExecuteTime": {
     "end_time": "2025-03-28T13:42:23.840594Z",
     "start_time": "2025-03-28T13:42:23.837685Z"
    }
   },
   "cell_type": "code",
   "source": "print(6 == 6 and 10 < 4)",
   "id": "bd302356417aee9c",
   "outputs": [
    {
     "name": "stdout",
     "output_type": "stream",
     "text": [
      "False\n"
     ]
    }
   ],
   "execution_count": 145
  },
  {
   "metadata": {
    "ExecuteTime": {
     "end_time": "2025-03-28T13:42:24.927422Z",
     "start_time": "2025-03-28T13:42:24.923964Z"
    }
   },
   "cell_type": "code",
   "source": [
    "age1 = 17\n",
    "age2 = 23\n",
    "print(age1 > age2 or age2 != 99)"
   ],
   "id": "d1385b9bc0b9bed8",
   "outputs": [
    {
     "name": "stdout",
     "output_type": "stream",
     "text": [
      "True\n"
     ]
    }
   ],
   "execution_count": 146
  },
  {
   "metadata": {},
   "cell_type": "markdown",
   "source": [
    "#### Medlemskabsoperatoren (the membership operator)\n",
    "\n",
    "Medlemskabsoperatoren `in`bruges til at fortælle, om en værdi er indeholdt i en liste eller en anden sekvens. Mere om lister og andre sekvenser senere."
   ],
   "id": "9b03ef35266057fc"
  },
  {
   "metadata": {},
   "cell_type": "markdown",
   "source": [
    "### Øvelser\n",
    "\n",
    "Udfør de næste celler en af gangen. Før du udfører en celle, regn resultatet ud på forhånd. Når du får et uventet resultat, find ud af hvorfor.\n",
    "Leg gerne med cellerne. Forandre dem og udfør dem igen.\n",
    "Du kan også tilføje nye celler."
   ],
   "id": "270a81e6-f134-41cd-9663-527e386d3bd7"
  },
  {
   "metadata": {},
   "cell_type": "markdown",
   "source": "##### Arithmetic operators",
   "id": "a9374133-6f28-460a-a60c-fd0ed7b7a16f"
  },
  {
   "metadata": {
    "ExecuteTime": {
     "end_time": "2025-03-28T13:40:29.678545Z",
     "start_time": "2025-03-28T13:40:29.676111Z"
    }
   },
   "cell_type": "code",
   "source": [
    "a = 5\n",
    "b = 13\n",
    "print(a * b)  # addition"
   ],
   "id": "a108bf01-fcbd-4c38-b83f-5f024df30905",
   "outputs": [
    {
     "name": "stdout",
     "output_type": "stream",
     "text": [
      "65\n"
     ]
    }
   ],
   "execution_count": 124
  },
  {
   "metadata": {
    "ExecuteTime": {
     "end_time": "2025-03-28T13:40:29.707256Z",
     "start_time": "2025-03-28T13:40:29.704254Z"
    }
   },
   "cell_type": "code",
   "source": [
    "c = a - b  # subtraction\n",
    "print(c * c)  #  multiplication"
   ],
   "id": "59db67af-d779-40c6-80df-be4d5e900320",
   "outputs": [
    {
     "name": "stdout",
     "output_type": "stream",
     "text": [
      "64\n"
     ]
    }
   ],
   "execution_count": 125
  },
  {
   "metadata": {
    "ExecuteTime": {
     "end_time": "2025-03-28T13:40:29.724606Z",
     "start_time": "2025-03-28T13:40:29.721728Z"
    }
   },
   "cell_type": "code",
   "source": "print(a % b)  # remainder (sometimes called modulo)",
   "id": "74e745c2-b8f0-47d8-8b8e-527b22938ac6",
   "outputs": [
    {
     "name": "stdout",
     "output_type": "stream",
     "text": [
      "5\n"
     ]
    }
   ],
   "execution_count": 126
  },
  {
   "metadata": {
    "ExecuteTime": {
     "end_time": "2025-03-28T13:40:29.739171Z",
     "start_time": "2025-03-28T13:40:29.735719Z"
    }
   },
   "cell_type": "code",
   "source": "print(c)",
   "id": "b3430d31-eab1-48ea-8b98-91d154acdfc3",
   "outputs": [
    {
     "name": "stdout",
     "output_type": "stream",
     "text": [
      "-8\n"
     ]
    }
   ],
   "execution_count": 127
  },
  {
   "metadata": {
    "ExecuteTime": {
     "end_time": "2025-03-28T13:40:29.755084Z",
     "start_time": "2025-03-28T13:40:29.752078Z"
    }
   },
   "cell_type": "code",
   "source": "print(c % c)",
   "id": "9d74ec87-b260-4a48-b259-8d46cfebb139",
   "outputs": [
    {
     "name": "stdout",
     "output_type": "stream",
     "text": [
      "0\n"
     ]
    }
   ],
   "execution_count": 128
  },
  {
   "metadata": {
    "ExecuteTime": {
     "end_time": "2025-03-28T13:40:29.772086Z",
     "start_time": "2025-03-28T13:40:29.768140Z"
    }
   },
   "cell_type": "code",
   "source": "print(a ** c)  # exponentiation",
   "id": "0bf968c0-c507-4712-8006-64433a565dbc",
   "outputs": [
    {
     "name": "stdout",
     "output_type": "stream",
     "text": [
      "2.56e-06\n"
     ]
    }
   ],
   "execution_count": 129
  },
  {
   "metadata": {
    "ExecuteTime": {
     "end_time": "2025-03-28T13:40:29.787415Z",
     "start_time": "2025-03-28T13:40:29.784250Z"
    }
   },
   "cell_type": "code",
   "source": [
    "print(a / c)  # division\n",
    "print(type(a / c))"
   ],
   "id": "9feb4ae4-3a5c-4909-b8de-62157a38a748",
   "outputs": [
    {
     "name": "stdout",
     "output_type": "stream",
     "text": [
      "-0.625\n",
      "<class 'float'>\n"
     ]
    }
   ],
   "execution_count": 130
  },
  {
   "metadata": {
    "ExecuteTime": {
     "end_time": "2025-03-28T13:40:29.803590Z",
     "start_time": "2025-03-28T13:40:29.801363Z"
    }
   },
   "cell_type": "code",
   "source": [
    "print(a // c)  # floor division\n",
    "print(type(a // c))"
   ],
   "id": "09730287-1466-4112-b054-a303a7610cc2",
   "outputs": [
    {
     "name": "stdout",
     "output_type": "stream",
     "text": [
      "-1\n",
      "<class 'int'>\n"
     ]
    }
   ],
   "execution_count": 131
  },
  {
   "metadata": {
    "ExecuteTime": {
     "end_time": "2025-03-28T13:40:29.823053Z",
     "start_time": "2025-03-28T13:40:29.819809Z"
    }
   },
   "cell_type": "code",
   "source": [
    "d = 17\n",
    "d += 5\n",
    "print(d)\n",
    "d -= 18\n",
    "print(d)"
   ],
   "id": "8a5a5ae4-e8ff-4acc-bf0f-b0e9b116def4",
   "outputs": [
    {
     "name": "stdout",
     "output_type": "stream",
     "text": [
      "22\n",
      "4\n"
     ]
    }
   ],
   "execution_count": 132
  },
  {
   "metadata": {},
   "cell_type": "markdown",
   "source": "##### Comparison operators",
   "id": "33562149-3db4-4ce9-8195-49cdcad9bd4d"
  },
  {
   "metadata": {
    "ExecuteTime": {
     "end_time": "2025-03-28T13:40:29.832915Z",
     "start_time": "2025-03-28T13:40:29.829888Z"
    }
   },
   "cell_type": "code",
   "source": "print(4 > 3)",
   "id": "0adef621-332b-411f-9606-8dcc7bb57c31",
   "outputs": [
    {
     "name": "stdout",
     "output_type": "stream",
     "text": [
      "True\n"
     ]
    }
   ],
   "execution_count": 133
  },
  {
   "metadata": {
    "ExecuteTime": {
     "end_time": "2025-03-28T13:40:29.846152Z",
     "start_time": "2025-03-28T13:40:29.842799Z"
    }
   },
   "cell_type": "code",
   "source": "print(4 == 3)",
   "id": "9d314ca2-2711-48a7-85a5-b4fad69b3918",
   "outputs": [
    {
     "name": "stdout",
     "output_type": "stream",
     "text": [
      "False\n"
     ]
    }
   ],
   "execution_count": 134
  },
  {
   "metadata": {
    "ExecuteTime": {
     "end_time": "2025-03-28T13:40:29.866503Z",
     "start_time": "2025-03-28T13:40:29.863582Z"
    }
   },
   "cell_type": "code",
   "source": "print(4 != 3)",
   "id": "405fdc10-aaf1-4b6f-ad0d-b71aa00bc851",
   "outputs": [
    {
     "name": "stdout",
     "output_type": "stream",
     "text": [
      "True\n"
     ]
    }
   ],
   "execution_count": 135
  },
  {
   "metadata": {
    "ExecuteTime": {
     "end_time": "2025-03-28T13:40:29.880392Z",
     "start_time": "2025-03-28T13:40:29.877354Z"
    }
   },
   "cell_type": "code",
   "source": "print(4 <= 3)",
   "id": "80250681-cd9d-4910-b338-2a8dbc120992",
   "outputs": [
    {
     "name": "stdout",
     "output_type": "stream",
     "text": [
      "False\n"
     ]
    }
   ],
   "execution_count": 136
  },
  {
   "metadata": {},
   "cell_type": "markdown",
   "source": "##### Boolean  operators",
   "id": "c7977f72-6410-4b2a-8474-2bdb8902e7db"
  },
  {
   "metadata": {
    "ExecuteTime": {
     "end_time": "2025-03-28T13:40:29.895288Z",
     "start_time": "2025-03-28T13:40:29.892370Z"
    }
   },
   "cell_type": "code",
   "source": "print(not True)",
   "id": "abfe3d6f-bb54-467e-b818-311941bb1487",
   "outputs": [
    {
     "name": "stdout",
     "output_type": "stream",
     "text": [
      "False\n"
     ]
    }
   ],
   "execution_count": 137
  },
  {
   "metadata": {
    "ExecuteTime": {
     "end_time": "2025-03-28T13:40:29.912133Z",
     "start_time": "2025-03-28T13:40:29.909234Z"
    }
   },
   "cell_type": "code",
   "source": "print(True or False)",
   "id": "ce4ce199-a24a-4d7e-9de4-b4008bef17c2",
   "outputs": [
    {
     "name": "stdout",
     "output_type": "stream",
     "text": [
      "True\n"
     ]
    }
   ],
   "execution_count": 138
  },
  {
   "metadata": {
    "ExecuteTime": {
     "end_time": "2025-03-28T13:40:29.920434Z",
     "start_time": "2025-03-28T13:40:29.917139Z"
    }
   },
   "cell_type": "code",
   "source": "print(True and False)",
   "id": "fad7fa92-6f23-4ae1-9a3b-1433eefd5007",
   "outputs": [
    {
     "name": "stdout",
     "output_type": "stream",
     "text": [
      "False\n"
     ]
    }
   ],
   "execution_count": 139
  },
  {
   "metadata": {
    "ExecuteTime": {
     "end_time": "2025-03-28T13:40:29.938158Z",
     "start_time": "2025-03-28T13:40:29.934962Z"
    }
   },
   "cell_type": "code",
   "source": [
    "bool1 = 5 <= 2\n",
    "bool2 = True\n",
    "print(bool1, bool2)"
   ],
   "id": "41ca3724-e12c-429f-be1b-83015b2ae584",
   "outputs": [
    {
     "name": "stdout",
     "output_type": "stream",
     "text": [
      "False True\n"
     ]
    }
   ],
   "execution_count": 140
  },
  {
   "metadata": {
    "ExecuteTime": {
     "end_time": "2025-03-28T13:40:29.954539Z",
     "start_time": "2025-03-28T13:40:29.951528Z"
    }
   },
   "cell_type": "code",
   "source": "print(bool1 or bool2)",
   "id": "90900c5a-e15c-487a-8f3c-161a686cfff5",
   "outputs": [
    {
     "name": "stdout",
     "output_type": "stream",
     "text": [
      "True\n"
     ]
    }
   ],
   "execution_count": 141
  },
  {
   "metadata": {},
   "cell_type": "markdown",
   "source": "##### The in operator",
   "id": "4586e459-3d95-4c91-b95d-0f8e5b2eb8a7"
  },
  {
   "metadata": {
    "ExecuteTime": {
     "end_time": "2025-03-28T13:40:29.968125Z",
     "start_time": "2025-03-28T13:40:29.964776Z"
    }
   },
   "cell_type": "code",
   "source": [
    "numbers = [3, 1, 8]\n",
    "print(\"numbers has type\", type(numbers))\n",
    "print(2 in numbers)"
   ],
   "id": "78928854-b594-49bd-9dca-ca3b3ce6bfd2",
   "outputs": [
    {
     "name": "stdout",
     "output_type": "stream",
     "text": [
      "numbers has type <class 'list'>\n",
      "False\n"
     ]
    }
   ],
   "execution_count": 142
  },
  {
   "metadata": {
    "ExecuteTime": {
     "end_time": "2025-03-28T13:40:29.982973Z",
     "start_time": "2025-03-28T13:40:29.979989Z"
    }
   },
   "cell_type": "code",
   "source": "print(3 in numbers)",
   "id": "f9acade0-98a2-4e31-a6e8-7cba0eb07e04",
   "outputs": [
    {
     "name": "stdout",
     "output_type": "stream",
     "text": [
      "True\n"
     ]
    }
   ],
   "execution_count": 143
  },
  {
   "metadata": {},
   "cell_type": "markdown",
   "source": [
    "Forstod/løste du alle opgaver på denne side?\n",
    "Ellers spørg [W3schools](https://www.w3schools.com/python/), [Google](https://www.google.com),\n",
    "[Perplexity](https://perplexity.ai), andre elever eller læreren.\n",
    "\n",
    "Arbejd videre med den næste Jupyter Notebook."
   ],
   "id": "94c2b297a7991ed3"
  },
  {
   "metadata": {},
   "cell_type": "markdown",
   "source": "##### Læs afsnittet \"Operators in Python\". Linket på websiden virker pt. ikke, men det er det afsnit umiddelbart efter [\"Data Types in Python\"](https://www.freecodecamp.org/news/the-python-handbook/#heading-data-types-in-python)  (klik på linket)",
   "id": "0b6d1a3a-ffa3-4e86-a216-58074a6818e2"
  }
 ],
 "metadata": {
  "kernelspec": {
   "display_name": "Python 3 (ipykernel)",
   "language": "python",
   "name": "python3"
  },
  "language_info": {
   "codemirror_mode": {
    "name": "ipython",
    "version": 3
   },
   "file_extension": ".py",
   "mimetype": "text/x-python",
   "name": "python",
   "nbconvert_exporter": "python",
   "pygments_lexer": "ipython3",
   "version": "3.11.3"
  },
  "toc-autonumbering": false,
  "toc-showcode": false,
  "toc-showmarkdowntxt": false,
  "toc-showtags": false
 },
 "nbformat": 4,
 "nbformat_minor": 5
}
