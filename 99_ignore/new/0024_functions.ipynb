{
 "cells": [
  {
   "cell_type": "markdown",
   "id": "03fbec3e-7c5b-4e64-8a0b-5128293d4932",
   "metadata": {},
   "source": "## Funktioner (Functions)"
  },
  {
   "metadata": {},
   "cell_type": "markdown",
   "source": [
    "En funktion lader os oprette et sæt instruktioner, som vi kan køre efter behov.\n",
    "\n",
    "Funktioner er essentielle i Python og i mange andre programmeringssprog. De hjælper os med at skabe meningsfulde programmer, fordi de tillader os at opdele et program i håndterbare dele, og de fremmer læsbarhed og genbrug af kode.\n",
    "\n",
    "Her er et eksempel på en funktion kaldet `hello`, der udskriver \"Hello!\":"
   ],
   "id": "e975c114956dfda3"
  },
  {
   "metadata": {},
   "cell_type": "code",
   "outputs": [],
   "execution_count": null,
   "source": [
    "def hello():\n",
    "    print('Hello!')"
   ],
   "id": "4dce47a7239d193d"
  },
  {
   "metadata": {},
   "cell_type": "markdown",
   "source": [
    "Dette er funktionsdefinitionen. Der er et navn (`hello`) og en krop, sættet af instruktioner, som er den del, der følger efter kolonet. Den er indrykket et niveau til højre.\n",
    "\n",
    "For at køre denne funktion skal vi kalde den. Dette er syntaksen for at kalde funktionen:"
   ],
   "id": "fad56042f93e4324"
  },
  {
   "metadata": {},
   "cell_type": "code",
   "outputs": [],
   "execution_count": null,
   "source": "hello()",
   "id": "92ac1e4059c72b7e"
  },
  {
   "metadata": {},
   "cell_type": "markdown",
   "source": [
    "Vi kan udføre denne funktion én gang eller flere gange.\n",
    "\n",
    "Navnet på funktionen, `hello`, er meget vigtigt. Det bør være beskrivende, så enhver, der kalder den, kan forestille sig, hvad funktionen gør.\n",
    "\n",
    "En funktion kan acceptere en eller flere parametre:"
   ],
   "id": "75cf0fdbf9e36b7f"
  },
  {
   "metadata": {},
   "cell_type": "code",
   "outputs": [],
   "execution_count": null,
   "source": [
    "def hello(name):\n",
    "    print('Hello ' + name + '!')"
   ],
   "id": "c5b59362a7c9dca7"
  },
  {
   "metadata": {},
   "cell_type": "markdown",
   "source": "I dette tilfælde kalder vi funktionen ved at sende argumentet:",
   "id": "35303baabdda7bd2"
  },
  {
   "metadata": {},
   "cell_type": "code",
   "outputs": [],
   "execution_count": null,
   "source": "hello('Roger')",
   "id": "9b8a1232a1adf979"
  },
  {
   "metadata": {},
   "cell_type": "markdown",
   "source": [
    "Vi kalder de værdier, som funktionen accepterer inde i funktionsdefinitionen, for parametre, og de værdier, vi sender til funktionen, når vi kalder den, for argumenter. Det er almindeligt at blive forvirret over denne skelnen.\n",
    "\n",
    "Et argument kan have en standardværdi, der anvendes, hvis argumentet ikke er specificeret:"
   ],
   "id": "371532d53d09dacc"
  },
  {
   "metadata": {},
   "cell_type": "code",
   "outputs": [],
   "execution_count": null,
   "source": [
    "def hello(name='my friend'):\n",
    "    print('Hello ' + name + '!')\n",
    "\n",
    "hello()\n",
    "#Hello my friend!"
   ],
   "id": "addb4d1ea02e14cb"
  },
  {
   "metadata": {},
   "cell_type": "markdown",
   "source": "Sådan kan vi acceptere flere parametre:",
   "id": "d69a5098b104206"
  },
  {
   "metadata": {},
   "cell_type": "markdown",
   "source": [
    "def hello(name, age):\n",
    "    print('Hello ' + name + ', you are ' + str(age) + ' years old!')"
   ],
   "id": "418018b881c3450a"
  },
  {
   "metadata": {},
   "cell_type": "markdown",
   "source": "I dette tilfælde kalder vi funktionen ved at sende et sæt argumenter:",
   "id": "168a9f6f74fdf996"
  },
  {
   "metadata": {},
   "cell_type": "code",
   "outputs": [],
   "execution_count": null,
   "source": "hello('Roger', 8)",
   "id": "8a3ad4a38ac75973"
  },
  {
   "metadata": {},
   "cell_type": "markdown",
   "source": "Parametre sendes som reference. Alle typer i Python er objekter, men nogle af dem er uforanderlige, herunder heltal, boolske værdier, flydende tal, strenge og tupler. Dette betyder, at hvis du sender dem som parametre og ændrer deres værdi inde i funktionen, afspejles den nye værdi ikke uden for funktionen:",
   "id": "673e6dc7c8dc990"
  },
  {
   "metadata": {},
   "cell_type": "code",
   "outputs": [],
   "execution_count": null,
   "source": [
    "def change(value):\n",
    "    value = 2\n",
    "\n",
    "val = 1\n",
    "change(val)\n",
    "\n",
    "print(val) #1"
   ],
   "id": "5028ac7e9d211f02"
  },
  {
   "metadata": {},
   "cell_type": "markdown",
   "source": [
    "Hvis du sender et objekt, der ikke er uforanderligt, og du ændrer en af dets egenskaber, vil ændringen blive afspejlet udenfor.\n",
    "\n",
    "En funktion kan returnere en værdi ved hjælp af `return`-erklæringen. For eksempel returnerer vi i dette tilfælde navneparameteren `name`:"
   ],
   "id": "e8271f514a34214b"
  },
  {
   "metadata": {},
   "cell_type": "code",
   "outputs": [],
   "execution_count": null,
   "source": [
    "def hello(name):\n",
    "    print('Hello ' + name + '!')\n",
    "    return name"
   ],
   "id": "acc669606f78ce0"
  },
  {
   "metadata": {},
   "cell_type": "markdown",
   "source": [
    "Når funktionen møder `return`-erklæringen, slutter funktionen.\n",
    "\n",
    "Vi kan udelade værdien:"
   ],
   "id": "812aaf5d5e1f1022"
  },
  {
   "metadata": {},
   "cell_type": "code",
   "outputs": [],
   "execution_count": null,
   "source": [
    "def hello(name):\n",
    "    print('Hello ' + name + '!')\n",
    "    return"
   ],
   "id": "20c311b41a600a2f"
  },
  {
   "metadata": {},
   "cell_type": "markdown",
   "source": "Vi kan have `return`-erklæringen inde i en betingelse, hvilket er en almindelig måde at afslutte en funktion på, hvis en startbetingelse ikke er opfyldt:",
   "id": "fc9170673d2fdeb6"
  },
  {
   "metadata": {},
   "cell_type": "code",
   "outputs": [],
   "execution_count": null,
   "source": [
    "def hello(name):\n",
    "    if not name:\n",
    "        return\n",
    "    print('Hello ' + name + '!')"
   ],
   "id": "4c991d3805b03cdc"
  },
  {
   "metadata": {},
   "cell_type": "markdown",
   "source": [
    "Hvis vi kalder funktionen ved at sende en værdi, der evalueres til False, som en tom streng, afsluttes funktionen, før den når `print()`-erklæringen.\n",
    "\n",
    "Du kan returnere flere værdier ved at bruge kommaseparerede værdier:"
   ],
   "id": "86a70d2aad472af9"
  },
  {
   "metadata": {},
   "cell_type": "code",
   "outputs": [],
   "execution_count": null,
   "source": [
    "def hello(name):\n",
    "    print('Hello ' + name + '!')\n",
    "    return name, 'Roger', 8"
   ],
   "id": "dc4640f71579857f"
  },
  {
   "metadata": {},
   "cell_type": "markdown",
   "source": "I dette tilfælde vil et kald til `hello('Syd')` returnere en tupel, der indeholder disse 3 værdier: `('Syd', 'Roger', 8)`.",
   "id": "bba82810bbde27dc"
  },
  {
   "metadata": {},
   "cell_type": "markdown",
   "source": "### Øvelser",
   "id": "947db0eb37fd287b"
  },
  {
   "cell_type": "code",
   "execution_count": null,
   "id": "712d0d66-5e4a-4c0f-812f-e7f5a4b7e1e3",
   "metadata": {},
   "outputs": [],
   "source": [
    "def hello():\n",
    "    print(\"hello world\")\n",
    "\n",
    "\n",
    "def type_something():\n",
    "    user_input = input(\"click into the console window, then type something and press <return>:  \")\n",
    "    print(\"You typed: \" + user_input)"
   ]
  },
  {
   "cell_type": "markdown",
   "id": "6899002e-7bb0-487a-95a9-f574463dc388",
   "metadata": {},
   "source": "Skriv et program i den næste celle, som kalder først funktionen hello og derefter funktionen type_something. Test det. "
  },
  {
   "cell_type": "code",
   "execution_count": null,
   "id": "182f0901-114f-4fc0-b1ed-0ffa2ff72694",
   "metadata": {},
   "outputs": [],
   "source": [
    "# Skriv dit program herinde\n"
   ]
  },
  {
   "cell_type": "markdown",
   "id": "52ea536e-22d6-4479-bb35-217a00c95564",
   "metadata": {},
   "source": [
    "Korriger funktionen i den næste celle og test det med hjælp af den næstfølgende celle."
   ]
  },
  {
   "cell_type": "code",
   "execution_count": null,
   "id": "62aa0d8d-774e-4101-8a30-bde488972b84",
   "metadata": {},
   "outputs": [],
   "source": [
    "def multiply(number1, number2):  # multiplies number1 and number2\n",
    "    return number1 + 3"
   ]
  },
  {
   "cell_type": "markdown",
   "id": "fa764893-fe16-4c78-8e7f-495f8e698a54",
   "metadata": {},
   "source": [
    "number1 og number2 i den sidste celle kalder man __funktionens parametre__.  \n",
    "5 og 4 i den næste celle kalder man __argumenterne__.  \n",
    "Når man opkalder en funktion,  får parametrene argumenternes værdier.  "
   ]
  },
  {
   "cell_type": "code",
   "execution_count": null,
   "id": "fe9b179c-5e1d-4419-9296-c1fecbcc6bec",
   "metadata": {},
   "outputs": [],
   "source": [
    "multiply(5, 4)  # result should be 20"
   ]
  },
  {
   "cell_type": "markdown",
   "id": "66c2e14b-b8fc-409b-82ea-8a2903d19ab0",
   "metadata": {},
   "source": [
    " I den næste celle, skriv en funktion med navnet \"sign\".   \n",
    " Funktionen har en parameter \"number\" og returnerer teksten \"positive\", \"null\" eller \"negative\", afhængig af parameterens fortegn.    "
   ]
  },
  {
   "cell_type": "code",
   "execution_count": null,
   "id": "3e6f05e2-6bf6-4ba7-8d02-985d994438db",
   "metadata": {},
   "outputs": [],
   "source": [
    "# Skriv din funktion herinde og udfør cellen\n",
    "# Derefter udfør den næste celle.\n"
   ]
  },
  {
   "cell_type": "code",
   "execution_count": null,
   "id": "946c287f-26f6-468b-8654-068fcab0e411",
   "metadata": {},
   "outputs": [],
   "source": [
    "# Udføre denne celle for at teste din funktion sign() i den forrige celle.\n",
    "# Funktionen \"check\" opkalder din funktion \"sign\".\n",
    "def check(test_number):\n",
    "    print(test_number, \"is\", sign(test_number))\n",
    "\n",
    "check(-6)\n",
    "check(44)\n",
    "check(0)"
   ]
  },
  {
   "cell_type": "code",
   "execution_count": null,
   "id": "4dc765f6-4425-4647-ac66-8ddecad20073",
   "metadata": {},
   "outputs": [],
   "source": [
    "def add(number1, number2=0, number3=0):  # Adds 3 numbers. The second and third parameter is optional and has a default value.\n",
    "    print(number1 + number2 + number3)"
   ]
  },
  {
   "cell_type": "markdown",
   "id": "f0d5aca7-f647-4dcf-9962-76f22b67531d",
   "metadata": {},
   "source": [
    "Udfør den næste celle. Forstå fejlmeldinger. Udkommenter fejlagtige  kodelinjer og udfør cellen igen."
   ]
  },
  {
   "cell_type": "code",
   "execution_count": null,
   "id": "4e1e0607-9189-4530-b8f4-174ac10673df",
   "metadata": {},
   "outputs": [],
   "source": [
    "add()\n",
    "add(5)\n",
    "add(3, 7)\n",
    "add(3, 7, 6)\n",
    "add(2, 6, 8, 10)"
   ]
  },
  {
   "cell_type": "markdown",
   "id": "182e5e97-f07c-4f80-9ee4-23960454dae1",
   "metadata": {},
   "source": [
    "##### Required positional parameters and optional parameters"
   ]
  },
  {
   "cell_type": "markdown",
   "id": "b29b19f3-ac80-487c-ba0c-6f0ac0d8fb91",
   "metadata": {},
   "source": [
    "Som udgangspunkt er funktionsparametre i Python obligatorisk (required) og parametrenes rækkefølge er relevant (positional).  \n",
    "Optionale parametre markeres ganske enkelt med default værdier.  \n",
    "Alle obligatoriske parametre skal dog komme før den første optionale parameter.  \n",
    "Når man kalder en funktion angives de optionale parametres navne."
   ]
  },
  {
   "cell_type": "code",
   "execution_count": null,
   "id": "2982de81-2630-493f-b3f7-79d7cbc272e3",
   "metadata": {},
   "outputs": [],
   "source": [
    "def examplefunction(a, b, c=0, d=\"optional\"):\n",
    "    print(a, b, c, d)"
   ]
  },
  {
   "cell_type": "markdown",
   "id": "cba95c87-7620-4df4-860e-9abeaa0333d1",
   "metadata": {},
   "source": [
    "Udfør de næste celler en af gangen. Før du udfører en celle, regn resultatet ud på forhånd. Når du får et uventet resultat, find ud af hvorfor.\n",
    "Leg gerne med cellerne. Forandre dem og udfør dem igen. Du kan også tilføje nye celler."
   ]
  },
  {
   "cell_type": "code",
   "execution_count": null,
   "id": "7fdbb359-15de-466b-9b50-b8074db6cfa8",
   "metadata": {},
   "outputs": [],
   "source": [
    "examplefunction(8, \"hello\")"
   ]
  },
  {
   "cell_type": "code",
   "execution_count": null,
   "id": "34072cdf-9b78-458d-9f49-c9ee41878d9b",
   "metadata": {},
   "outputs": [],
   "source": [
    "examplefunction(817, 43, d=14)"
   ]
  },
  {
   "cell_type": "code",
   "execution_count": null,
   "id": "ee727013-81fb-4c18-9961-b721fc5f5bdc",
   "metadata": {},
   "outputs": [],
   "source": [
    "examplefunction(817, 43, c=14)"
   ]
  },
  {
   "cell_type": "code",
   "execution_count": null,
   "id": "0e7e84cd-b566-4687-84ec-64ecef43d379",
   "metadata": {},
   "outputs": [],
   "source": [
    "examplefunction(c=817, 43, 14)"
   ]
  },
  {
   "cell_type": "code",
   "execution_count": null,
   "id": "e2d2137b-0a46-4924-9533-2954ea77011d",
   "metadata": {},
   "outputs": [],
   "source": [
    "examplefunction(817, c=43, d=14)"
   ]
  },
  {
   "metadata": {},
   "cell_type": "markdown",
   "source": [
    "Forstod/løste du alle opgaver på denne side?\n",
    "Ellers spørg [W3schools](https://www.w3schools.com/python/), [Google](https://www.google.com),\n",
    "[Perplexity](https://perplexity.ai), andre elever eller læreren.\n",
    "\n",
    "Arbejd videre med den næste Jupyter Notebook."
   ],
   "id": "718b56f04d792b34"
  }
 ],
 "metadata": {
  "kernelspec": {
   "display_name": "Python 3 (ipykernel)",
   "language": "python",
   "name": "python3"
  },
  "language_info": {
   "codemirror_mode": {
    "name": "ipython",
    "version": 3
   },
   "file_extension": ".py",
   "mimetype": "text/x-python",
   "name": "python",
   "nbconvert_exporter": "python",
   "pygments_lexer": "ipython3",
   "version": "3.10.7"
  }
 },
 "nbformat": 4,
 "nbformat_minor": 5
}
