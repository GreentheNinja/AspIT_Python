{
 "cells": [
  {
   "cell_type": "markdown",
   "id": "03fbec3e-7c5b-4e64-8a0b-5128293d4932",
   "metadata": {},
   "source": "## Lister (lists)"
  },
  {
   "metadata": {},
   "cell_type": "markdown",
   "source": "Lister tillader dig at gruppere flere værdier sammen og referere til dem alle med et fælles navn:",
   "id": "5759b6f5e5328b09"
  },
  {
   "metadata": {},
   "cell_type": "code",
   "source": "names = [\"Hans\", \"Gitte\"]",
   "id": "889acc23e5b84c52",
   "outputs": [],
   "execution_count": null
  },
  {
   "metadata": {},
   "cell_type": "markdown",
   "source": "En liste kan indeholde værdier af forskellige typer:",
   "id": "a264d95ea29b4c09"
  },
  {
   "metadata": {},
   "cell_type": "code",
   "source": "items = [\"Hans\", 1, \"Gitte\", True]",
   "id": "f9e57ce814da296a",
   "outputs": [],
   "execution_count": null
  },
  {
   "metadata": {},
   "cell_type": "markdown",
   "source": [
    "Du kan tjekke, om et element er indeholdt i en liste med `in`-operatoren.\n",
    "\n",
    "(Husk at udføre den forrige celle, før du udfører den næste, ellers er variablen `items` ikke defineret, og du vil få en fejlmeddelelse.)"
   ],
   "id": "3bdcc5952ca4b2fd"
  },
  {
   "metadata": {},
   "cell_type": "code",
   "source": "print(\"Hans\" in items)",
   "id": "a992e3bf55eb9dda",
   "outputs": [],
   "execution_count": null
  },
  {
   "metadata": {},
   "cell_type": "markdown",
   "source": [
    "\n",
    "En liste kan også defineres som tom:"
   ],
   "id": "7fbdf65831613f61"
  },
  {
   "metadata": {},
   "cell_type": "code",
   "source": [
    "empty_list = []\n",
    "print(f\"{empty_list = }\")"
   ],
   "id": "6306e1ee040c113c",
   "outputs": [],
   "execution_count": null
  },
  {
   "metadata": {},
   "cell_type": "markdown",
   "source": "Du kan referere til elementerne i en liste ved deres indeks, startende fra nul:",
   "id": "a2cde6aa839ed5bd"
  },
  {
   "metadata": {},
   "cell_type": "code",
   "source": [
    "print(f\"{items[0] = }\")\n",
    "print(f\"{items[1] = }\")\n",
    "print(f\"{items[3] = }\")"
   ],
   "id": "bad161307a015b93",
   "outputs": [],
   "execution_count": null
  },
  {
   "metadata": {},
   "cell_type": "markdown",
   "source": "Ved at bruge samme notation kan du ændre værdien gemt på et specifikt indeks:",
   "id": "2a8a694765cc0447"
  },
  {
   "metadata": {},
   "cell_type": "code",
   "source": [
    "items[0] = \"Jesper\"\n",
    "print(f\"{items = }\")"
   ],
   "id": "cdce7e7f9954f5ab",
   "outputs": [],
   "execution_count": null
  },
  {
   "metadata": {},
   "cell_type": "markdown",
   "source": "Ligesom med strenge vil brug af et negativt indeks starte søgningen fra slutningen:",
   "id": "29a9802c5c534ff5"
  },
  {
   "metadata": {},
   "cell_type": "code",
   "source": "print(f\"{items[-1] = }\")",
   "id": "c7a25fc2f8ad99f3",
   "outputs": [],
   "execution_count": null
  },
  {
   "metadata": {},
   "cell_type": "markdown",
   "source": "Du kan også udtrække en del af en liste ved hjælp af _slices_:",
   "id": "6b93570c7484ff93"
  },
  {
   "metadata": {},
   "cell_type": "code",
   "source": [
    "print(f\"{items[0:2] = }\")\n",
    "print(f\"{items[2:] = }\")"
   ],
   "id": "3d2c0b1770e108c9",
   "outputs": [],
   "execution_count": null
  },
  {
   "metadata": {},
   "cell_type": "markdown",
   "source": "Få antallet af elementer i en liste ved hjælp af funktionen `len()`, den samme vi brugte til at få længden af en streng:",
   "id": "9af86110e88e2a74"
  },
  {
   "metadata": {},
   "cell_type": "code",
   "source": "print(f\"{len(items) = }\")",
   "id": "2c9ec7291e64eaa7",
   "outputs": [],
   "execution_count": null
  },
  {
   "metadata": {},
   "cell_type": "markdown",
   "source": "Du kan tilføje elementer til listen ved at bruge listens `append()`-metode:",
   "id": "734d858bd95a6292"
  },
  {
   "metadata": {},
   "cell_type": "code",
   "source": [
    "items.append(\"Test\")\n",
    "print(f\"{items = }\")"
   ],
   "id": "5da6d179a52dd2c7",
   "outputs": [],
   "execution_count": null
  },
  {
   "metadata": {},
   "cell_type": "markdown",
   "source": "Eller brug `extend()`-metoden hvis du vil tilføje flere elementer samtidigt:",
   "id": "98ce3ee695d05aca"
  },
  {
   "metadata": {},
   "cell_type": "code",
   "source": [
    "items.extend([33, 44, \"Hej\"])\n",
    "print(f\"{items = }\")"
   ],
   "id": "3ec8b0f13b36e845",
   "outputs": [],
   "execution_count": null
  },
  {
   "metadata": {},
   "cell_type": "markdown",
   "source": "Du kan også bruge `+=`-operatoren:",
   "id": "8a39a915277d5428"
  },
  {
   "metadata": {},
   "cell_type": "code",
   "source": [
    "items += [\"xxx\"]\n",
    "print(f\"{items = }\")"
   ],
   "id": "7b087ea974df414c",
   "outputs": [],
   "execution_count": null
  },
  {
   "metadata": {},
   "cell_type": "markdown",
   "source": [
    "Tip: Med `extend()` eller `+=` skal du ikke glemme de firkantede parenteser. Lad være med at gøre `items += \"Test\"` eller `items.extend(\"Test\")`, ellers vil Python tilføje 4 individuelle tegn til listen, hvilket resulterer i `['Hans', 1, 'Gitte', True, 'T', 'e', 's', 't']`\n",
    "\n",
    "Fjern et element ved hjælp af `remove()`-metoden:"
   ],
   "id": "41a7395a6b8d2cd4"
  },
  {
   "metadata": {},
   "cell_type": "code",
   "source": [
    "items.remove(\"Test\")\n",
    "items.remove(33)\n",
    "items.remove(\"Gitte\")\n",
    "print(f\"{items = }\")  # removes the first element which is equal to \"Test\""
   ],
   "id": "76fa5fca4e6caabf",
   "outputs": [],
   "execution_count": null
  },
  {
   "metadata": {},
   "cell_type": "markdown",
   "source": "Funktionen `index` giver dig indekset for den første forekomst af en element i listen:",
   "id": "984cc464e8023be9"
  },
  {
   "metadata": {},
   "cell_type": "code",
   "source": "items.index('Hej')",
   "id": "6332a776ae52162",
   "outputs": [],
   "execution_count": null
  },
  {
   "metadata": {},
   "cell_type": "markdown",
   "source": [
    "`append`, `extend` og `+=` tilføjer elementer til slutningen af listen.\n",
    "\n",
    "For at tilføje et element i midten af en liste, på et specifikt indeks, skal du bruge `insert()`-metoden:"
   ],
   "id": "d8bdc3c357ad215b"
  },
  {
   "metadata": {},
   "cell_type": "code",
   "source": [
    "items.insert(2, \"Test\") # tilføj \"Test\" ved indeks 2\n",
    "print(f\"{items = }\")"
   ],
   "id": "4d22297880ee2cc8",
   "outputs": [],
   "execution_count": null
  },
  {
   "metadata": {},
   "cell_type": "markdown",
   "source": "Sortér en liste ved hjælp af `sort()`-metoden:",
   "id": "a2c9647ff31b646f"
  },
  {
   "metadata": {},
   "cell_type": "code",
   "source": [
    "some_numbers = [2, 6, 1, 18, 4, -3]\n",
    "print(f\"Before: {some_numbers = }\")\n",
    "some_numbers.sort()\n",
    "print(f\"After:  {some_numbers = }\")"
   ],
   "id": "dde0cd85081f8982",
   "outputs": [],
   "execution_count": null
  },
  {
   "metadata": {},
   "cell_type": "markdown",
   "source": "Tip: `sort()` vil kun virke, hvis listen indeholder værdier, der kan sammenlignes. Strenge og heltal kan for eksempel ikke sammenlignes, og du vil få en fejl som `TypeError: '<' not supported between instances of 'int' and 'str'` hvis du prøver.",
   "id": "3baf82d691c3c454"
  },
  {
   "metadata": {},
   "cell_type": "markdown",
   "source": "Sortering med `.sort` ændrer det originale listeindhold. For at undgå dette kan du bruge funktionen `sorted()`, som vil returnere en ny, sorteret liste i stedet for at ændre den originale liste:",
   "id": "d1bf957bea2298c"
  },
  {
   "metadata": {},
   "cell_type": "code",
   "source": [
    "other_numbers = [7, 1, -4, 6]\n",
    "print(f\"Before: {other_numbers = }\")\n",
    "print(f\"{sorted(other_numbers) = }\")\n",
    "print(f\"After: {other_numbers = }\")"
   ],
   "id": "fd7878c74dfc495d",
   "outputs": [],
   "execution_count": null
  },
  {
   "metadata": {},
   "cell_type": "markdown",
   "source": "### Øvelser",
   "id": "5c140bbf518b083c"
  },
  {
   "cell_type": "code",
   "id": "5c1e543d-3070-4b58-ab3d-1914c411ac83",
   "metadata": {},
   "source": [
    "numbers = [5, -2, 4, 17]\n",
    "print(f\"{numbers = }\")"
   ],
   "outputs": [],
   "execution_count": null
  },
  {
   "cell_type": "markdown",
   "id": "dc38709c-551e-4ac0-a0a2-c1df27e5b1f8",
   "metadata": {},
   "source": [
    "Udfør de næste celler en af gangen. Før du udfører en celle, regn resultatet ud på forhånd. Når du får et uventet resultat, find ud af hvorfor.\n",
    "Leg gerne med cellerne. Forandre dem og udfør dem igen. Du kan også tilføje nye celler. "
   ]
  },
  {
   "cell_type": "code",
   "id": "29dc7307-5328-4e87-ac35-077f995a226c",
   "metadata": {},
   "source": "print(f\"{type(numbers) = }\")",
   "outputs": [],
   "execution_count": null
  },
  {
   "cell_type": "code",
   "id": "e5b706e2-11dc-42c3-962b-2d823364f97c",
   "metadata": {},
   "source": "print(f\"{len(numbers) = }\")",
   "outputs": [],
   "execution_count": null
  },
  {
   "cell_type": "code",
   "id": "7535c160-b104-46e6-be63-4973c2fbac3a",
   "metadata": {},
   "source": "print(f\"{17 in numbers = }\")",
   "outputs": [],
   "execution_count": null
  },
  {
   "cell_type": "code",
   "id": "ec5929d7-d6bb-45b4-a6ee-f83d2285a8f3",
   "metadata": {},
   "source": "print(f\"{2 in numbers = }\")",
   "outputs": [],
   "execution_count": null
  },
  {
   "cell_type": "code",
   "id": "c56c6491-b5c6-44d4-bcab-b7f28fd27e72",
   "metadata": {},
   "source": "print(f\"{numbers[0] = }\")",
   "outputs": [],
   "execution_count": null
  },
  {
   "cell_type": "code",
   "id": "e470b330-56d9-4d36-8043-04712e1986ed",
   "metadata": {},
   "source": "print(f\"{numbers[3] = }\")",
   "outputs": [],
   "execution_count": null
  },
  {
   "cell_type": "code",
   "id": "6da378c2-9c96-41cc-a736-8d8408f7f432",
   "metadata": {},
   "source": "print(f\"{numbers[-1] = }\")",
   "outputs": [],
   "execution_count": null
  },
  {
   "cell_type": "code",
   "id": "38fdcae1-0747-443f-8f9d-267211932f17",
   "metadata": {},
   "source": "print(f\"{numbers[:2] = }\")",
   "outputs": [],
   "execution_count": null
  },
  {
   "cell_type": "code",
   "id": "1a02b79f-a61a-4f24-b035-bc9757198bee",
   "metadata": {},
   "source": "print(f\"{numbers[2:] = }\")",
   "outputs": [],
   "execution_count": null
  },
  {
   "cell_type": "code",
   "id": "ca748d7a-2bf9-4128-8e44-6302260b91a5",
   "metadata": {},
   "source": [
    "numbers.append(9)\n",
    "numbers.append(5)\n",
    "print(f\"{numbers = }\")"
   ],
   "outputs": [],
   "execution_count": null
  },
  {
   "cell_type": "code",
   "id": "dd26db4c-0bb5-44f5-8a19-673784327c13",
   "metadata": {},
   "source": "print(f\"{numbers[2:] = }\")",
   "outputs": [],
   "execution_count": null
  },
  {
   "cell_type": "code",
   "id": "6fa91586-87f0-44c7-8582-579e7da902c4",
   "metadata": {},
   "source": "print(f\"{len(numbers) = }\")",
   "outputs": [],
   "execution_count": null
  },
  {
   "cell_type": "code",
   "id": "0f9ab272-b57c-4295-af87-20b5b21de56d",
   "metadata": {},
   "source": "print(f\"{sorted(numbers) = }\")",
   "outputs": [],
   "execution_count": null
  },
  {
   "cell_type": "code",
   "id": "27f09566-5cf7-4085-bc0f-e342e1c3b48b",
   "metadata": {},
   "source": "print(f\"{numbers = }\")",
   "outputs": [],
   "execution_count": null
  },
  {
   "cell_type": "code",
   "id": "06524276-72bc-4937-aaa2-8348993d98ec",
   "metadata": {},
   "source": [
    "numbers.sort()\n",
    "print(f\"{numbers = }\")"
   ],
   "outputs": [],
   "execution_count": null
  },
  {
   "cell_type": "markdown",
   "id": "7e5d1571-55f2-44c8-b800-bd208464020d",
   "metadata": {},
   "source": [
    "Tilføj kode til de følgende celler, sådan at resultatet bliver den udtryk i kommentaren."
   ]
  },
  {
   "cell_type": "code",
   "id": "f3c974bb-21c8-4937-9938-277d320614bc",
   "metadata": {},
   "source": "print(f\"{numbers[] = }\")  # 4",
   "outputs": [],
   "execution_count": null
  },
  {
   "cell_type": "code",
   "id": "11645ba2-3916-40a6-a38f-cd768cd6d919",
   "metadata": {},
   "source": "print(f\"{numbers[] = }\")  # 17",
   "outputs": [],
   "execution_count": null
  },
  {
   "cell_type": "code",
   "id": "5e442f0d-1164-48cb-a9d7-d58c9bd4ac31",
   "metadata": {},
   "source": "print(f\"{numbers[] = }\")  # [5, 5]",
   "outputs": [],
   "execution_count": null
  },
  {
   "cell_type": "code",
   "id": "f5c5502e-8802-424e-a2d6-a43476b09417",
   "metadata": {},
   "source": "print(f\"{numbers[] = }\")  # [5, 9, 17]",
   "outputs": [],
   "execution_count": null
  },
  {
   "cell_type": "code",
   "id": "0d163598-b78d-4da0-a0c8-6b4087c71b57",
   "metadata": {},
   "source": [
    "numbers\n",
    "print(f\"{numbers[] = }\")  # [-2, 4, 5, 5, 9, 17, 3]"
   ],
   "outputs": [],
   "execution_count": null
  },
  {
   "metadata": {},
   "cell_type": "markdown",
   "source": [
    "Forstod/løste du alle opgaver på denne side?\n",
    "Ellers spørg [W3schools](https://www.w3schools.com/python/), [Google](https://www.google.com),\n",
    "[Perplexity](https://perplexity.ai), andre elever eller læreren.\n",
    "\n",
    "Arbejd videre med den næste Jupyter Notebook."
   ],
   "id": "9bf1bd7e7f925e58"
  }
 ],
 "metadata": {
  "kernelspec": {
   "display_name": "Python 3 (ipykernel)",
   "language": "python",
   "name": "python3"
  },
  "language_info": {
   "codemirror_mode": {
    "name": "ipython",
    "version": 3
   },
   "file_extension": ".py",
   "mimetype": "text/x-python",
   "name": "python",
   "nbconvert_exporter": "python",
   "pygments_lexer": "ipython3",
   "version": "3.10.7"
  }
 },
 "nbformat": 4,
 "nbformat_minor": 5
}
