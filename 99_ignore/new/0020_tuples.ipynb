{
 "cells": [
  {
   "cell_type": "markdown",
   "id": "03fbec3e-7c5b-4e64-8a0b-5128293d4932",
   "metadata": {},
   "source": "## Tuples"
  },
  {
   "cell_type": "markdown",
   "id": "9bc9b785-935e-4f9b-8c77-dd1dbc548569",
   "metadata": {
    "tags": []
   },
   "source": "##### [Læs afsnittet \"Tuples in Python\"](https://www.freecodecamp.org/news/the-python-handbook/#heading-tuples-in-python)  (klik på linket)"
  },
  {
   "cell_type": "code",
   "execution_count": null,
   "id": "59d8767e-8334-498c-9100-3b3bf411e3c3",
   "metadata": {},
   "outputs": [],
   "source": [
    "number_tuple = (18, 22, 7)\n",
    "number_tuple"
   ]
  },
  {
   "cell_type": "markdown",
   "id": "84552a3f-be7b-4f1f-bf44-b3009c0aaf3d",
   "metadata": {},
   "source": [
    "Udfør de næste celler en af gangen. Før du udfører en celle, regn resultatet ud på forhånd. Når du får et uventet resultat, find ud af hvorfor.\n",
    "Leg gerne med cellerne. Forandre dem og udfør dem igen. Du kan også tilføje nye celler."
   ]
  },
  {
   "cell_type": "code",
   "execution_count": null,
   "id": "a45e6960-0a80-4922-8ede-b9780c03b218",
   "metadata": {},
   "outputs": [],
   "source": [
    "type(number_tuple)"
   ]
  },
  {
   "cell_type": "code",
   "execution_count": null,
   "id": "b7e6d71a-efdf-41d6-922c-6852a47d1736",
   "metadata": {},
   "outputs": [],
   "source": [
    "len(number_tuple)"
   ]
  },
  {
   "cell_type": "code",
   "execution_count": null,
   "id": "cf558e3c-8176-4f91-946a-0d4e537ab4c7",
   "metadata": {},
   "outputs": [],
   "source": [
    "x1 = number_tuple[0]\n",
    "x1"
   ]
  },
  {
   "cell_type": "code",
   "execution_count": null,
   "id": "e06e15aa-c625-4e4d-a71e-a067aaafa0a0",
   "metadata": {},
   "outputs": [],
   "source": [
    "22 in number_tuple"
   ]
  },
  {
   "cell_type": "code",
   "execution_count": null,
   "id": "14d374c0-b114-43c1-bd2d-3ed72b4a2177",
   "metadata": {},
   "outputs": [],
   "source": [
    "type(x1)"
   ]
  },
  {
   "cell_type": "code",
   "execution_count": null,
   "id": "cb78ada4-31e2-4cac-9ba2-26ccd90ff04a",
   "metadata": {},
   "outputs": [],
   "source": [
    "x2 = number_tuple[0:1]\n",
    "x2"
   ]
  },
  {
   "cell_type": "code",
   "execution_count": null,
   "id": "204d4141-5db4-43c1-a452-ddfa4244866d",
   "metadata": {},
   "outputs": [],
   "source": [
    "type(x2)"
   ]
  },
  {
   "cell_type": "code",
   "execution_count": null,
   "id": "a6755cf7-422b-45cd-888f-ac83eda76f27",
   "metadata": {},
   "outputs": [],
   "source": [
    "new_tuple = number_tuple + number_tuple\n",
    "new_tuple"
   ]
  },
  {
   "metadata": {},
   "cell_type": "markdown",
   "source": [
    "Forstod/løste du alle opgaver på denne side?\n",
    "Ellers spørg [W3schools](https://www.w3schools.com/python/), [Google](https://www.google.com),\n",
    "[Perplexity](https://perplexity.ai), andre elever eller læreren.\n",
    "\n",
    "Arbejd videre med den næste Jupyter Notebook."
   ],
   "id": "6a9b2c8876cc9c86"
  }
 ],
 "metadata": {
  "kernelspec": {
   "display_name": "Python 3 (ipykernel)",
   "language": "python",
   "name": "python3"
  },
  "language_info": {
   "codemirror_mode": {
    "name": "ipython",
    "version": 3
   },
   "file_extension": ".py",
   "mimetype": "text/x-python",
   "name": "python",
   "nbconvert_exporter": "python",
   "pygments_lexer": "ipython3",
   "version": "3.10.7"
  }
 },
 "nbformat": 4,
 "nbformat_minor": 5
}
