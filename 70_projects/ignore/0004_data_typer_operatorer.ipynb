{
 "cells": [
  {
   "cell_type": "markdown",
   "id": "98ec751f1d382e4f",
   "metadata": {},
   "source": "## Data typer og operatorer"
  },
  {
   "metadata": {},
   "cell_type": "markdown",
   "source": "#### Data typer",
   "id": "c40d1a45-f8cb-4265-ab24-1298ee9a13e6"
  },
  {
   "cell_type": "markdown",
   "id": "ac3e4e7b-113b-4cff-a121-98813c17864f",
   "metadata": {},
   "source": "##### [Læs afsnittet \"Data Types in Python\"](https://www.freecodecamp.org/news/the-python-handbook/#heading-data-types-in-python)  (klik på linket)"
  },
  {
   "cell_type": "markdown",
   "id": "f42bb24f-5c27-485a-a064-a947ab0f7b68",
   "metadata": {},
   "source": [
    "Udfør den næste celle og analysér resultatet. "
   ]
  },
  {
   "cell_type": "code",
   "id": "ebba1b53-0862-479c-bb35-0c95134473ed",
   "metadata": {},
   "source": [
    "print(123, \"has type\", type(123))\n",
    "\n",
    "x = 64.33\n",
    "print(x, \"has type\", type(x))\n",
    "\n",
    "y = \"python\"\n",
    "print(y, \"has type\", type(y))\n",
    "\n",
    "x = int(x)\n",
    "print(x, \"has type\", type(x))"
   ],
   "outputs": [],
   "execution_count": null
  },
  {
   "cell_type": "markdown",
   "id": "0437a79d-f550-46ee-bf2a-72b2be422c1a",
   "metadata": {},
   "source": [
    "Udfør den næste celle. Derefter tilføj kode i den tomme linje sådan at resultatets sidste række bliver \"20 has type <class 'int'>\" når du udfører cellen igen."
   ]
  },
  {
   "cell_type": "code",
   "id": "14a258f2-ff58-4bd4-981d-a6b9e4dd9be7",
   "metadata": {},
   "source": [
    "z = \"20\"\n",
    "print(z, \"has type\", type(z))\n",
    "\n",
    "print(z, \"has type\", type(z))"
   ],
   "outputs": [],
   "execution_count": null
  },
  {
   "cell_type": "markdown",
   "id": "ee1d4ed4-dafb-4fec-a095-6fa71994b041",
   "metadata": {},
   "source": [
    "Udfør den næste celle. Der opstår en fejl. Hvorfor? Forandre den fejlagtige kodelinje sådan at der bliver printet \"20 has type <class 'int'>\". Udfør cellen igen."
   ]
  },
  {
   "cell_type": "code",
   "id": "22524de0-7063-4b53-b9c1-ec6c6be55516",
   "metadata": {},
   "source": [
    "number = \"number 20\"\n",
    "number = int(number)\n",
    "print(number, \"has type\", type(number))\n",
    "print(\"Yay!\")"
   ],
   "outputs": [],
   "execution_count": null
  },
  {
   "cell_type": "markdown",
   "id": "0b6d1a3a-ffa3-4e86-a216-58074a6818e2",
   "metadata": {},
   "source": "##### Læs afsnittet \"Operators in Python\". Linket på websiden virker pt. ikke, men det er det afsnit umiddelbart efter [\"Data Types in Python\"](https://www.freecodecamp.org/news/the-python-handbook/#heading-data-types-in-python)  (klik på linket)"
  },
  {
   "cell_type": "markdown",
   "id": "270a81e6-f134-41cd-9663-527e386d3bd7",
   "metadata": {},
   "source": [
    "Udfør de næste celler en af gangen. Før du udfører en celle, regn resultatet ud på forhånd. Når du får et uventet resultat, find ud af hvorfor.  \n",
    "Leg gerne med cellerne. Forandre dem og udfør dem igen. \n",
    "Du kan også tilføje nye celler."
   ]
  },
  {
   "cell_type": "markdown",
   "id": "a9374133-6f28-460a-a60c-fd0ed7b7a16f",
   "metadata": {},
   "source": [
    "##### Arithmetic operators"
   ]
  },
  {
   "cell_type": "code",
   "id": "a108bf01-fcbd-4c38-b83f-5f024df30905",
   "metadata": {},
   "source": [
    "a = 5\n",
    "b = 13\n",
    "print(a * b)  # addition"
   ],
   "outputs": [],
   "execution_count": null
  },
  {
   "cell_type": "code",
   "id": "59db67af-d779-40c6-80df-be4d5e900320",
   "metadata": {},
   "source": [
    "c = a - b  # subtraction\n",
    "print(c * c)  #  multiplication"
   ],
   "outputs": [],
   "execution_count": null
  },
  {
   "cell_type": "code",
   "id": "74e745c2-b8f0-47d8-8b8e-527b22938ac6",
   "metadata": {},
   "source": [
    "print(a % b)  # remainder (sometimes called modulo)"
   ],
   "outputs": [],
   "execution_count": null
  },
  {
   "cell_type": "code",
   "id": "b3430d31-eab1-48ea-8b98-91d154acdfc3",
   "metadata": {},
   "source": [
    "print(c)"
   ],
   "outputs": [],
   "execution_count": null
  },
  {
   "cell_type": "code",
   "id": "9d74ec87-b260-4a48-b259-8d46cfebb139",
   "metadata": {},
   "source": [
    "print(c % c)"
   ],
   "outputs": [],
   "execution_count": null
  },
  {
   "cell_type": "code",
   "id": "0bf968c0-c507-4712-8006-64433a565dbc",
   "metadata": {},
   "source": [
    "print(a ** c)  # exponentiation"
   ],
   "outputs": [],
   "execution_count": null
  },
  {
   "cell_type": "code",
   "id": "9feb4ae4-3a5c-4909-b8de-62157a38a748",
   "metadata": {},
   "source": [
    "print(a / c)  # division\n",
    "print(type(a / c))"
   ],
   "outputs": [],
   "execution_count": null
  },
  {
   "cell_type": "code",
   "id": "09730287-1466-4112-b054-a303a7610cc2",
   "metadata": {},
   "source": [
    "print(a // c)  # floor division\n",
    "print(type(a // c))"
   ],
   "outputs": [],
   "execution_count": null
  },
  {
   "cell_type": "code",
   "id": "8a5a5ae4-e8ff-4acc-bf0f-b0e9b116def4",
   "metadata": {},
   "source": [
    "d = 17\n",
    "d += 5\n",
    "print(d)\n",
    "d -= 18\n",
    "print(d)"
   ],
   "outputs": [],
   "execution_count": null
  },
  {
   "cell_type": "markdown",
   "id": "33562149-3db4-4ce9-8195-49cdcad9bd4d",
   "metadata": {},
   "source": [
    "##### Comparison operators"
   ]
  },
  {
   "cell_type": "code",
   "id": "0adef621-332b-411f-9606-8dcc7bb57c31",
   "metadata": {},
   "source": [
    "print(4 > 3)"
   ],
   "outputs": [],
   "execution_count": null
  },
  {
   "cell_type": "code",
   "id": "9d314ca2-2711-48a7-85a5-b4fad69b3918",
   "metadata": {},
   "source": [
    "print(4 == 3)"
   ],
   "outputs": [],
   "execution_count": null
  },
  {
   "cell_type": "code",
   "id": "405fdc10-aaf1-4b6f-ad0d-b71aa00bc851",
   "metadata": {},
   "source": [
    "print(4 != 3)"
   ],
   "outputs": [],
   "execution_count": null
  },
  {
   "cell_type": "code",
   "id": "80250681-cd9d-4910-b338-2a8dbc120992",
   "metadata": {},
   "source": [
    "print(4 <= 3)"
   ],
   "outputs": [],
   "execution_count": null
  },
  {
   "cell_type": "markdown",
   "id": "c7977f72-6410-4b2a-8474-2bdb8902e7db",
   "metadata": {},
   "source": [
    "##### Boolean  operators"
   ]
  },
  {
   "cell_type": "code",
   "id": "abfe3d6f-bb54-467e-b818-311941bb1487",
   "metadata": {},
   "source": [
    "print(not True)"
   ],
   "outputs": [],
   "execution_count": null
  },
  {
   "cell_type": "code",
   "id": "ce4ce199-a24a-4d7e-9de4-b4008bef17c2",
   "metadata": {},
   "source": [
    "print(True or False)"
   ],
   "outputs": [],
   "execution_count": null
  },
  {
   "cell_type": "code",
   "id": "fad7fa92-6f23-4ae1-9a3b-1433eefd5007",
   "metadata": {},
   "source": [
    "print(True and False)"
   ],
   "outputs": [],
   "execution_count": null
  },
  {
   "cell_type": "code",
   "id": "41ca3724-e12c-429f-be1b-83015b2ae584",
   "metadata": {},
   "source": [
    "bool1 = 5 <= 2\n",
    "bool2 = True\n",
    "print(bool1, bool2)"
   ],
   "outputs": [],
   "execution_count": null
  },
  {
   "cell_type": "code",
   "id": "90900c5a-e15c-487a-8f3c-161a686cfff5",
   "metadata": {},
   "source": [
    "print(bool1 or bool2)"
   ],
   "outputs": [],
   "execution_count": null
  },
  {
   "cell_type": "markdown",
   "id": "4586e459-3d95-4c91-b95d-0f8e5b2eb8a7",
   "metadata": {},
   "source": [
    "##### The in operator"
   ]
  },
  {
   "cell_type": "code",
   "id": "78928854-b594-49bd-9dca-ca3b3ce6bfd2",
   "metadata": {},
   "source": [
    "numbers = [3, 1, 8]\n",
    "print(\"numbers has type\", type(numbers))\n",
    "print(2 in numbers)"
   ],
   "outputs": [],
   "execution_count": null
  },
  {
   "cell_type": "code",
   "id": "f9acade0-98a2-4e31-a6e8-7cba0eb07e04",
   "metadata": {},
   "source": [
    "print(3 in numbers)"
   ],
   "outputs": [],
   "execution_count": null
  },
  {
   "metadata": {},
   "cell_type": "markdown",
   "source": [
    "Forstod/løste du alle opgaver på denne side?\n",
    "Ellers spørg [W3schools](https://www.w3schools.com/python/), [Google](https://www.google.com),\n",
    "[Perplexity](https://perplexity.ai), andre elever eller læreren."
   ],
   "id": "681989f910593b34"
  },
  {
   "metadata": {},
   "cell_type": "markdown",
   "source": "__Når du forstår (næsten) alt på denne side, send denne tekst som Teams-besked til læreren:  _0004 færdig_.__",
   "id": "636bc0a47b7e712b"
  },
  {
   "metadata": {},
   "cell_type": "markdown",
   "source": "Arbejd videre med den næste Jupyter Notebook.",
   "id": "97f4f34dcf76cf67"
  },
  {
   "metadata": {},
   "cell_type": "code",
   "outputs": [],
   "execution_count": null,
   "source": "",
   "id": "66d7001df6af564c"
  }
 ],
 "metadata": {
  "kernelspec": {
   "display_name": "Python 3 (ipykernel)",
   "language": "python",
   "name": "python3"
  },
  "language_info": {
   "codemirror_mode": {
    "name": "ipython",
    "version": 3
   },
   "file_extension": ".py",
   "mimetype": "text/x-python",
   "name": "python",
   "nbconvert_exporter": "python",
   "pygments_lexer": "ipython3",
   "version": "3.11.3"
  },
  "toc-autonumbering": false,
  "toc-showcode": false,
  "toc-showmarkdowntxt": false,
  "toc-showtags": false
 },
 "nbformat": 4,
 "nbformat_minor": 5
}
