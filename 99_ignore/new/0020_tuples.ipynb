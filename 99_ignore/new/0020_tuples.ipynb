{
 "cells": [
  {
   "cell_type": "markdown",
   "id": "03fbec3e-7c5b-4e64-8a0b-5128293d4932",
   "metadata": {},
   "source": "## Tupler (tuples)"
  },
  {
   "metadata": {},
   "cell_type": "markdown",
   "source": [
    "Tupler tillader dig at oprette uforanderlige grupper af objekter.\n",
    "Dette betyder, at når en tupel er oprettet, kan den ikke ændres. Du kan ikke tilføje eller fjerne elementer.\n",
    "\n",
    "De oprettes på en måde, der ligner lister, men ved brug af parenteser i stedet for firkantede parenteser:"
   ],
   "id": "11b89ea4148e769e"
  },
  {
   "metadata": {
    "ExecuteTime": {
     "end_time": "2025-04-01T22:01:17.665535Z",
     "start_time": "2025-04-01T22:01:17.662355Z"
    }
   },
   "cell_type": "code",
   "source": "names = (\"Hans\", \"Gitte\")",
   "id": "204d58da0bfcecd",
   "outputs": [],
   "execution_count": 1
  },
  {
   "metadata": {},
   "cell_type": "markdown",
   "source": "En tupel er ordnet, ligesom en liste, så du kan få dens værdier ved at referere til en indeksværdi:",
   "id": "8af92c99bff9cbe1"
  },
  {
   "metadata": {
    "ExecuteTime": {
     "end_time": "2025-04-01T22:01:17.686793Z",
     "start_time": "2025-04-01T22:01:17.682870Z"
    }
   },
   "cell_type": "code",
   "source": [
    "names[0]\n",
    "names[1]"
   ],
   "id": "1da60b3bf25fcb2a",
   "outputs": [
    {
     "data": {
      "text/plain": [
       "'Gitte'"
      ]
     },
     "execution_count": 2,
     "metadata": {},
     "output_type": "execute_result"
    }
   ],
   "execution_count": 2
  },
  {
   "metadata": {},
   "cell_type": "markdown",
   "source": "Du kan også bruge `index()`-metoden:",
   "id": "79d4ed1878628e7a"
  },
  {
   "metadata": {
    "ExecuteTime": {
     "end_time": "2025-04-01T22:01:17.775272Z",
     "start_time": "2025-04-01T22:01:17.772108Z"
    }
   },
   "cell_type": "code",
   "source": [
    "names.index('Hans')\n",
    "names.index('Gitte')"
   ],
   "id": "d41bcab9c12146cf",
   "outputs": [
    {
     "data": {
      "text/plain": [
       "1"
      ]
     },
     "execution_count": 3,
     "metadata": {},
     "output_type": "execute_result"
    }
   ],
   "execution_count": 3
  },
  {
   "metadata": {},
   "cell_type": "markdown",
   "source": "Som med strenge og lister vil brug af et negativt indeks starte søgningen fra slutningen:",
   "id": "2854c389b2cca49d"
  },
  {
   "metadata": {
    "ExecuteTime": {
     "end_time": "2025-04-01T22:01:17.962218Z",
     "start_time": "2025-04-01T22:01:17.959531Z"
    }
   },
   "cell_type": "code",
   "source": "names[-1]",
   "id": "206c35c1194a40f3",
   "outputs": [
    {
     "data": {
      "text/plain": [
       "'Gitte'"
      ]
     },
     "execution_count": 4,
     "metadata": {},
     "output_type": "execute_result"
    }
   ],
   "execution_count": 4
  },
  {
   "metadata": {},
   "cell_type": "markdown",
   "source": "Du kan tælle elementerne i en tupel med `len()`-funktionen:",
   "id": "48708336ff48a051"
  },
  {
   "metadata": {
    "ExecuteTime": {
     "end_time": "2025-04-01T22:01:17.971136Z",
     "start_time": "2025-04-01T22:01:17.968074Z"
    }
   },
   "cell_type": "code",
   "source": "len(names) # 2",
   "id": "43501ddcc8322165",
   "outputs": [
    {
     "data": {
      "text/plain": [
       "2"
      ]
     },
     "execution_count": 5,
     "metadata": {},
     "output_type": "execute_result"
    }
   ],
   "execution_count": 5
  },
  {
   "metadata": {},
   "cell_type": "markdown",
   "source": "Du kan tjekke, om et element er indeholdt i en tupel med `in`-operatoren:",
   "id": "388e661aee6cb19"
  },
  {
   "metadata": {
    "ExecuteTime": {
     "end_time": "2025-04-01T22:01:18.062537Z",
     "start_time": "2025-04-01T22:01:18.059849Z"
    }
   },
   "cell_type": "code",
   "source": "print(\"Hans\" in names) # True",
   "id": "53a23c30d9fe2a40",
   "outputs": [
    {
     "name": "stdout",
     "output_type": "stream",
     "text": [
      "True\n"
     ]
    }
   ],
   "execution_count": 6
  },
  {
   "metadata": {},
   "cell_type": "markdown",
   "source": "Du kan også udtrække en del af en tupel ved hjælp af slices:",
   "id": "cade6b37f9b2f8da"
  },
  {
   "metadata": {
    "ExecuteTime": {
     "end_time": "2025-04-01T22:01:18.102866Z",
     "start_time": "2025-04-01T22:01:18.099070Z"
    }
   },
   "cell_type": "code",
   "source": [
    "names[0:2]\n",
    "names[1:]"
   ],
   "id": "fb87b395b6795041",
   "outputs": [
    {
     "data": {
      "text/plain": [
       "('Gitte',)"
      ]
     },
     "execution_count": 7,
     "metadata": {},
     "output_type": "execute_result"
    }
   ],
   "execution_count": 7
  },
  {
   "metadata": {},
   "cell_type": "markdown",
   "source": "Få antallet af elementer i en tupel ved hjælp af den globale funktion `len()`, den samme vi brugte til at få længden af en streng:",
   "id": "57f666e4efef6594"
  },
  {
   "metadata": {
    "ExecuteTime": {
     "end_time": "2025-04-01T22:01:18.117519Z",
     "start_time": "2025-04-01T22:01:18.114169Z"
    }
   },
   "cell_type": "code",
   "source": "len(names)",
   "id": "76f70498c630c4d8",
   "outputs": [
    {
     "data": {
      "text/plain": [
       "2"
      ]
     },
     "execution_count": 8,
     "metadata": {},
     "output_type": "execute_result"
    }
   ],
   "execution_count": 8
  },
  {
   "metadata": {},
   "cell_type": "markdown",
   "source": "Du kan oprette en sorteret version af en tupel ved hjælp af den globale funktion `sorted()`:",
   "id": "71f93193ea1e2def"
  },
  {
   "metadata": {
    "ExecuteTime": {
     "end_time": "2025-04-01T22:01:18.147338Z",
     "start_time": "2025-04-01T22:01:18.144108Z"
    }
   },
   "cell_type": "code",
   "source": "sorted(names)",
   "id": "4d5d3f893afeba3f",
   "outputs": [
    {
     "data": {
      "text/plain": [
       "['Gitte', 'Hans']"
      ]
     },
     "execution_count": 9,
     "metadata": {},
     "output_type": "execute_result"
    }
   ],
   "execution_count": 9
  },
  {
   "metadata": {},
   "cell_type": "markdown",
   "source": "Du kan oprette en ny tupel fra eksisterende tupler ved hjælp af `+`-operatoren:",
   "id": "7adcbb5c3e5b4c8a"
  },
  {
   "metadata": {
    "ExecuteTime": {
     "end_time": "2025-04-01T22:01:18.164242Z",
     "start_time": "2025-04-01T22:01:18.161516Z"
    }
   },
   "cell_type": "code",
   "source": "newTuple = names + (\"Susi\", \"Tony\")",
   "id": "1f624081d65b353a",
   "outputs": [],
   "execution_count": 10
  },
  {
   "metadata": {
    "tags": []
   },
   "cell_type": "markdown",
   "source": "### Øvelser",
   "id": "9bc9b785-935e-4f9b-8c77-dd1dbc548569"
  },
  {
   "cell_type": "code",
   "id": "59d8767e-8334-498c-9100-3b3bf411e3c3",
   "metadata": {
    "ExecuteTime": {
     "end_time": "2025-04-01T22:01:18.173117Z",
     "start_time": "2025-04-01T22:01:18.169943Z"
    }
   },
   "source": [
    "number_tuple = (18, 22, 7)\n",
    "number_tuple"
   ],
   "outputs": [
    {
     "data": {
      "text/plain": [
       "(18, 22, 7)"
      ]
     },
     "execution_count": 11,
     "metadata": {},
     "output_type": "execute_result"
    }
   ],
   "execution_count": 11
  },
  {
   "cell_type": "markdown",
   "id": "84552a3f-be7b-4f1f-bf44-b3009c0aaf3d",
   "metadata": {},
   "source": [
    "Udfør de næste celler en af gangen. Før du udfører en celle, regn resultatet ud på forhånd. Når du får et uventet resultat, find ud af hvorfor.\n",
    "Leg gerne med cellerne. Forandre dem og udfør dem igen. Du kan også tilføje nye celler."
   ]
  },
  {
   "cell_type": "code",
   "id": "a45e6960-0a80-4922-8ede-b9780c03b218",
   "metadata": {
    "ExecuteTime": {
     "end_time": "2025-04-01T22:01:18.182569Z",
     "start_time": "2025-04-01T22:01:18.179665Z"
    }
   },
   "source": [
    "type(number_tuple)"
   ],
   "outputs": [
    {
     "data": {
      "text/plain": [
       "tuple"
      ]
     },
     "execution_count": 12,
     "metadata": {},
     "output_type": "execute_result"
    }
   ],
   "execution_count": 12
  },
  {
   "cell_type": "code",
   "id": "b7e6d71a-efdf-41d6-922c-6852a47d1736",
   "metadata": {
    "ExecuteTime": {
     "end_time": "2025-04-01T22:01:18.202854Z",
     "start_time": "2025-04-01T22:01:18.199652Z"
    }
   },
   "source": [
    "len(number_tuple)"
   ],
   "outputs": [
    {
     "data": {
      "text/plain": [
       "3"
      ]
     },
     "execution_count": 13,
     "metadata": {},
     "output_type": "execute_result"
    }
   ],
   "execution_count": 13
  },
  {
   "cell_type": "code",
   "id": "cf558e3c-8176-4f91-946a-0d4e537ab4c7",
   "metadata": {
    "ExecuteTime": {
     "end_time": "2025-04-01T22:01:18.221110Z",
     "start_time": "2025-04-01T22:01:18.217958Z"
    }
   },
   "source": [
    "x1 = number_tuple[0]\n",
    "x1"
   ],
   "outputs": [
    {
     "data": {
      "text/plain": [
       "18"
      ]
     },
     "execution_count": 14,
     "metadata": {},
     "output_type": "execute_result"
    }
   ],
   "execution_count": 14
  },
  {
   "cell_type": "code",
   "id": "e06e15aa-c625-4e4d-a71e-a067aaafa0a0",
   "metadata": {
    "ExecuteTime": {
     "end_time": "2025-04-01T22:01:18.230196Z",
     "start_time": "2025-04-01T22:01:18.227316Z"
    }
   },
   "source": [
    "22 in number_tuple"
   ],
   "outputs": [
    {
     "data": {
      "text/plain": [
       "True"
      ]
     },
     "execution_count": 15,
     "metadata": {},
     "output_type": "execute_result"
    }
   ],
   "execution_count": 15
  },
  {
   "cell_type": "code",
   "id": "14d374c0-b114-43c1-bd2d-3ed72b4a2177",
   "metadata": {
    "ExecuteTime": {
     "end_time": "2025-04-01T22:01:18.247143Z",
     "start_time": "2025-04-01T22:01:18.243816Z"
    }
   },
   "source": [
    "type(x1)"
   ],
   "outputs": [
    {
     "data": {
      "text/plain": [
       "int"
      ]
     },
     "execution_count": 16,
     "metadata": {},
     "output_type": "execute_result"
    }
   ],
   "execution_count": 16
  },
  {
   "cell_type": "code",
   "id": "cb78ada4-31e2-4cac-9ba2-26ccd90ff04a",
   "metadata": {
    "ExecuteTime": {
     "end_time": "2025-04-01T22:01:18.265203Z",
     "start_time": "2025-04-01T22:01:18.261425Z"
    }
   },
   "source": [
    "x2 = number_tuple[0:1]\n",
    "x2"
   ],
   "outputs": [
    {
     "data": {
      "text/plain": [
       "(18,)"
      ]
     },
     "execution_count": 17,
     "metadata": {},
     "output_type": "execute_result"
    }
   ],
   "execution_count": 17
  },
  {
   "cell_type": "code",
   "id": "204d4141-5db4-43c1-a452-ddfa4244866d",
   "metadata": {
    "ExecuteTime": {
     "end_time": "2025-04-01T22:01:18.276867Z",
     "start_time": "2025-04-01T22:01:18.274333Z"
    }
   },
   "source": [
    "type(x2)"
   ],
   "outputs": [
    {
     "data": {
      "text/plain": [
       "tuple"
      ]
     },
     "execution_count": 18,
     "metadata": {},
     "output_type": "execute_result"
    }
   ],
   "execution_count": 18
  },
  {
   "cell_type": "code",
   "id": "a6755cf7-422b-45cd-888f-ac83eda76f27",
   "metadata": {
    "ExecuteTime": {
     "end_time": "2025-04-01T22:01:18.296553Z",
     "start_time": "2025-04-01T22:01:18.293328Z"
    }
   },
   "source": [
    "new_tuple = number_tuple + number_tuple\n",
    "new_tuple"
   ],
   "outputs": [
    {
     "data": {
      "text/plain": [
       "(18, 22, 7, 18, 22, 7)"
      ]
     },
     "execution_count": 19,
     "metadata": {},
     "output_type": "execute_result"
    }
   ],
   "execution_count": 19
  },
  {
   "metadata": {},
   "cell_type": "markdown",
   "source": [
    "Forstod/løste du alle opgaver på denne side?\n",
    "Ellers spørg [W3schools](https://www.w3schools.com/python/), [Google](https://www.google.com),\n",
    "[Perplexity](https://perplexity.ai), andre elever eller læreren.\n",
    "\n",
    "Arbejd videre med den næste Jupyter Notebook."
   ],
   "id": "6a9b2c8876cc9c86"
  }
 ],
 "metadata": {
  "kernelspec": {
   "display_name": "Python 3 (ipykernel)",
   "language": "python",
   "name": "python3"
  },
  "language_info": {
   "codemirror_mode": {
    "name": "ipython",
    "version": 3
   },
   "file_extension": ".py",
   "mimetype": "text/x-python",
   "name": "python",
   "nbconvert_exporter": "python",
   "pygments_lexer": "ipython3",
   "version": "3.10.7"
  }
 },
 "nbformat": 4,
 "nbformat_minor": 5
}
