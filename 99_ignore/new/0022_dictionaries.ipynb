{
 "cells": [
  {
   "cell_type": "markdown",
   "id": "03fbec3e-7c5b-4e64-8a0b-5128293d4932",
   "metadata": {},
   "source": "## Ordbøger (dictionaries)"
  },
  {
   "metadata": {},
   "cell_type": "markdown",
   "source": [
    "Mens lister tillader dig at oprette samlinger af værdier, tillader dictionaries dig at oprette samlinger af nøgle/værdi-par.\n",
    "\n",
    "Her er et eksempel på et dictionary med ét nøgle/værdi-par:"
   ],
   "id": "abfbedcb1cccbf60"
  },
  {
   "metadata": {
    "ExecuteTime": {
     "end_time": "2025-04-02T22:03:06.283411Z",
     "start_time": "2025-04-02T22:03:06.280338Z"
    }
   },
   "cell_type": "code",
   "source": "dog = { 'name': 'Bingo' }",
   "id": "f098d5cade72a44d",
   "outputs": [],
   "execution_count": 1
  },
  {
   "metadata": {},
   "cell_type": "markdown",
   "source": [
    "Nøglen kan være enhver uforanderlig værdi som en string, et tal eller en tupel. Værdien kan være hvad som helst, du ønsker.\n",
    "\n",
    "Et dictionary kan indeholde flere nøgle/værdi-par:"
   ],
   "id": "17b08224577bb2fe"
  },
  {
   "metadata": {
    "ExecuteTime": {
     "end_time": "2025-04-02T22:03:06.299089Z",
     "start_time": "2025-04-02T22:03:06.297050Z"
    }
   },
   "cell_type": "code",
   "source": "dog = { 'name': 'Bingo', 'age': 8 }",
   "id": "6fa31238edd9dbfb",
   "outputs": [],
   "execution_count": 2
  },
  {
   "metadata": {},
   "cell_type": "markdown",
   "source": "Du kan få adgang til individuelle nøgleværdier ved hjælp af denne notation:",
   "id": "42bd62f715bac23e"
  },
  {
   "metadata": {
    "ExecuteTime": {
     "end_time": "2025-04-02T22:03:06.475402Z",
     "start_time": "2025-04-02T22:03:06.472526Z"
    }
   },
   "cell_type": "code",
   "source": [
    "dog['name'] # 'Bingo'\n",
    "dog['age']  # 8\n",
    "print(f\"{ = }\")\n",
    "print(f\"{ = }\")"
   ],
   "id": "2417d21205498d73",
   "outputs": [
    {
     "ename": "SyntaxError",
     "evalue": "f-string: valid expression required before '=' (4002241794.py, line 3)",
     "output_type": "error",
     "traceback": [
      "\u001B[1;36m  Cell \u001B[1;32mIn[3], line 3\u001B[1;36m\u001B[0m\n\u001B[1;33m    print(f\"{ = }\")\u001B[0m\n\u001B[1;37m              ^\u001B[0m\n\u001B[1;31mSyntaxError\u001B[0m\u001B[1;31m:\u001B[0m f-string: valid expression required before '='\n"
     ]
    }
   ],
   "execution_count": 3
  },
  {
   "metadata": {},
   "cell_type": "markdown",
   "source": "Ved at bruge samme notation kan du ændre værdien gemt på et specifikt indeks:",
   "id": "6048cfca3dda1210"
  },
  {
   "metadata": {},
   "cell_type": "code",
   "source": [
    "dog['name'] = 'Snoopy'\n",
    "print(f\"{ = }\")"
   ],
   "id": "19be7d2af4a94338",
   "outputs": [],
   "execution_count": null
  },
  {
   "metadata": {},
   "cell_type": "markdown",
   "source": "En anden måde er at bruge `get()`-metoden, som har en mulighed for at tilføje en standardværdi:",
   "id": "174e80f07f2e3c1b"
  },
  {
   "metadata": {},
   "cell_type": "code",
   "source": [
    "dog.get('name') # 'Bingo'\n",
    "dog.get('test', 'default') # 'default'\n",
    "print(f\"{ = }\")\n",
    "print(f\"{ = }\")"
   ],
   "id": "aac750df87525191",
   "outputs": [],
   "execution_count": null
  },
  {
   "metadata": {},
   "cell_type": "markdown",
   "source": "`pop()`-metoden henter værdien af en nøgle og sletter efterfølgende elementet fra dictionary'et:",
   "id": "6074db41ae0ce8ef"
  },
  {
   "metadata": {},
   "cell_type": "code",
   "source": [
    "print(f\"before: { = }\")\n",
    "dog.pop('name') # 'Bingo'\n",
    "print(f\"after:  { = }\")"
   ],
   "id": "df06031d5de7c4e6",
   "outputs": [],
   "execution_count": null
  },
  {
   "metadata": {},
   "cell_type": "markdown",
   "source": "`popitem()`-metoden henter og fjerner det sidste nøgle/værdi-par, der blev indsat i dictionary'et:",
   "id": "f0e1146bdb213285"
  },
  {
   "metadata": {},
   "cell_type": "code",
   "source": [
    "dog.popitem()\n",
    "print(f\"{ = }\")"
   ],
   "id": "dcaed3c7260c4cfe",
   "outputs": [],
   "execution_count": null
  },
  {
   "metadata": {},
   "cell_type": "markdown",
   "source": "Du kan tjekke, om en nøgle er indeholdt i et dictionary med `in`-operatoren:",
   "id": "ab220ce1571b9a3c"
  },
  {
   "metadata": {},
   "cell_type": "code",
   "source": [
    "'name' in dog # True\n",
    "print(f\"{ = }\")"
   ],
   "id": "bad96c09adc13813",
   "outputs": [],
   "execution_count": null
  },
  {
   "metadata": {},
   "cell_type": "markdown",
   "source": "Få en liste med nøglerne i et dictionary ved hjælp af `keys()`-metoden, og send resultatet til `list()`-konstruktøren:",
   "id": "7cb5c5179ccc9dfd"
  },
  {
   "metadata": {},
   "cell_type": "code",
   "source": [
    "list(dog.keys()) # ['name', 'age']\n",
    "print(f\"{ = }\")"
   ],
   "id": "f365f4cd99c871ef",
   "outputs": [],
   "execution_count": null
  },
  {
   "metadata": {},
   "cell_type": "markdown",
   "source": "Få værdierne ved hjælp af `values()`-metoden, og nøgle/værdi-par tuplerne ved hjælp af `items()`-metoden:",
   "id": "52d63e5ba8947aeb"
  },
  {
   "metadata": {},
   "cell_type": "code",
   "source": [
    "print(list(dog.values()))\n",
    "# ['Bingo', 8]\n",
    "print(f\"{ = }\")"
   ],
   "id": "8036e07a3de66b62",
   "outputs": [],
   "execution_count": null
  },
  {
   "metadata": {},
   "cell_type": "code",
   "source": [
    "print(list(dog.items()))\n",
    "# [('name', 'Bingo'), ('age', 8)]\n",
    "print(f\"{ = }\")"
   ],
   "id": "2f6b181b1b35f936",
   "outputs": [],
   "execution_count": null
  },
  {
   "metadata": {},
   "cell_type": "markdown",
   "source": "Få et dictionarys længde ved hjælp af den globale funktion `len()`, den samme vi brugte til at få længden af en string eller elementerne i en liste:",
   "id": "ce7f87b2de80ffe1"
  },
  {
   "metadata": {},
   "cell_type": "code",
   "source": [
    "len(dog) #2\n",
    "print(f\"{ = }\")"
   ],
   "id": "65e4f6fd0b5528ed",
   "outputs": [],
   "execution_count": null
  },
  {
   "metadata": {},
   "cell_type": "markdown",
   "source": "Du kan tilføje et nyt nøgle/værdi-par til dictionary'et på denne måde:",
   "id": "925996da23189df0"
  },
  {
   "metadata": {},
   "cell_type": "code",
   "source": [
    "print(f\"before: { = }\")\n",
    "dog['favorite food'] = 'Meat'\n",
    "print(f\"after:  { = }\")"
   ],
   "id": "a24e8e6d97b7b5d5",
   "outputs": [],
   "execution_count": null
  },
  {
   "metadata": {},
   "cell_type": "markdown",
   "source": "Du kan fjerne et nøgle/værdi-par fra et dictionary ved hjælp af `del`-erklæringen:",
   "id": "4aa7b094ff3f5be1"
  },
  {
   "metadata": {},
   "cell_type": "code",
   "source": [
    "print(f\"before: { = }\")\n",
    "del dog['favorite food']\n",
    "print(f\"after:  { = }\")"
   ],
   "id": "537805b4b62b1fbc",
   "outputs": [],
   "execution_count": null
  },
  {
   "metadata": {},
   "cell_type": "markdown",
   "source": "For at kopiere et dictionary skal du bruge `copy()`-metoden:",
   "id": "3048b66b8f38931"
  },
  {
   "metadata": {},
   "cell_type": "code",
   "source": [
    "dogCopy = dog.copy()\n",
    "print(f\"{ = }\")"
   ],
   "id": "f5eb04a22c96ca7d",
   "outputs": [],
   "execution_count": null
  },
  {
   "metadata": {},
   "cell_type": "markdown",
   "source": "### Øvelser",
   "id": "d86280fcd0663423"
  },
  {
   "cell_type": "markdown",
   "id": "292460db-c68c-4ea1-9988-5681834a5e32",
   "metadata": {},
   "source": [
    "Udfør de næste celler en af gangen. Før du udfører en celle, regn resultatet ud på forhånd. Når du får et uventet resultat, find ud af hvorfor.\n",
    "Leg gerne med cellerne. Forandre dem og udfør dem igen. Du kan også tilføje nye celler."
   ]
  },
  {
   "cell_type": "code",
   "id": "e3046067-d655-4f20-a484-07e3cc39b2bd",
   "metadata": {},
   "source": [
    "house = { 'street': 'broadway', 'number': 87 }\n",
    "house\n",
    "print(f\"{ = }\")"
   ],
   "outputs": [],
   "execution_count": null
  },
  {
   "cell_type": "code",
   "id": "f931925a-a120-4c13-b584-cd1169801f95",
   "metadata": {},
   "source": [
    "len(house)\n",
    "print(f\"{ = }\")"
   ],
   "outputs": [],
   "execution_count": null
  },
  {
   "cell_type": "code",
   "id": "f80dcb87-a11a-4fee-a757-b3d1e7639058",
   "metadata": {},
   "source": [
    "house['floors'] = 4\n",
    "house\n",
    "print(f\"{ = }\")"
   ],
   "outputs": [],
   "execution_count": null
  },
  {
   "cell_type": "code",
   "id": "a34572ec-bfe7-406b-a647-0ea19acc6ec0",
   "metadata": {},
   "source": [
    "house['street']\n",
    "print(f\"{ = }\")"
   ],
   "outputs": [],
   "execution_count": null
  },
  {
   "cell_type": "code",
   "id": "cd02c76d-4cc5-42f4-af14-ecb6bdced2df",
   "metadata": {},
   "source": [
    "len(house)\n",
    "print(f\"{ = }\")"
   ],
   "outputs": [],
   "execution_count": null
  },
  {
   "cell_type": "code",
   "id": "4dfa9e0b-a752-49e7-9b06-78d667a81893",
   "metadata": {},
   "source": [
    "house.keys()\n",
    "print(f\"{ = }\")"
   ],
   "outputs": [],
   "execution_count": null
  },
  {
   "cell_type": "code",
   "id": "947897b4-3014-480c-b57c-d3b9fa0b1eb1",
   "metadata": {},
   "source": [
    "house.values()\n",
    "print(f\"{ = }\")"
   ],
   "outputs": [],
   "execution_count": null
  },
  {
   "metadata": {},
   "cell_type": "markdown",
   "source": [
    "Forstod/løste du alle opgaver på denne side?\n",
    "Ellers spørg [W3schools](https://www.w3schools.com/python/), [Google](https://www.google.com),\n",
    "[Perplexity](https://perplexity.ai), andre elever eller læreren.\n",
    "\n",
    "Arbejd videre med den næste Jupyter Notebook."
   ],
   "id": "7cf2e4f441eae72f"
  }
 ],
 "metadata": {
  "kernelspec": {
   "display_name": "Python 3 (ipykernel)",
   "language": "python",
   "name": "python3"
  },
  "language_info": {
   "codemirror_mode": {
    "name": "ipython",
    "version": 3
   },
   "file_extension": ".py",
   "mimetype": "text/x-python",
   "name": "python",
   "nbconvert_exporter": "python",
   "pygments_lexer": "ipython3",
   "version": "3.10.7"
  }
 },
 "nbformat": 4,
 "nbformat_minor": 5
}
