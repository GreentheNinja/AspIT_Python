{
 "cells": [
  {
   "cell_type": "markdown",
   "id": "03fbec3e-7c5b-4e64-8a0b-5128293d4932",
   "metadata": {},
   "source": "## Dictionaries"
  },
  {
   "cell_type": "markdown",
   "id": "35237d10-db7b-469c-98fb-75cc07b363f2",
   "metadata": {
    "tags": []
   },
   "source": "##### [Læs afsnittet \"Dictionaries in Python\"](https://www.freecodecamp.org/news/the-python-handbook/#heading-dictionaries-in-python) (klik på linket) "
  },
  {
   "cell_type": "markdown",
   "id": "292460db-c68c-4ea1-9988-5681834a5e32",
   "metadata": {},
   "source": [
    "Udfør de næste celler en af gangen. Før du udfører en celle, regn resultatet ud på forhånd. Når du får et uventet resultat, find ud af hvorfor.\n",
    "Leg gerne med cellerne. Forandre dem og udfør dem igen. Du kan også tilføje nye celler."
   ]
  },
  {
   "cell_type": "code",
   "execution_count": null,
   "id": "e3046067-d655-4f20-a484-07e3cc39b2bd",
   "metadata": {},
   "outputs": [],
   "source": [
    "house = { 'street': 'broadway', 'number': 87 }\n",
    "house"
   ]
  },
  {
   "cell_type": "code",
   "execution_count": null,
   "id": "f931925a-a120-4c13-b584-cd1169801f95",
   "metadata": {},
   "outputs": [],
   "source": [
    "len(house)"
   ]
  },
  {
   "cell_type": "code",
   "execution_count": null,
   "id": "f80dcb87-a11a-4fee-a757-b3d1e7639058",
   "metadata": {},
   "outputs": [],
   "source": [
    "house['floors'] = 4\n",
    "house"
   ]
  },
  {
   "cell_type": "code",
   "execution_count": null,
   "id": "a34572ec-bfe7-406b-a647-0ea19acc6ec0",
   "metadata": {},
   "outputs": [],
   "source": [
    "house['street']"
   ]
  },
  {
   "cell_type": "code",
   "execution_count": null,
   "id": "cd02c76d-4cc5-42f4-af14-ecb6bdced2df",
   "metadata": {},
   "outputs": [],
   "source": [
    "len(house)"
   ]
  },
  {
   "cell_type": "code",
   "execution_count": null,
   "id": "4dfa9e0b-a752-49e7-9b06-78d667a81893",
   "metadata": {},
   "outputs": [],
   "source": [
    "house.keys()"
   ]
  },
  {
   "cell_type": "code",
   "execution_count": null,
   "id": "947897b4-3014-480c-b57c-d3b9fa0b1eb1",
   "metadata": {},
   "outputs": [],
   "source": [
    "house.values()"
   ]
  },
  {
   "metadata": {},
   "cell_type": "markdown",
   "source": [
    "Forstod/løste du alle opgaver på denne side?\n",
    "Ellers spørg [W3schools](https://www.w3schools.com/python/), [Google](https://www.google.com),\n",
    "[Perplexity](https://perplexity.ai), andre elever eller læreren.\n",
    "\n",
    "Arbejd videre med den næste Jupyter Notebook."
   ],
   "id": "7cf2e4f441eae72f"
  }
 ],
 "metadata": {
  "kernelspec": {
   "display_name": "Python 3 (ipykernel)",
   "language": "python",
   "name": "python3"
  },
  "language_info": {
   "codemirror_mode": {
    "name": "ipython",
    "version": 3
   },
   "file_extension": ".py",
   "mimetype": "text/x-python",
   "name": "python",
   "nbconvert_exporter": "python",
   "pygments_lexer": "ipython3",
   "version": "3.10.7"
  }
 },
 "nbformat": 4,
 "nbformat_minor": 5
}
