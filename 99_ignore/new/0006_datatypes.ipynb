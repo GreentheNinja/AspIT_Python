{
 "cells": [
  {
   "cell_type": "markdown",
   "id": "98ec751f1d382e4f",
   "metadata": {},
   "source": "## Data typer (data types)"
  },
  {
   "metadata": {},
   "cell_type": "markdown",
   "source": [
    "Python har flere indbyggede typer.\n",
    "\n",
    "Hvis du opretter variablen `name` og tildeler den værdien `\"Hans\"`, repræsenterer denne variabel automatisk en _string_ datatype. Udfør cellen."
   ],
   "id": "969bac854c1fa38f"
  },
  {
   "metadata": {},
   "cell_type": "code",
   "source": [
    "name = \"Hans\"\n",
    "print(name)"
   ],
   "id": "99ff382c9dafc437",
   "outputs": [],
   "execution_count": null
  },
  {
   "metadata": {},
   "cell_type": "markdown",
   "source": [
    "\n",
    "Du kan kontrollere typen af en variabel ved at bruge funktionen `type()`. Udfør cellen."
   ],
   "id": "1f5a51edf5c325a5"
  },
  {
   "metadata": {},
   "cell_type": "code",
   "source": "print(type(name))",
   "id": "3c8dd15b0d67385c",
   "outputs": [],
   "execution_count": null
  },
  {
   "metadata": {},
   "cell_type": "markdown",
   "source": [
    "Vi brugte `str`-klassen her, men det samme virker for andre datatyper.\n",
    "\n",
    "Heltal (integer) repræsenteres ved hjælp af `int`-klassen.\n",
    "Udfør cellen."
   ],
   "id": "a1d703af29534049"
  },
  {
   "metadata": {},
   "cell_type": "code",
   "source": [
    "age = 6\n",
    "print(age)\n",
    "print(type(age))"
   ],
   "id": "94671026723141fd",
   "outputs": [],
   "execution_count": null
  },
  {
   "metadata": {},
   "cell_type": "markdown",
   "source": [
    " Flydende komma-tal (floating point numbers) er af typen `float`.\n",
    " Udfør cellen."
   ],
   "id": "8c94323b13c2695f"
  },
  {
   "metadata": {},
   "cell_type": "code",
   "source": [
    "fraction = 0.3\n",
    "print(fraction)\n",
    "print(type(fraction))"
   ],
   "id": "c8802db5b17f04f0",
   "outputs": [],
   "execution_count": null
  },
  {
   "metadata": {},
   "cell_type": "markdown",
   "source": [
    "Du kan også sammenligne variablens type med fx `str` eller `int`. Resultatet bliver enten `True` eller `False`.\n",
    "Udfør cellen."
   ],
   "id": "cbfd1ff27f04725d"
  },
  {
   "metadata": {},
   "cell_type": "code",
   "source": "print(type(name) == str)  # True, because name has type str",
   "id": "40cf245ac59aea70",
   "outputs": [],
   "execution_count": null
  },
  {
   "metadata": {},
   "cell_type": "markdown",
   "source": "Udfør også denne celle.",
   "id": "de2cc3a6121b09f1"
  },
  {
   "metadata": {},
   "cell_type": "code",
   "source": "print(type(age) == str)  # False, because age has not type str. (It has type int.)",
   "id": "b6a198d363e3e61c",
   "outputs": [],
   "execution_count": null
  },
  {
   "metadata": {},
   "cell_type": "markdown",
   "source": [
    "Du kan også konvertere fra en type til en anden.\n",
    "\n",
    "Python vil forsøge at bestemme den korrekte værdi, for eksempel ved at udtrække et tal fra en streng.\n",
    "\n",
    "Dette kaldes _typecasting_. Selvfølgelig vil denne konvertering ikke altid virke afhængigt af den værdi, der sendes.\n",
    "\n",
    "Hvis du prøver at konvertere \"hallo\" til en integer i stedet for \"41\" i den følgende celle, får du en fejlmelding.\n",
    "Udfør cellen."
   ],
   "id": "6036f976c0ad673"
  },
  {
   "metadata": {},
   "cell_type": "code",
   "source": [
    "age1 = \"25\"\n",
    "print(\"age1 is\", age1, \"og har typen \", type(age1))\n",
    "\n",
    "age2 = int(\"41\")  # Converts the string \"41\" into an integer 41\n",
    "print(\"age2 is\", age2, \"og har typen \", type(age2))\n"
   ],
   "id": "3e1568e8781d8eda",
   "outputs": [],
   "execution_count": null
  },
  {
   "metadata": {},
   "cell_type": "markdown",
   "source": [
    "Er du klar over, hvorfor udførelsen af denne celle førte til dette resultat? Hvis ikke, så kig på koden i cellen igen.\n",
    "\n",
    "Du kan også ændre koden i cellen og derefter udføre cellen igen. Eksperimentér med koden på denne måde, indtil du har forstået den.\n",
    "\n",
    "Brug denne fremgangsmåde for alle celler i denne tutorial, hvis du ikke er sikker på, hvordan koden i cellen fungerer.\n",
    "\n",
    "Her er en eksempel, hvor der konverteres en _float_ til en _int_.\n",
    "Udfør cellen."
   ],
   "id": "daac8a02d0674196"
  },
  {
   "metadata": {},
   "cell_type": "code",
   "source": [
    "fraction = 1.7\n",
    "int_from_fraction = int(fraction)\n",
    "print(\"fraction har typen\", type(fraction), \"og dens værdi er\", fraction)\n",
    "print(\"int_from_fraction har typen\", type(int_from_fraction), \"og dens værdi er\", int_from_fraction)"
   ],
   "id": "8e3a643131895849",
   "outputs": [],
   "execution_count": null
  },
  {
   "cell_type": "markdown",
   "id": "f42bb24f-5c27-485a-a064-a947ab0f7b68",
   "metadata": {},
   "source": [
    "### Øvelser\n",
    "\n",
    "Udfør den næste celle og analysér resultatet."
   ]
  },
  {
   "cell_type": "code",
   "id": "ebba1b53-0862-479c-bb35-0c95134473ed",
   "metadata": {},
   "source": [
    "print(123, \"has type\", type(123))\n",
    "\n",
    "x = 64.73\n",
    "print(x, \"has type\", type(x))\n",
    "\n",
    "y = \"python\"\n",
    "print(y, \"has type\", type(y))\n",
    "\n",
    "x = int(x)\n",
    "print(x, \"has type\", type(x))"
   ],
   "outputs": [],
   "execution_count": null
  },
  {
   "cell_type": "markdown",
   "id": "0437a79d-f550-46ee-bf2a-72b2be422c1a",
   "metadata": {},
   "source": "Udfør den næste celle. Derefter tilføj kode i den tomme linje sådan at resultatets sidste række bliver `20 has type <class 'int'>` når du udfører cellen igen."
  },
  {
   "cell_type": "code",
   "id": "14a258f2-ff58-4bd4-981d-a6b9e4dd9be7",
   "metadata": {},
   "source": [
    "z = \"20\"\n",
    "print(z, \"has type\", type(z))\n",
    "\n",
    "print(z, \"has type\", type(z))"
   ],
   "outputs": [],
   "execution_count": null
  },
  {
   "cell_type": "markdown",
   "id": "ee1d4ed4-dafb-4fec-a095-6fa71994b041",
   "metadata": {},
   "source": "Udfør den næste celle. Der opstår en fejl. Hvorfor? Forandre den fejlagtige kodelinje sådan at der bliver printet `20 has type <class 'int'>`. Udfør cellen igen."
  },
  {
   "cell_type": "code",
   "id": "22524de0-7063-4b53-b9c1-ec6c6be55516",
   "metadata": {},
   "source": [
    "number = \"number 20\"\n",
    "number = int(number)\n",
    "print(number, \"has type\", type(number))\n",
    "print(\"Yay!\")"
   ],
   "outputs": [],
   "execution_count": null
  },
  {
   "metadata": {},
   "cell_type": "markdown",
   "source": "Der findes flere typer end `str`, `int` og `float` i Python. Vi vil udforske nogle af dem snart.",
   "id": "a5852d42635f6b2c"
  },
  {
   "metadata": {},
   "cell_type": "markdown",
   "source": [
    "Forstod/løste du alt på denne side?\n",
    "Ellers spørg [W3schools](https://www.w3schools.com/python/), [Google](https://www.google.com),\n",
    "[Perplexity](https://perplexity.ai), andre elever eller læreren.\n",
    "\n",
    "Arbejd videre med den næste Jupyter Notebook."
   ],
   "id": "5b58e21ed4481f0e"
  },
  {
   "metadata": {},
   "cell_type": "code",
   "source": "",
   "id": "657202c50e9cc5b4",
   "outputs": [],
   "execution_count": null
  }
 ],
 "metadata": {
  "kernelspec": {
   "display_name": "Python 3 (ipykernel)",
   "language": "python",
   "name": "python3"
  },
  "language_info": {
   "codemirror_mode": {
    "name": "ipython",
    "version": 3
   },
   "file_extension": ".py",
   "mimetype": "text/x-python",
   "name": "python",
   "nbconvert_exporter": "python",
   "pygments_lexer": "ipython3",
   "version": "3.11.3"
  },
  "toc-autonumbering": false,
  "toc-showcode": false,
  "toc-showmarkdowntxt": false,
  "toc-showtags": false
 },
 "nbformat": 4,
 "nbformat_minor": 5
}
