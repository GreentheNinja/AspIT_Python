{
 "cells": [
  {
   "cell_type": "markdown",
   "id": "96295c0b-871e-4fd5-8b96-80c7b3d2ae5e",
   "metadata": {},
   "source": "## Control Statements (if-else)"
  },
  {
   "cell_type": "markdown",
   "id": "688754d8-fdee-4dfc-971a-8b81ad505e85",
   "metadata": {},
   "source": "##### [Læs afsnittet \"Control Statements in Python\"](https://www.freecodecamp.org/news/the-python-handbook/#heading-control-statements-in-python)  (klik på linket)"
  },
  {
   "cell_type": "markdown",
   "id": "b1310800-2fd2-4298-addb-74112e484272",
   "metadata": {},
   "source": [
    "Udfør den følgende celle og analysér hvad der sker.\n",
    "Lav om på programmet sådan at den printer \"number3 <= number4\" når det er sandt."
   ]
  },
  {
   "cell_type": "code",
   "execution_count": null,
   "id": "61594c96-dd19-4665-af9a-5efc1b880026",
   "metadata": {},
   "outputs": [],
   "source": [
    "number3 = 25\n",
    "number4 = 11\n",
    "if number3 > number4:\n",
    "    print(\"number3 > number4\")  # you can press tab or 4 spaces in order to indent a line"
   ]
  },
  {
   "cell_type": "markdown",
   "id": "b0341044-9447-4bad-a6b4-b5f9051c2adb",
   "metadata": {},
   "source": [
    "Udfør den følgende celle og analysér hvad der sker.  \n",
    "Ændr programmet sådan at en input større end 50 resulterer i output \"input is 50 or larger\""
   ]
  },
  {
   "cell_type": "code",
   "execution_count": null,
   "id": "0816123e-9f51-46db-8963-3b0b8df731d1",
   "metadata": {},
   "outputs": [],
   "source": [
    "number_input = int(input(\"type a number: \"))\n",
    "if number_input > 2 and number_input < 13:\n",
    "    print(\"input is between 2 and 13\")\n",
    "elif number_input > 12 and number_input < 19:\n",
    "    print(\"input is between 12 and 19\")\n",
    "elif number_input >= 19:\n",
    "    print(\"input is 19 or larger\")\n",
    "else:\n",
    "    print(\"input is 2 or less\")\n",
    "print(\"this gets always printed\")"
   ]
  },
  {
   "metadata": {},
   "cell_type": "markdown",
   "source": [
    "Forstod/løste du alle opgaver på denne side?\n",
    "Ellers spørg [W3schools](https://www.w3schools.com/python/), [Google](https://www.google.com),\n",
    "[Perplexity](https://perplexity.ai), andre elever eller læreren.\n",
    "\n",
    "Arbejd videre med den næste Jupyter Notebook."
   ],
   "id": "36807017c559b52a"
  }
 ],
 "metadata": {
  "kernelspec": {
   "display_name": "Python 3 (ipykernel)",
   "language": "python",
   "name": "python3"
  },
  "language_info": {
   "codemirror_mode": {
    "name": "ipython",
    "version": 3
   },
   "file_extension": ".py",
   "mimetype": "text/x-python",
   "name": "python",
   "nbconvert_exporter": "python",
   "pygments_lexer": "ipython3",
   "version": "3.10.7"
  }
 },
 "nbformat": 4,
 "nbformat_minor": 5
}
