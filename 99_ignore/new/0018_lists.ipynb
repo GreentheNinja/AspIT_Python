{
 "cells": [
  {
   "cell_type": "markdown",
   "id": "03fbec3e-7c5b-4e64-8a0b-5128293d4932",
   "metadata": {},
   "source": "## Lists"
  },
  {
   "cell_type": "markdown",
   "id": "94730daf-cdd8-408e-a867-948237d4fba0",
   "metadata": {
    "tags": []
   },
   "source": "##### [Læs afsnittet \"Lists in Python\"](https://www.freecodecamp.org/news/the-python-handbook/#heading-lists-in-python)  (klik på linket)"
  },
  {
   "cell_type": "code",
   "execution_count": null,
   "id": "5c1e543d-3070-4b58-ab3d-1914c411ac83",
   "metadata": {},
   "outputs": [],
   "source": [
    "numbers = [5, -2, 4, 17]"
   ]
  },
  {
   "cell_type": "markdown",
   "id": "dc38709c-551e-4ac0-a0a2-c1df27e5b1f8",
   "metadata": {},
   "source": [
    "Udfør de næste celler en af gangen. Før du udfører en celle, regn resultatet ud på forhånd. Når du får et uventet resultat, find ud af hvorfor.\n",
    "Leg gerne med cellerne. Forandre dem og udfør dem igen. Du kan også tilføje nye celler. "
   ]
  },
  {
   "cell_type": "code",
   "execution_count": null,
   "id": "29dc7307-5328-4e87-ac35-077f995a226c",
   "metadata": {},
   "outputs": [],
   "source": [
    "type(numbers)"
   ]
  },
  {
   "cell_type": "code",
   "execution_count": null,
   "id": "e5b706e2-11dc-42c3-962b-2d823364f97c",
   "metadata": {},
   "outputs": [],
   "source": [
    "len(numbers)"
   ]
  },
  {
   "cell_type": "code",
   "execution_count": null,
   "id": "7535c160-b104-46e6-be63-4973c2fbac3a",
   "metadata": {},
   "outputs": [],
   "source": [
    "17 in numbers"
   ]
  },
  {
   "cell_type": "code",
   "execution_count": null,
   "id": "ec5929d7-d6bb-45b4-a6ee-f83d2285a8f3",
   "metadata": {},
   "outputs": [],
   "source": [
    "2 in numbers"
   ]
  },
  {
   "cell_type": "code",
   "execution_count": null,
   "id": "c56c6491-b5c6-44d4-bcab-b7f28fd27e72",
   "metadata": {},
   "outputs": [],
   "source": [
    "numbers[0]"
   ]
  },
  {
   "cell_type": "code",
   "execution_count": null,
   "id": "e470b330-56d9-4d36-8043-04712e1986ed",
   "metadata": {},
   "outputs": [],
   "source": [
    "numbers[3]"
   ]
  },
  {
   "cell_type": "code",
   "execution_count": null,
   "id": "6da378c2-9c96-41cc-a736-8d8408f7f432",
   "metadata": {},
   "outputs": [],
   "source": [
    "numbers[-1]"
   ]
  },
  {
   "cell_type": "code",
   "execution_count": null,
   "id": "38fdcae1-0747-443f-8f9d-267211932f17",
   "metadata": {},
   "outputs": [],
   "source": [
    "numbers[:2]"
   ]
  },
  {
   "cell_type": "code",
   "execution_count": null,
   "id": "1a02b79f-a61a-4f24-b035-bc9757198bee",
   "metadata": {},
   "outputs": [],
   "source": [
    "numbers[2:]"
   ]
  },
  {
   "cell_type": "code",
   "execution_count": null,
   "id": "ca748d7a-2bf9-4128-8e44-6302260b91a5",
   "metadata": {},
   "outputs": [],
   "source": [
    "numbers.append(9)\n",
    "numbers.append(5)\n",
    "numbers"
   ]
  },
  {
   "cell_type": "code",
   "execution_count": null,
   "id": "dd26db4c-0bb5-44f5-8a19-673784327c13",
   "metadata": {},
   "outputs": [],
   "source": [
    "numbers[2:]"
   ]
  },
  {
   "cell_type": "code",
   "execution_count": null,
   "id": "6fa91586-87f0-44c7-8582-579e7da902c4",
   "metadata": {},
   "outputs": [],
   "source": [
    "len(numbers)"
   ]
  },
  {
   "cell_type": "code",
   "execution_count": null,
   "id": "0f9ab272-b57c-4295-af87-20b5b21de56d",
   "metadata": {},
   "outputs": [],
   "source": [
    "sorted(numbers)"
   ]
  },
  {
   "cell_type": "code",
   "execution_count": null,
   "id": "27f09566-5cf7-4085-bc0f-e342e1c3b48b",
   "metadata": {},
   "outputs": [],
   "source": [
    "numbers"
   ]
  },
  {
   "cell_type": "code",
   "execution_count": null,
   "id": "06524276-72bc-4937-aaa2-8348993d98ec",
   "metadata": {},
   "outputs": [],
   "source": [
    "numbers.sort()\n",
    "numbers"
   ]
  },
  {
   "cell_type": "code",
   "execution_count": null,
   "id": "fc657bbc-a469-4176-8683-694da994b5e6",
   "metadata": {},
   "outputs": [],
   "source": [
    "numbers"
   ]
  },
  {
   "cell_type": "markdown",
   "id": "7e5d1571-55f2-44c8-b800-bd208464020d",
   "metadata": {},
   "source": [
    "Tilføj kode til de følgende celler, sådan at resultatet bliver den udtryk i kommentaren."
   ]
  },
  {
   "cell_type": "code",
   "execution_count": null,
   "id": "f3c974bb-21c8-4937-9938-277d320614bc",
   "metadata": {},
   "outputs": [],
   "source": [
    "numbers[]  # 4"
   ]
  },
  {
   "cell_type": "code",
   "execution_count": null,
   "id": "11645ba2-3916-40a6-a38f-cd768cd6d919",
   "metadata": {},
   "outputs": [],
   "source": [
    "numbers[]  # 17"
   ]
  },
  {
   "cell_type": "code",
   "execution_count": null,
   "id": "5e442f0d-1164-48cb-a9d7-d58c9bd4ac31",
   "metadata": {},
   "outputs": [],
   "source": [
    "numbers[]  # [5, 5]"
   ]
  },
  {
   "cell_type": "code",
   "execution_count": null,
   "id": "f5c5502e-8802-424e-a2d6-a43476b09417",
   "metadata": {},
   "outputs": [],
   "source": [
    "numbers[]  # [5, 9, 17]"
   ]
  },
  {
   "cell_type": "code",
   "execution_count": null,
   "id": "0d163598-b78d-4da0-a0c8-6b4087c71b57",
   "metadata": {},
   "outputs": [],
   "source": [
    "numbers\n",
    "numbers  # [-2, 4, 5, 5, 9, 17, 3]"
   ]
  },
  {
   "metadata": {},
   "cell_type": "markdown",
   "source": [
    "Forstod/løste du alle opgaver på denne side?\n",
    "Ellers spørg [W3schools](https://www.w3schools.com/python/), [Google](https://www.google.com),\n",
    "[Perplexity](https://perplexity.ai), andre elever eller læreren.\n",
    "\n",
    "Arbejd videre med den næste Jupyter Notebook."
   ],
   "id": "9bf1bd7e7f925e58"
  }
 ],
 "metadata": {
  "kernelspec": {
   "display_name": "Python 3 (ipykernel)",
   "language": "python",
   "name": "python3"
  },
  "language_info": {
   "codemirror_mode": {
    "name": "ipython",
    "version": 3
   },
   "file_extension": ".py",
   "mimetype": "text/x-python",
   "name": "python",
   "nbconvert_exporter": "python",
   "pygments_lexer": "ipython3",
   "version": "3.10.7"
  }
 },
 "nbformat": 4,
 "nbformat_minor": 5
}
