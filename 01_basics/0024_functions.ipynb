{
 "cells": [
  {
   "cell_type": "markdown",
   "id": "03fbec3e-7c5b-4e64-8a0b-5128293d4932",
   "metadata": {},
   "source": "## Funktioner (Functions)"
  },
  {
   "metadata": {},
   "cell_type": "markdown",
   "source": [
    "En funktion lader os oprette et sæt instruktioner, som vi kan køre efter behov.\n",
    "\n",
    "Funktioner er essentielle i Python og i mange andre programmeringssprog. De hjælper os med at skabe meningsfulde programmer, fordi de tillader os at opdele et program i håndterbare dele, og de fremmer læsbarhed og genbrug af kode.\n",
    "\n",
    "Her er et eksempel på en funktion kaldet `hello`:"
   ],
   "id": "e975c114956dfda3"
  },
  {
   "metadata": {},
   "cell_type": "code",
   "source": [
    "def hello():\n",
    "    print(\"Hello\")\n",
    "    print(\"friend!\")"
   ],
   "id": "4dce47a7239d193d",
   "outputs": [],
   "execution_count": null
  },
  {
   "metadata": {},
   "cell_type": "markdown",
   "source": [
    "Dette er funktionens _definition_. Den starter altid med `def`. Derefter kommer funktionens navn `hello`, derefter parentes `()` og derefter et kolon.\n",
    "\n",
    "Alle øvrige linjer, der hører til funktionen, kaldes funktionens _krop_ (_body_). De kan kendes på, at de er indrykket med 4 mellemrum.\n",
    "\n",
    "For at køre denne funktion skal vi kalde den. Dette er syntaksen for at kalde funktionen:"
   ],
   "id": "fad56042f93e4324"
  },
  {
   "metadata": {},
   "cell_type": "code",
   "source": "hello()",
   "id": "92ac1e4059c72b7e",
   "outputs": [],
   "execution_count": null
  },
  {
   "metadata": {},
   "cell_type": "markdown",
   "source": [
    "Vi kan udføre denne funktion én gang eller flere gange.\n",
    "\n",
    "Et godt valg af funktionens navn er meget vigtigt. Det bør være beskrivende, så enhver, der kalder den, kan forestille sig, hvad funktionen gør.\n",
    "\n",
    "En funktion kan acceptere en eller flere parametre:"
   ],
   "id": "75cf0fdbf9e36b7f"
  },
  {
   "metadata": {},
   "cell_type": "code",
   "source": [
    "def hello(name):\n",
    "    print(\"Hello \" + name + \"!\")"
   ],
   "id": "c5b59362a7c9dca7",
   "outputs": [],
   "execution_count": null
  },
  {
   "metadata": {},
   "cell_type": "markdown",
   "source": "I dette tilfælde tilføjer vi argumentet når vi kalder funktionen:",
   "id": "35303baabdda7bd2"
  },
  {
   "metadata": {},
   "cell_type": "code",
   "source": "hello(\"Hans\")",
   "id": "9b8a1232a1adf979",
   "outputs": [],
   "execution_count": null
  },
  {
   "metadata": {},
   "cell_type": "markdown",
   "source": [
    "Vi kalder de værdier, som funktionen accepterer inde i funktionsdefinitionen, for _parametre_, og de værdier, vi sender til funktionen, når vi kalder den, for _argumenter_.\n",
    "\n",
    "Det er almindeligt at blive forvirret over denne skelnen i begyndelsen :)"
   ],
   "id": "5f935542e9058d99"
  },
  {
   "metadata": {},
   "cell_type": "code",
   "source": [
    "def greet_me(time_of_day):  # time_of_day is the funktion's parameter\n",
    "    print(f\"Good {time_of_day}!\")\n",
    "\n",
    "greet_me(\"Morning\")  # we call the function greet_me() with the argument \"Morning\""
   ],
   "id": "7dbc2a4b84b6ab7d",
   "outputs": [],
   "execution_count": null
  },
  {
   "metadata": {},
   "cell_type": "markdown",
   "source": [
    "\n",
    "Et argument kan have en _standardværdi_ (_default value_), der anvendes, hvis argumentet ikke er specificeret:"
   ],
   "id": "371532d53d09dacc"
  },
  {
   "metadata": {},
   "cell_type": "code",
   "source": [
    "def hello(name=\"my default friend\"):\n",
    "    print(\"Hello \" + name + \"!\")\n",
    "\n",
    "hello(\"Jesper\")\n",
    "hello()"
   ],
   "id": "addb4d1ea02e14cb",
   "outputs": [],
   "execution_count": null
  },
  {
   "metadata": {},
   "cell_type": "markdown",
   "source": "Sådan kan vi acceptere flere parametre:",
   "id": "678628f2413624a8"
  },
  {
   "metadata": {},
   "cell_type": "code",
   "source": [
    "def hello(name, age):\n",
    "    print(\"Hello \" + name + \", you are \" + str(age) + \" years old!\")"
   ],
   "id": "d6b6c2e574aed07a",
   "outputs": [],
   "execution_count": null
  },
  {
   "metadata": {},
   "cell_type": "markdown",
   "source": "I dette tilfælde kalder vi funktionen ved at sende flere argumenter:",
   "id": "168a9f6f74fdf996"
  },
  {
   "metadata": {},
   "cell_type": "code",
   "source": "hello(\"Hans\", 8)",
   "id": "8a3ad4a38ac75973",
   "outputs": [],
   "execution_count": null
  },
  {
   "metadata": {},
   "cell_type": "markdown",
   "source": [
    "Hvis du sender et argument som parametre og ændrer argumentets værdi inde i funktionen, kommer det an på argumentets datatype, om den nye værdi afspejles uden for funktionen.\n",
    "\n",
    "Hvis argumentet har en uforanderlige data type som heltal (int), boolske værdier (bool), flydende tal (float), strenge (str) og tupler (tuple), har argumentets forandring ingen konsekvens udenfor funktionen:"
   ],
   "id": "673e6dc7c8dc990"
  },
  {
   "metadata": {},
   "cell_type": "code",
   "source": [
    "def change(value):\n",
    "    print(f\"First time inside function: {value = }\")\n",
    "    value = 2\n",
    "    print(f\"Second time inside function: {value = }\")\n",
    "\n",
    "\n",
    "val = 1\n",
    "change(val)\n",
    "print(f\"Outside function after function call: {val = }\")"
   ],
   "id": "5028ac7e9d211f02",
   "outputs": [],
   "execution_count": null
  },
  {
   "metadata": {},
   "cell_type": "markdown",
   "source": "Men hvis du sender et objekt, der er foranderligt, som en liste (list) eller dictionary (dict) og du ændrer det, vil ændringen blive afspejlet udenfor:",
   "id": "f189db59b7a37d3b"
  },
  {
   "metadata": {},
   "cell_type": "code",
   "source": [
    "def change_list(some_list):\n",
    "    print(f\"First time inside function: {some_list = }\")\n",
    "    some_list.append(5)\n",
    "    print(f\"Second time inside function: {some_list = }\")\n",
    "\n",
    "\n",
    "my_list = [2, 1]\n",
    "change_list(my_list)\n",
    "print(f\"Outside function after function call: {my_list = }\")"
   ],
   "id": "c6f4b7d2754752f",
   "outputs": [],
   "execution_count": null
  },
  {
   "metadata": {},
   "cell_type": "markdown",
   "source": [
    "\n",
    "\n",
    "En funktion kan returnere en værdi ved hjælp af nøgleordet `return`. For eksempel returnerer vi i dette tilfælde variablen `newnumber`:"
   ],
   "id": "e8271f514a34214b"
  },
  {
   "metadata": {},
   "cell_type": "code",
   "source": [
    "def add_1(number):\n",
    "    new_number = number + 1\n",
    "    return new_number\n",
    "\n",
    "print(f\"{add_1(6) = }\")"
   ],
   "id": "acc669606f78ce0",
   "outputs": [],
   "execution_count": null
  },
  {
   "metadata": {},
   "cell_type": "markdown",
   "source": [
    "Læg mærke til, at det var ikke funktionen `add_1()` som printede. I stedet for har vi printet funktionens _returnværdi_ (_return value_).\n",
    "\n",
    "Når funktionen møder en `return`-linje, slutter funktionen.\n",
    "\n",
    "Vi kan udelade værdien efter `return`. I så fald returnerer funktionen bare `None`:"
   ],
   "id": "812aaf5d5e1f1022"
  },
  {
   "metadata": {},
   "cell_type": "code",
   "source": [
    "def add_1(number):\n",
    "    new_number = number + 1\n",
    "    return\n",
    "\n",
    "print(f\"{add_1(6) = }\")"
   ],
   "id": "20c311b41a600a2f",
   "outputs": [],
   "execution_count": null
  },
  {
   "metadata": {},
   "cell_type": "markdown",
   "source": "Vi kan have `return`-erklæringen inde i en betingelse, hvilket er en almindelig måde at afslutte en funktion på, hvis en startbetingelse ikke er opfyldt:",
   "id": "fc9170673d2fdeb6"
  },
  {
   "metadata": {},
   "cell_type": "code",
   "source": [
    "def hello(name):\n",
    "    \"\"\"Funktionen hilser bare på Jesper og Susi. Den ignorerer alle andre!\"\"\"\n",
    "    if not name in [\"Jesper\", \"Susi\"]:\n",
    "        return\n",
    "    print(\"Hello \" + name + \"!\")\n",
    "\n",
    "hello(\"Jesper\")\n",
    "hello(\"Carl\")"
   ],
   "id": "4c991d3805b03cdc",
   "outputs": [],
   "execution_count": null
  },
  {
   "metadata": {},
   "cell_type": "markdown",
   "source": "Du kan returnere flere værdier ved at bruge kommaseparerede værdier:",
   "id": "86a70d2aad472af9"
  },
  {
   "metadata": {
    "ExecuteTime": {
     "end_time": "2025-04-28T08:58:51.435278Z",
     "start_time": "2025-04-28T08:58:51.430271Z"
    }
   },
   "cell_type": "code",
   "source": [
    "def hello(name):\n",
    "    print(\"Hello \" + name + \"!\")\n",
    "    return name, \"Hans\",\n",
    "\n",
    "print(f'{hello(\"Klaus\") = }')"
   ],
   "id": "dc4640f71579857f",
   "outputs": [
    {
     "name": "stdout",
     "output_type": "stream",
     "text": [
      "Hello Klaus!\n",
      "hello(\"Klaus\") = ('Klaus', 'Hans')\n"
     ]
    }
   ],
   "execution_count": 1
  },
  {
   "metadata": {},
   "cell_type": "markdown",
   "source": "### Øvelser",
   "id": "947db0eb37fd287b"
  },
  {
   "cell_type": "code",
   "id": "712d0d66-5e4a-4c0f-812f-e7f5a4b7e1e3",
   "metadata": {},
   "source": [
    "def hello():\n",
    "    print(\"hello world\")\n",
    "\n",
    "\n",
    "def type_something():\n",
    "    user_input = input(\"click into the console window, then type something and press <return>:  \")\n",
    "    print(\"You typed: \" + user_input)"
   ],
   "outputs": [],
   "execution_count": null
  },
  {
   "cell_type": "markdown",
   "id": "6899002e-7bb0-487a-95a9-f574463dc388",
   "metadata": {},
   "source": "Skriv et program i den næste celle, som først kalder funktionen hello og derefter funktionen type_something. Test det. "
  },
  {
   "cell_type": "code",
   "id": "182f0901-114f-4fc0-b1ed-0ffa2ff72694",
   "metadata": {},
   "source": [
    "# Skriv dit program herinde\n"
   ],
   "outputs": [],
   "execution_count": null
  },
  {
   "cell_type": "markdown",
   "id": "52ea536e-22d6-4479-bb35-217a00c95564",
   "metadata": {},
   "source": [
    "Korriger funktionen i den næste celle og test det med hjælp af den næstfølgende celle."
   ]
  },
  {
   "cell_type": "code",
   "id": "62aa0d8d-774e-4101-8a30-bde488972b84",
   "metadata": {},
   "source": [
    "def multiply(number1, number2):  # multiplies number1 and number2\n",
    "    return number1 + 3"
   ],
   "outputs": [],
   "execution_count": null
  },
  {
   "cell_type": "markdown",
   "id": "fa764893-fe16-4c78-8e7f-495f8e698a54",
   "metadata": {},
   "source": [
    "number1 og number2 i den sidste celle kalder man __funktionens parametre__.  \n",
    "5 og 4 i den næste celle kalder man __argumenterne__.  \n",
    "Når man opkalder en funktion,  får parametrene argumenternes værdier.  "
   ]
  },
  {
   "cell_type": "code",
   "id": "fe9b179c-5e1d-4419-9296-c1fecbcc6bec",
   "metadata": {},
   "source": [
    "print(f\"{multiply(4, 11) = }\")  # result should be 44\n",
    "print(f\"{multiply(13, 3) = }\")  # result should be 39"
   ],
   "outputs": [],
   "execution_count": null
  },
  {
   "cell_type": "markdown",
   "id": "66c2e14b-b8fc-409b-82ea-8a2903d19ab0",
   "metadata": {},
   "source": [
    " I den næste celle, skriv en funktion med navnet \"sign\".   \n",
    " Funktionen har en parameter \"number\" og returnerer teksten \"positive\", \"null\" eller \"negative\", afhængig af parameterens fortegn.    "
   ]
  },
  {
   "cell_type": "code",
   "id": "3e6f05e2-6bf6-4ba7-8d02-985d994438db",
   "metadata": {},
   "source": [
    "# Skriv din funktion herinde og udfør cellen\n",
    "# Derefter udfør den næste celle.\n"
   ],
   "outputs": [],
   "execution_count": null
  },
  {
   "cell_type": "code",
   "id": "946c287f-26f6-468b-8654-068fcab0e411",
   "metadata": {},
   "source": [
    "# Udføre denne celle for at teste din funktion sign() i den forrige celle.\n",
    "# Funktionen \"check\" opkalder din funktion \"sign\".\n",
    "def check(test_number):\n",
    "    print(test_number, \"is\", sign(test_number))\n",
    "\n",
    "check(-6)\n",
    "check(44)\n",
    "check(0)"
   ],
   "outputs": [],
   "execution_count": null
  },
  {
   "cell_type": "markdown",
   "id": "182e5e97-f07c-4f80-9ee4-23960454dae1",
   "metadata": {},
   "source": "#### Required positional parameters and optional parameters"
  },
  {
   "metadata": {},
   "cell_type": "code",
   "source": [
    "def add(number1, number2=0, number3=0):  # Adds 3 numbers. The second and third parameter is optional and has a default value.\n",
    "    print(number1 + number2 + number3)"
   ],
   "id": "4dc765f6-4425-4647-ac66-8ddecad20073",
   "outputs": [],
   "execution_count": null
  },
  {
   "metadata": {},
   "cell_type": "markdown",
   "source": "Udfør den næste celle. Forstå fejlmeldinger. Udkommenter fejlagtige  kodelinjer og udfør cellen igen.",
   "id": "f0d5aca7-f647-4dcf-9962-76f22b67531d"
  },
  {
   "metadata": {},
   "cell_type": "code",
   "source": [
    "add()\n",
    "add(5)\n",
    "add(3, 7)\n",
    "add(3, 7, 6)\n",
    "add(2, 6, 8, 10)"
   ],
   "id": "4e1e0607-9189-4530-b8f4-174ac10673df",
   "outputs": [],
   "execution_count": null
  },
  {
   "cell_type": "markdown",
   "id": "b29b19f3-ac80-487c-ba0c-6f0ac0d8fb91",
   "metadata": {},
   "source": [
    "Som udgangspunkt er funktionsparametre i Python obligatorisk (required) og parametrenes rækkefølge er relevant (positional).  \n",
    "Optionale parametre markeres ganske enkelt med default værdier.  \n",
    "Alle obligatoriske parametre skal dog komme før den første optionale parameter.  \n",
    "Når man kalder en funktion angives de optionale parametres navne."
   ]
  },
  {
   "cell_type": "code",
   "id": "2982de81-2630-493f-b3f7-79d7cbc272e3",
   "metadata": {},
   "source": [
    "def examplefunction(a, b, c=0, d=\"optional\"):\n",
    "    print(a, b, c, d)"
   ],
   "outputs": [],
   "execution_count": null
  },
  {
   "cell_type": "markdown",
   "id": "cba95c87-7620-4df4-860e-9abeaa0333d1",
   "metadata": {},
   "source": [
    "Udfør de næste celler en af gangen. Før du udfører en celle, regn resultatet ud på forhånd. \n",
    "\n",
    "Hvis der kommer en fejlmelding, ret koden.\n",
    "\n",
    "Når du får et uventet resultat, find ud af hvorfor.\n",
    "Leg gerne med cellerne. Forandre dem og udfør dem igen. Du kan også tilføje nye celler."
   ]
  },
  {
   "cell_type": "code",
   "id": "7fdbb359-15de-466b-9b50-b8074db6cfa8",
   "metadata": {},
   "source": "examplefunction(8, \"hello\")",
   "outputs": [],
   "execution_count": null
  },
  {
   "cell_type": "code",
   "id": "34072cdf-9b78-458d-9f49-c9ee41878d9b",
   "metadata": {},
   "source": "examplefunction(817, 43, d=14)",
   "outputs": [],
   "execution_count": null
  },
  {
   "cell_type": "code",
   "id": "ee727013-81fb-4c18-9961-b721fc5f5bdc",
   "metadata": {},
   "source": "examplefunction(817, 43, c=14)",
   "outputs": [],
   "execution_count": null
  },
  {
   "cell_type": "code",
   "id": "0e7e84cd-b566-4687-84ec-64ecef43d379",
   "metadata": {},
   "source": "examplefunction(c=817, 43, 14)",
   "outputs": [],
   "execution_count": null
  },
  {
   "cell_type": "code",
   "id": "e2d2137b-0a46-4924-9533-2954ea77011d",
   "metadata": {},
   "source": "examplefunction(817, c=43, d=14)",
   "outputs": [],
   "execution_count": null
  },
  {
   "metadata": {},
   "cell_type": "markdown",
   "source": [
    "Forstod/løste du alle opgaver på denne side?\n",
    "Ellers spørg [W3schools](https://www.w3schools.com/python/), [Google](https://www.google.com),\n",
    "[Perplexity](https://perplexity.ai), andre elever eller læreren.\n",
    "\n",
    "Arbejd videre med den næste Jupyter Notebook."
   ],
   "id": "718b56f04d792b34"
  }
 ],
 "metadata": {
  "kernelspec": {
   "display_name": "Python 3 (ipykernel)",
   "language": "python",
   "name": "python3"
  },
  "language_info": {
   "codemirror_mode": {
    "name": "ipython",
    "version": 3
   },
   "file_extension": ".py",
   "mimetype": "text/x-python",
   "name": "python",
   "nbconvert_exporter": "python",
   "pygments_lexer": "ipython3",
   "version": "3.10.7"
  }
 },
 "nbformat": 4,
 "nbformat_minor": 5
}
