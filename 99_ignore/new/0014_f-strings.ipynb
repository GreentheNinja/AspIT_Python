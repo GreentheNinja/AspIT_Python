{
 "cells": [
  {
   "cell_type": "markdown",
   "id": "96295c0b-871e-4fd5-8b96-80c7b3d2ae5e",
   "metadata": {},
   "source": "## f-strings"
  },
  {
   "metadata": {},
   "cell_type": "markdown",
   "source": [
    "F-strings er formaterede strings, som kendetegnes med et `f` før det indledende anførselstegn.\n",
    "\n",
    "De kan indeholde Python-udtryk omsluttet af krøllede parenteser (Tuborgparenteser, curly braces).\n",
    "Python vil erstatte disse udtryk med deres resulterende værdier.\n",
    "\n",
    "Eksempel:"
   ],
   "id": "1b798e5b40b14d4b"
  },
  {
   "metadata": {},
   "cell_type": "code",
   "source": [
    "name = \"Hans\"\n",
    "age = 22\n",
    "print(f\"Hello, {name}! You're {age} years old.\")"
   ],
   "id": "8ec6ad7b46a86df4",
   "outputs": [],
   "execution_count": null
  },
  {
   "metadata": {},
   "cell_type": "markdown",
   "source": [
    "\n",
    "Du kan integrere næsten ethvert Python-udtryk i en f-string.\n",
    "\n",
    "I den følgende eksempel ganger programmet `2` med `21` og interpolerer straks den resulterende værdi i den endelige string."
   ],
   "id": "4b3f4e668f870dd1"
  },
  {
   "metadata": {},
   "cell_type": "code",
   "source": "print(f\"The answer is {2 * 21}.\")",
   "id": "ef8657e318c22fef",
   "outputs": [],
   "execution_count": null
  },
  {
   "metadata": {},
   "cell_type": "markdown",
   "source": [
    "Du kan også bruge andre Python-udtryk, herunder funktionskald og andre mere komplekse udtryk.\n",
    "\n",
    "Her indlejrer du et kald til strengmetoden (_stringmethod_) `.upper()` i det første erstatningsfelt.\n",
    "Python kører metodekaldet og indsætter det store navn i den resulterende string."
   ],
   "id": "4f99f6497fae92fe"
  },
  {
   "metadata": {},
   "cell_type": "code",
   "source": [
    "name = \"Jesper\"\n",
    "age = 25\n",
    "text = f\"Hello, {name.upper()}! Last year, you were {age - 1} years old.\"\n",
    "print(text)"
   ],
   "id": "957d2da82383461f",
   "outputs": [],
   "execution_count": null
  },
  {
   "metadata": {},
   "cell_type": "markdown",
   "source": "## Øvelser",
   "id": "b781961d6ee38b66"
  },
  {
   "cell_type": "markdown",
   "id": "7a347189-a5a2-4de3-b2d0-c49d12e0ee87",
   "metadata": {},
   "source": [
    "Udfør de næste celler en af gangen. Før du udfører en celle, regn resultatet ud på forhånd. Når du får et uventet resultat, find ud af hvorfor.\n",
    "Leg gerne med cellerne. Forandre dem og udfør dem igen. Du kan også tilføje nye celler."
   ]
  },
  {
   "metadata": {},
   "cell_type": "code",
   "source": [
    "city = \"Copenhagen\"\n",
    "latitude = 56\n",
    "print(f\"{city} is located at {latitude} degrees latitude.\")"
   ],
   "id": "1a892d25-feec-4520-9ab9-b83778c48c4c",
   "outputs": [],
   "execution_count": null
  },
  {
   "cell_type": "code",
   "id": "d7d2355d-544b-41c6-beff-5b19f93de0f4",
   "metadata": {},
   "source": "print(f\"{city[:3]}. is located at {latitude} degrees latitude.\")",
   "outputs": [],
   "execution_count": null
  },
  {
   "cell_type": "code",
   "id": "bffc3647-90c4-41b4-a957-ef3be1fa5cbd",
   "metadata": {},
   "source": "print(f\"{city} is located {90 - latitude} degrees away from the north pole.\")",
   "outputs": [],
   "execution_count": null
  },
  {
   "cell_type": "code",
   "id": "c11a86e2-3b53-44ea-a565-57fee8bd5422",
   "metadata": {},
   "source": "print(f\"{city} {latitude} {4*3}\")",
   "outputs": [],
   "execution_count": null
  },
  {
   "cell_type": "markdown",
   "id": "29ea1122-b292-4eeb-bea5-948d832261bb",
   "metadata": {},
   "source": [
    "Specielt når du søger en fejl i dit program, er det følgende meget praktisk. Bare set et lighedstegn bag hvert udtryk i krøllet parenteser."
   ]
  },
  {
   "cell_type": "code",
   "id": "ba3196f8-3e52-4ffc-9a60-08a00958ea0f",
   "metadata": {},
   "source": "print(f\"{city=} {latitude=} {4*3=}\")",
   "outputs": [],
   "execution_count": null
  },
  {
   "cell_type": "markdown",
   "id": "1035207c-9660-4c45-82d7-809583aa8c5c",
   "metadata": {},
   "source": [
    "Bemærk: når du bruger citationstegn (gåseøjne) indenfor en f-string, brug  den ene slags (enkelt  eller dobbelt) udenfor og den anden slags indenfor.  \n",
    "Eksempler:\n"
   ]
  },
  {
   "cell_type": "code",
   "id": "456110f8-fd24-47a9-8fdc-d9256280bf24",
   "metadata": {},
   "source": "print(f\" {'this is'} {'ok'} \")",
   "outputs": [],
   "execution_count": null
  },
  {
   "cell_type": "code",
   "id": "109140fd-fe9f-4fd2-9127-8de727427b3e",
   "metadata": {},
   "source": "print(f' {\"this is\"} {\"also ok\"} ')",
   "outputs": [],
   "execution_count": null
  },
  {
   "cell_type": "markdown",
   "id": "d9d198c6ca139b46",
   "metadata": {},
   "source": "Udfør den næste celle."
  },
  {
   "metadata": {},
   "cell_type": "code",
   "source": [
    "country = \"Norway\"\n",
    "continent = \"Europe\"\n",
    "population = 5400000\n",
    "area = 385000  # square kilometers"
   ],
   "id": "4f1e2bd4-4d40-48b0-a8a4-a38b5c79dbe2",
   "outputs": [],
   "execution_count": null
  },
  {
   "metadata": {},
   "cell_type": "markdown",
   "source": "Tilføj kode til de følgende celler, sådan at resultatet bliver den udtryk i kommentaren. Brug variablerne country, continent, population, area.",
   "id": "67f3e047-5370-410b-b8a0-f04e9053f3b3"
  },
  {
   "cell_type": "code",
   "id": "06b9a8c8-fed3-4449-b5d6-162a00b86f01",
   "metadata": {},
   "source": [
    "f\" \" # Norway is part of Europe."
   ],
   "outputs": [],
   "execution_count": null
  },
  {
   "cell_type": "code",
   "id": "5c757a41-d542-4a8a-ba9e-3b81e53a332f",
   "metadata": {},
   "source": [
    "f\" \" # Norway has a population of 5400000."
   ],
   "outputs": [],
   "execution_count": null
  },
  {
   "cell_type": "code",
   "id": "ff1f7176-62e8-4b50-9a23-3f544b44ae8f",
   "metadata": {},
   "source": [
    "# Calculate the correct value for x:\n",
    "f\" \" # Norway has a population density of x inhabitants per square kilomter."
   ],
   "outputs": [],
   "execution_count": null
  },
  {
   "metadata": {},
   "cell_type": "markdown",
   "source": "Hvis du vil, kan du læse meget mere om f-strings [her](https://realpython.com/python-f-strings/#f-strings-a-new-and-improved-way-to-format-strings-in-python).",
   "id": "8d9ba66b35f42db7"
  },
  {
   "metadata": {},
   "cell_type": "markdown",
   "source": [
    "Forstod/løste du alle opgaver på denne side?\n",
    "Ellers spørg [W3schools](https://www.w3schools.com/python/), [Google](https://www.google.com),\n",
    "[Perplexity](https://perplexity.ai), andre elever eller læreren.\n",
    "\n",
    "Arbejd videre med den næste Jupyter Notebook."
   ],
   "id": "36807017c559b52a"
  }
 ],
 "metadata": {
  "kernelspec": {
   "display_name": "Python 3 (ipykernel)",
   "language": "python",
   "name": "python3"
  },
  "language_info": {
   "codemirror_mode": {
    "name": "ipython",
    "version": 3
   },
   "file_extension": ".py",
   "mimetype": "text/x-python",
   "name": "python",
   "nbconvert_exporter": "python",
   "pygments_lexer": "ipython3",
   "version": "3.10.7"
  }
 },
 "nbformat": 4,
 "nbformat_minor": 5
}
