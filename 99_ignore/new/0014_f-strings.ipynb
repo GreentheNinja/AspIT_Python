{
 "cells": [
  {
   "cell_type": "markdown",
   "id": "96295c0b-871e-4fd5-8b96-80c7b3d2ae5e",
   "metadata": {},
   "source": "## f-strings"
  },
  {
   "cell_type": "markdown",
   "id": "4c5d22f7-2c1b-4054-a50d-2761ca9f67b9",
   "metadata": {},
   "source": [
    "##### Indenfor denne kæmpe artikel om [\"f-strings in Python\"](https://realpython.com/python-f-strings/#f-strings-a-new-and-improved-way-to-format-strings-in-python) skal du foreløbig kun læse afsnittet [\"Doing String Interpolation With F-Strings in Python\"](https://realpython.com/python-f-strings/#doing-string-interpolation-with-f-strings-in-python) (klik på linket)     \n",
    " "
   ]
  },
  {
   "cell_type": "code",
   "execution_count": null,
   "id": "1a892d25-feec-4520-9ab9-b83778c48c4c",
   "metadata": {},
   "outputs": [],
   "source": [
    "city = \"Copenhagen\"\n",
    "latitude = 56"
   ]
  },
  {
   "cell_type": "markdown",
   "id": "7a347189-a5a2-4de3-b2d0-c49d12e0ee87",
   "metadata": {},
   "source": [
    "Udfør de næste celler en af gangen. Før du udfører en celle, regn resultatet ud på forhånd. Når du får et uventet resultat, find ud af hvorfor.\n",
    "Leg gerne med cellerne. Forandre dem og udfør dem igen. Du kan også tilføje nye celler."
   ]
  },
  {
   "cell_type": "code",
   "execution_count": null,
   "id": "78c458e0-0a1e-4c62-a56e-e4ec706494fb",
   "metadata": {},
   "outputs": [],
   "source": [
    "f\"{city} is located at {latitude} degrees latitude.\""
   ]
  },
  {
   "cell_type": "code",
   "execution_count": null,
   "id": "d7d2355d-544b-41c6-beff-5b19f93de0f4",
   "metadata": {},
   "outputs": [],
   "source": [
    "f\"{city[:3]}. is located at {latitude} degrees latitude.\""
   ]
  },
  {
   "cell_type": "code",
   "execution_count": null,
   "id": "bffc3647-90c4-41b4-a957-ef3be1fa5cbd",
   "metadata": {},
   "outputs": [],
   "source": [
    "f\"{city} is located {90 - latitude} degrees away from the north pole.\""
   ]
  },
  {
   "cell_type": "code",
   "execution_count": null,
   "id": "c11a86e2-3b53-44ea-a565-57fee8bd5422",
   "metadata": {},
   "outputs": [],
   "source": [
    "f\"{city} {latitude} {17*3}\""
   ]
  },
  {
   "cell_type": "markdown",
   "id": "29ea1122-b292-4eeb-bea5-948d832261bb",
   "metadata": {},
   "source": [
    "Specielt når du søger en fejl i dit program, er det følgende meget praktisk. Bare set et lighedstegn bag hvert udtryk i krøllet parenteser."
   ]
  },
  {
   "cell_type": "code",
   "execution_count": null,
   "id": "ba3196f8-3e52-4ffc-9a60-08a00958ea0f",
   "metadata": {},
   "outputs": [],
   "source": [
    "f\"{city=} {latitude=} {17*3=}\""
   ]
  },
  {
   "cell_type": "markdown",
   "id": "1035207c-9660-4c45-82d7-809583aa8c5c",
   "metadata": {},
   "source": [
    "Bemærk: når du bruger citationstegn (gåseøjne) indenfor en f-string, brug  den ene slags (enkelt  eller dobbelt) udenfor og den anden slags indenfor.  \n",
    "Eksempler:\n"
   ]
  },
  {
   "cell_type": "code",
   "execution_count": null,
   "id": "456110f8-fd24-47a9-8fdc-d9256280bf24",
   "metadata": {},
   "outputs": [],
   "source": [
    "f\" {'this is'} {'ok'} \""
   ]
  },
  {
   "cell_type": "code",
   "execution_count": null,
   "id": "109140fd-fe9f-4fd2-9127-8de727427b3e",
   "metadata": {},
   "outputs": [],
   "source": [
    "f' {\"this is\"} {\"also ok\"} '"
   ]
  },
  {
   "cell_type": "code",
   "execution_count": null,
   "id": "431b6301-b9c5-4ee1-a975-e1bcdc6eac72",
   "metadata": {},
   "outputs": [],
   "source": [
    "f\" {\"this \"}  {\" throws an error\"} \""
   ]
  },
  {
   "cell_type": "code",
   "execution_count": null,
   "id": "4f1e2bd4-4d40-48b0-a8a4-a38b5c79dbe2",
   "metadata": {},
   "outputs": [],
   "source": [
    "country = \"Norway\"\n",
    "continent = \"Europe\"\n",
    "population = 5400000\n",
    "area = 385000  # square kilometers"
   ]
  },
  {
   "cell_type": "markdown",
   "id": "67f3e047-5370-410b-b8a0-f04e9053f3b3",
   "metadata": {},
   "source": [
    "Tilføj kode til de følgende celler, sådan at resultatet bliver den udtryk i kommentaren. Brug variablerne country, continent, population, area."
   ]
  },
  {
   "cell_type": "code",
   "execution_count": null,
   "id": "06b9a8c8-fed3-4449-b5d6-162a00b86f01",
   "metadata": {},
   "outputs": [],
   "source": [
    "f\" \" # Norway is part of Europe."
   ]
  },
  {
   "cell_type": "code",
   "execution_count": null,
   "id": "5c757a41-d542-4a8a-ba9e-3b81e53a332f",
   "metadata": {},
   "outputs": [],
   "source": [
    "f\" \" # Norway has a population of 5400000."
   ]
  },
  {
   "cell_type": "code",
   "execution_count": null,
   "id": "ff1f7176-62e8-4b50-9a23-3f544b44ae8f",
   "metadata": {},
   "outputs": [],
   "source": [
    "# Calculate the correct value for x:\n",
    "f\" \" # Norway has a population density of x inhabitants per square kilomter."
   ]
  },
  {
   "metadata": {},
   "cell_type": "markdown",
   "source": [
    "Forstod/løste du alle opgaver på denne side?\n",
    "Ellers spørg [W3schools](https://www.w3schools.com/python/), [Google](https://www.google.com),\n",
    "[Perplexity](https://perplexity.ai), andre elever eller læreren.\n",
    "\n",
    "Arbejd videre med den næste Jupyter Notebook."
   ],
   "id": "36807017c559b52a"
  }
 ],
 "metadata": {
  "kernelspec": {
   "display_name": "Python 3 (ipykernel)",
   "language": "python",
   "name": "python3"
  },
  "language_info": {
   "codemirror_mode": {
    "name": "ipython",
    "version": 3
   },
   "file_extension": ".py",
   "mimetype": "text/x-python",
   "name": "python",
   "nbconvert_exporter": "python",
   "pygments_lexer": "ipython3",
   "version": "3.10.7"
  }
 },
 "nbformat": 4,
 "nbformat_minor": 5
}
