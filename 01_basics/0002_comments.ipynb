{
 "cells": [
  {
   "cell_type": "markdown",
   "id": "98ec751f1d382e4f",
   "metadata": {},
   "source": "## Introduktion, din første kode, kommentarer"
  },
  {
   "metadata": {},
   "cell_type": "markdown",
   "source": "#### Introduktion",
   "id": "1457d0ccf60db875"
  },
  {
   "metadata": {},
   "cell_type": "markdown",
   "source": [
    "Velkommen til dette Python-begyndertutorial!\n",
    "Python er et populært og brugervenligt programmeringssprog, der er perfekt for nybegyndere.\n",
    "\n",
    "Python kan bruges til alt fra webudvikling til dataanalyse og kunstig intelligens.\n",
    "\n",
    "I dette tutorial vil vi starte med det grundlæggende og guide dig gennem dine første skridt i Python-programmering.\n",
    "\n",
    "Den hjemmeside, du ser på lige nu, er en såkaldt _Jupyter Notebook_. Ud over tekster og billeder indeholder den også celler med små computerprogrammer.\n",
    "\n",
    "Du kan køre og ændre disse programmer her i webbrowseren.\n",
    "\n",
    "Lad os begynde med det klassiske \"Hello World\"-program, som er en tradition inden for programmering."
   ],
   "id": "f7de50df98a00f3e"
  },
  {
   "metadata": {},
   "cell_type": "markdown",
   "source": "#### Dit første python programm",
   "id": "c40d1a45-f8cb-4265-ab24-1298ee9a13e6"
  },
  {
   "cell_type": "markdown",
   "id": "c0400477-8237-44fc-a6e4-711b35ac9729",
   "metadata": {},
   "source": "Klik på den næste celle og tryk så `Shift+Enter` eller klik på play-knappen foran cellen for at udføre koden i cellen."
  },
  {
   "cell_type": "code",
   "id": "2e9843e0-cdc6-4a10-a1cc-81a07f91ea0c",
   "metadata": {},
   "source": "print(\"hello world\")",
   "outputs": [],
   "execution_count": null
  },
  {
   "cell_type": "markdown",
   "id": "a7829e39-3751-493e-be90-cd58019aefa8",
   "metadata": {},
   "source": [
    "Tillykke, du har udført  dit første python script :)\n",
    "\n",
    "Klik på den næste celle og ændr teksten mellem `\"\"`.\n",
    "Udfør derefter koden i cellen."
   ]
  },
  {
   "cell_type": "code",
   "id": "80f685f3-f53d-4344-a33b-23f518704b90",
   "metadata": {},
   "source": [
    "print(\"ændr det her\")"
   ],
   "outputs": [],
   "execution_count": null
  },
  {
   "metadata": {},
   "cell_type": "markdown",
   "source": "#### Kommentarer",
   "id": "d8ed7f2392a8e8d5"
  },
  {
   "cell_type": "markdown",
   "source": [
    "Du kan tilføje kommentarer til din programkode.\n",
    "\n",
    "Kommentarer har ingen indflydelse på programmet. Men de kan hjælpe dig og andre med at forstå programmet.\n",
    "\n",
    "I Python er kommentarer markeret med tegnet `#`.\n",
    "\n",
    "I dette undervisningsmateriale er forklaringerne typisk på dansk mens kommentarer er mest på engelsk.\n",
    "\n",
    "Det er en god idé at du også bruger engelsk i dine kommentarer, så alle kan forstå dine noter.\n",
    "\n",
    "\n",
    "Udfør den næste celle."
   ],
   "metadata": {
    "collapsed": false
   },
   "id": "7fb4c0f9860e6341"
  },
  {
   "cell_type": "code",
   "source": [
    "# Dette er en kommentar. En kommentar kan stå alene i en linje.\n",
    "print(\"Only this code line does something\")  # Dette er også en kommentar. Kommentaren kan også placeres efter en kodelinje."
   ],
   "metadata": {
    "collapsed": false
   },
   "id": "65310e14c764740b",
   "outputs": [],
   "execution_count": null
  },
  {
   "metadata": {},
   "cell_type": "markdown",
   "source": [
    "I hele denne tutorial skal du ikke kun følge instruktionerne nøje, men også lege med koden.\n",
    "\n",
    "Eksperimenter. Ændr koden i en celle. Udfør den. Ændr den igen. Udfør den igen. Hvad har ændret sig?\n",
    "\n",
    "At prøve sig frem er den bedste måde at lære på, og forhåbentlig synes du også, det er sjovt."
   ],
   "id": "c67c8763fd2554e2"
  },
  {
   "metadata": {},
   "cell_type": "markdown",
   "source": [
    "Hvis du redigerer denne notesbog i en webbrowser, kan du gemme din egen kopi, hvis du vil.\n",
    "\n",
    "Det gør du ved at klikke på `File` øverst i menuen og derefter på `Save a copy in drive`. (Se screenshot.)\n",
    "\n",
    "![Some image](../images/SaveNotebook.png)"
   ],
   "id": "a8ec452654575a94"
  },
  {
   "cell_type": "markdown",
   "id": "c9e42d16-9a04-4e2d-a8f2-5881b48927a6",
   "metadata": {},
   "source": [
    "Forstod/løste du alt på denne side?\n",
    "Ellers spørg [W3schools](https://www.w3schools.com/python/), [Google](https://www.google.com),\n",
    "[Perplexity](https://perplexity.ai), andre elever eller læreren.\n",
    "\n",
    "Arbejd videre med den næste Jupyter Notebook."
   ]
  }
 ],
 "metadata": {
  "kernelspec": {
   "display_name": "Python 3 (ipykernel)",
   "language": "python",
   "name": "python3"
  },
  "language_info": {
   "codemirror_mode": {
    "name": "ipython",
    "version": 3
   },
   "file_extension": ".py",
   "mimetype": "text/x-python",
   "name": "python",
   "nbconvert_exporter": "python",
   "pygments_lexer": "ipython3",
   "version": "3.11.3"
  },
  "toc-autonumbering": false,
  "toc-showcode": false,
  "toc-showmarkdowntxt": false,
  "toc-showtags": false
 },
 "nbformat": 4,
 "nbformat_minor": 5
}
