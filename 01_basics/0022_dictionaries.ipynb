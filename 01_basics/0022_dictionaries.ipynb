{
 "cells": [
  {
   "cell_type": "markdown",
   "id": "03fbec3e-7c5b-4e64-8a0b-5128293d4932",
   "metadata": {},
   "source": "## Ordbøger (dictionaries)"
  },
  {
   "metadata": {},
   "cell_type": "markdown",
   "source": [
    "Mens lister tillader dig at oprette samlinger af værdier, tillader dictionaries dig at oprette samlinger af nøgle/værdi-par.\n",
    "\n",
    "Her er et eksempel på et dictionary med ét nøgle/værdi-par:"
   ],
   "id": "abfbedcb1cccbf60"
  },
  {
   "metadata": {},
   "cell_type": "code",
   "source": "dog = { 'name': 'Bingo' }",
   "id": "f098d5cade72a44d",
   "outputs": [],
   "execution_count": null
  },
  {
   "metadata": {},
   "cell_type": "markdown",
   "source": [
    "Nøglen kan være enhver uforanderlig værdi som en string, et tal eller en tupel. Værdien kan være hvad som helst, du ønsker.\n",
    "\n",
    "Et dictionary kan indeholde flere nøgle/værdi-par:"
   ],
   "id": "17b08224577bb2fe"
  },
  {
   "metadata": {},
   "cell_type": "code",
   "source": "dog = { 'name': 'Bingo', 'age': 8 }",
   "id": "6fa31238edd9dbfb",
   "outputs": [],
   "execution_count": null
  },
  {
   "metadata": {},
   "cell_type": "markdown",
   "source": "Du kan få adgang til individuelle nøgleværdier ved hjælp af denne notation:",
   "id": "42bd62f715bac23e"
  },
  {
   "metadata": {},
   "cell_type": "code",
   "source": [
    "print(f\"{dog['name'] = }\")\n",
    "print(f\"{dog['age'] = }\")"
   ],
   "id": "2417d21205498d73",
   "outputs": [],
   "execution_count": null
  },
  {
   "metadata": {},
   "cell_type": "markdown",
   "source": "Ved at bruge samme notation kan du ændre værdien gemt på et specifikt indeks:",
   "id": "6048cfca3dda1210"
  },
  {
   "metadata": {},
   "cell_type": "code",
   "source": [
    "dog['name'] = 'Snoopy'\n",
    "print(f\"{dog['name'] = }\")"
   ],
   "id": "19be7d2af4a94338",
   "outputs": [],
   "execution_count": null
  },
  {
   "metadata": {},
   "cell_type": "markdown",
   "source": "Hvis man forsøger at slå en nøgle op i ordbogen, som ikke findes, afsluttes programmet med en fejlmeddelelse:",
   "id": "fae4b954525ff1b4"
  },
  {
   "metadata": {},
   "cell_type": "code",
   "source": "print(f\"{dog['some_unknown_name']}\")",
   "id": "1efd1a940ba3abea",
   "outputs": [],
   "execution_count": null
  },
  {
   "metadata": {},
   "cell_type": "markdown",
   "source": "Alternativt kan man bruge `get()`-metoden, som har en mulighed for at tilføje en standardværdi. Standardværdien (default value) bliver brugt, når nøglen ikke findes:",
   "id": "174e80f07f2e3c1b"
  },
  {
   "metadata": {},
   "cell_type": "code",
   "source": [
    "print(f\"{dog.get('name') = }\")\n",
    "print(f\"{dog.get('some_unknown_key', 'use_this_if_key_is_unknown') = }\")"
   ],
   "id": "aeede435cea92d86",
   "outputs": [],
   "execution_count": null
  },
  {
   "metadata": {},
   "cell_type": "markdown",
   "source": "`pop()`-metoden henter værdien af en nøgle og sletter efterfølgende elementet fra dictionary'et:",
   "id": "6074db41ae0ce8ef"
  },
  {
   "metadata": {},
   "cell_type": "code",
   "source": [
    "print(f\"before: {dog = }\")\n",
    "dog.pop('name')\n",
    "print(f\"after:  {dog = }\")"
   ],
   "id": "df06031d5de7c4e6",
   "outputs": [],
   "execution_count": null
  },
  {
   "metadata": {},
   "cell_type": "markdown",
   "source": "`popitem()`-metoden henter og fjerner det sidste nøgle/værdi-par, der blev indsat i dictionary'et:",
   "id": "f0e1146bdb213285"
  },
  {
   "metadata": {},
   "cell_type": "code",
   "source": [
    "print(f\"before: {dog = }\")\n",
    "popped_item = dog.popitem()\n",
    "print(f\"after:  {dog = }\")"
   ],
   "id": "dcaed3c7260c4cfe",
   "outputs": [],
   "execution_count": null
  },
  {
   "metadata": {},
   "cell_type": "markdown",
   "source": "Du kan tjekke, om en nøgle er indeholdt i et dictionary med `in`-operatoren:",
   "id": "ab220ce1571b9a3c"
  },
  {
   "metadata": {},
   "cell_type": "code",
   "source": [
    "dog = { 'name': 'Bingo', 'age': 8 }\n",
    "print(f\"{'name' in dog = }\")"
   ],
   "id": "bad96c09adc13813",
   "outputs": [],
   "execution_count": null
  },
  {
   "metadata": {},
   "cell_type": "markdown",
   "source": "Få en liste med nøglerne i et dictionary ved hjælp af `keys()`-metoden, og send resultatet til `list()`-konstruktøren:",
   "id": "7cb5c5179ccc9dfd"
  },
  {
   "metadata": {},
   "cell_type": "code",
   "source": "print(f\"{list(dog.keys()) = }\")",
   "id": "f365f4cd99c871ef",
   "outputs": [],
   "execution_count": null
  },
  {
   "metadata": {},
   "cell_type": "markdown",
   "source": "Få værdierne ved hjælp af `values()`-metoden:",
   "id": "b33fad0a6305f36e"
  },
  {
   "metadata": {},
   "cell_type": "code",
   "source": "print(f\"{list(dog.values()) = }\")",
   "id": "8036e07a3de66b62",
   "outputs": [],
   "execution_count": null
  },
  {
   "metadata": {},
   "cell_type": "markdown",
   "source": "Få nøgle/værdi-par tuplerne ved hjælp af `items()`-metoden:",
   "id": "52d63e5ba8947aeb"
  },
  {
   "metadata": {},
   "cell_type": "code",
   "source": "print(f\"{list(dog.items()) = }\")",
   "id": "2f6b181b1b35f936",
   "outputs": [],
   "execution_count": null
  },
  {
   "metadata": {},
   "cell_type": "markdown",
   "source": "Få et dictionarys længde ved hjælp af den globale funktion `len()`, den samme vi brugte til at få længden af en string eller elementerne i en liste:",
   "id": "ce7f87b2de80ffe1"
  },
  {
   "metadata": {},
   "cell_type": "code",
   "source": "print(f\"{len(dog) = }\")",
   "id": "65e4f6fd0b5528ed",
   "outputs": [],
   "execution_count": null
  },
  {
   "metadata": {},
   "cell_type": "markdown",
   "source": "Du kan tilføje et nyt nøgle/værdi-par til dictionary'et på denne måde:",
   "id": "925996da23189df0"
  },
  {
   "metadata": {},
   "cell_type": "code",
   "source": [
    "print(f\"before: {dog = }\")\n",
    "dog['favorite food'] = 'Meat'\n",
    "print(f\"after:  {dog = }\")"
   ],
   "id": "a24e8e6d97b7b5d5",
   "outputs": [],
   "execution_count": null
  },
  {
   "metadata": {},
   "cell_type": "markdown",
   "source": "Du kan fjerne et nøgle/værdi-par fra et dictionary ved hjælp af `del`:",
   "id": "4aa7b094ff3f5be1"
  },
  {
   "metadata": {},
   "cell_type": "code",
   "source": [
    "print(f\"before: {dog = }\")\n",
    "del dog['favorite food']\n",
    "print(f\"after:  {dog = }\")"
   ],
   "id": "537805b4b62b1fbc",
   "outputs": [],
   "execution_count": null
  },
  {
   "metadata": {},
   "cell_type": "markdown",
   "source": "For at kopiere et dictionary skal du bruge `copy()`-metoden:",
   "id": "3048b66b8f38931"
  },
  {
   "metadata": {},
   "cell_type": "code",
   "source": [
    "dogCopy = dog.copy()\n",
    "print(f\"{dogCopy = }\")"
   ],
   "id": "f5eb04a22c96ca7d",
   "outputs": [],
   "execution_count": null
  },
  {
   "metadata": {},
   "cell_type": "markdown",
   "source": "### Øvelser",
   "id": "d86280fcd0663423"
  },
  {
   "cell_type": "markdown",
   "id": "292460db-c68c-4ea1-9988-5681834a5e32",
   "metadata": {},
   "source": [
    "Udfør de næste celler en af gangen. Før du udfører en celle, regn resultatet ud på forhånd. Når du får et uventet resultat, find ud af hvorfor.\n",
    "Leg gerne med cellerne. Forandre dem og udfør dem igen. Du kan også tilføje nye celler."
   ]
  },
  {
   "cell_type": "code",
   "id": "e3046067-d655-4f20-a484-07e3cc39b2bd",
   "metadata": {},
   "source": [
    "house = { 'street': 'broadway', 'number': 87 }\n",
    "print(f\"{house = }\")"
   ],
   "outputs": [],
   "execution_count": null
  },
  {
   "cell_type": "code",
   "id": "f931925a-a120-4c13-b584-cd1169801f95",
   "metadata": {},
   "source": "print(f\"{len(house) = }\")",
   "outputs": [],
   "execution_count": null
  },
  {
   "cell_type": "code",
   "id": "f80dcb87-a11a-4fee-a757-b3d1e7639058",
   "metadata": {},
   "source": [
    "house['floors'] = 4\n",
    "print(f\"{house = }\")"
   ],
   "outputs": [],
   "execution_count": null
  },
  {
   "cell_type": "code",
   "id": "a34572ec-bfe7-406b-a647-0ea19acc6ec0",
   "metadata": {},
   "source": "print(f\"{house['street'] = }\")",
   "outputs": [],
   "execution_count": null
  },
  {
   "cell_type": "code",
   "id": "cd02c76d-4cc5-42f4-af14-ecb6bdced2df",
   "metadata": {},
   "source": "print(f\"{len(house) = }\")",
   "outputs": [],
   "execution_count": null
  },
  {
   "cell_type": "code",
   "id": "4dfa9e0b-a752-49e7-9b06-78d667a81893",
   "metadata": {},
   "source": "print(f\"{house.keys() = }\")",
   "outputs": [],
   "execution_count": null
  },
  {
   "cell_type": "code",
   "id": "947897b4-3014-480c-b57c-d3b9fa0b1eb1",
   "metadata": {},
   "source": "print(f\"{house.values() = }\")",
   "outputs": [],
   "execution_count": null
  },
  {
   "metadata": {},
   "cell_type": "markdown",
   "source": [
    "Forstod/løste du alle opgaver på denne side?\n",
    "Ellers spørg [W3schools](https://www.w3schools.com/python/), [Google](https://www.google.com),\n",
    "[Perplexity](https://perplexity.ai), andre elever eller læreren.\n",
    "\n",
    "Arbejd videre med den næste Jupyter Notebook."
   ],
   "id": "7cf2e4f441eae72f"
  }
 ],
 "metadata": {
  "kernelspec": {
   "display_name": "Python 3 (ipykernel)",
   "language": "python",
   "name": "python3"
  },
  "language_info": {
   "codemirror_mode": {
    "name": "ipython",
    "version": 3
   },
   "file_extension": ".py",
   "mimetype": "text/x-python",
   "name": "python",
   "nbconvert_exporter": "python",
   "pygments_lexer": "ipython3",
   "version": "3.10.7"
  }
 },
 "nbformat": 4,
 "nbformat_minor": 5
}
