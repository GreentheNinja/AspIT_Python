{
 "cells": [
  {
   "cell_type": "markdown",
   "id": "98ec751f1d382e4f",
   "metadata": {},
   "source": "## Data typer"
  },
  {
   "metadata": {},
   "cell_type": "markdown",
   "source": [
    "Python har flere indbyggede typer.\n",
    "\n",
    "Hvis du opretter variablen name og tildeler den værdien \"Roger\", repræsenterer denne variabel automatisk en String datatype.\n",
    "\n",
    "```python\n",
    "name = \"Roger\"\n",
    "```\n",
    "\n",
    "Du kan kontrollere typen af en variabel ved at bruge funktionen type(), hvor du sender variablen som argument og derefter sammenligner resultatet med str:\n",
    "\n",
    "```python\n",
    "name = \"Roger\"\n",
    "type(name) == str #True\n",
    "```\n",
    "\n",
    "Eller ved at bruge isinstance():\n",
    "\n",
    "```python\n",
    "name = \"Roger\"\n",
    "isinstance(name, str) #True\n",
    "```\n",
    "\n",
    "Bemærk, at for at se True-værdien i Python uden for en REPL skal du indkapsle denne kode i print(), men for klarhedens skyld undgår jeg at bruge det.\n",
    "\n",
    "Vi brugte str-klassen her, men det samme virker for andre datatyper.\n",
    "\n",
    "Først har vi tal. Heltal repræsenteres ved hjælp af int-klassen. Flydende komma-tal (brøker) er af typen float:\n",
    "\n",
    "```python\n",
    "age = 1\n",
    "type(age) == int #True\n",
    "fraction = 0.1\n",
    "type(fraction) == float #True\n",
    "```\n",
    "\n",
    "Du så, hvordan man opretter en type fra en værdi-literal, som dette:\n",
    "\n",
    "```python\n",
    "name = \"Flavio\"\n",
    "age = 20\n",
    "```\n",
    "\n",
    "Python registrerer automatisk typen ud fra værditypen.\n",
    "\n",
    "Du kan også oprette en variabel af en bestemt type ved at bruge klassekonstruktøren og sende en værdi-literal eller et variabelnavn:\n",
    "\n",
    "```python\n",
    "name = str(\"Flavio\")\n",
    "anotherName = str(name)\n",
    "```\n",
    "\n",
    "Du kan også konvertere fra en type til en anden ved at bruge klassekonstruktøren. Python vil forsøge at bestemme den korrekte værdi, for eksempel ved at udtrække et tal fra en streng:\n",
    "\n",
    "```python\n",
    "age = int(\"20\")\n",
    "print(age) #20\n",
    "\n",
    "fraction = 0.1\n",
    "intFraction = int(fraction)\n",
    "print(intFraction) #0\n",
    "```\n",
    "\n",
    "Dette kaldes typecasting. Selvfølgelig vil denne konvertering ikke altid virke afhængigt af den værdi, der sendes. Hvis du skriver test i stedet for 20 i ovenstående streng, får du en ValueError: invalid literal for int() with base 10: 'test' fejl.\n",
    "\n",
    "Dette er blot grundlæggende om typer. Vi har mange flere typer i Python:\n",
    "\n",
    "- complex for komplekse tal\n",
    "- bool for boolske værdier\n",
    "- list for lister\n",
    "- tuple for tupler\n",
    "- range for intervaller\n",
    "- dict for ordbøger\n",
    "- set for sæt\n",
    "- og mere!\n",
    "\n",
    "Vi vil udforske dem alle snart."
   ],
   "id": "a5852d42635f6b2c"
  },
  {
   "cell_type": "markdown",
   "id": "ac3e4e7b-113b-4cff-a121-98813c17864f",
   "metadata": {},
   "source": "##### [Læs afsnittet \"Data Types in Python\"](https://www.freecodecamp.org/news/the-python-handbook/#heading-data-types-in-python)  (klik på linket)"
  },
  {
   "cell_type": "markdown",
   "id": "f42bb24f-5c27-485a-a064-a947ab0f7b68",
   "metadata": {},
   "source": [
    "Udfør den næste celle og analysér resultatet. "
   ]
  },
  {
   "cell_type": "code",
   "id": "ebba1b53-0862-479c-bb35-0c95134473ed",
   "metadata": {},
   "source": [
    "print(123, \"has type\", type(123))\n",
    "\n",
    "x = 64.33\n",
    "print(x, \"has type\", type(x))\n",
    "\n",
    "y = \"python\"\n",
    "print(y, \"has type\", type(y))\n",
    "\n",
    "x = int(x)\n",
    "print(x, \"has type\", type(x))"
   ],
   "outputs": [],
   "execution_count": null
  },
  {
   "cell_type": "markdown",
   "id": "0437a79d-f550-46ee-bf2a-72b2be422c1a",
   "metadata": {},
   "source": [
    "Udfør den næste celle. Derefter tilføj kode i den tomme linje sådan at resultatets sidste række bliver \"20 has type <class 'int'>\" når du udfører cellen igen."
   ]
  },
  {
   "cell_type": "code",
   "id": "14a258f2-ff58-4bd4-981d-a6b9e4dd9be7",
   "metadata": {},
   "source": [
    "z = \"20\"\n",
    "print(z, \"has type\", type(z))\n",
    "\n",
    "print(z, \"has type\", type(z))"
   ],
   "outputs": [],
   "execution_count": null
  },
  {
   "cell_type": "markdown",
   "id": "ee1d4ed4-dafb-4fec-a095-6fa71994b041",
   "metadata": {},
   "source": [
    "Udfør den næste celle. Der opstår en fejl. Hvorfor? Forandre den fejlagtige kodelinje sådan at der bliver printet \"20 has type <class 'int'>\". Udfør cellen igen."
   ]
  },
  {
   "cell_type": "code",
   "id": "22524de0-7063-4b53-b9c1-ec6c6be55516",
   "metadata": {},
   "source": [
    "number = \"number 20\"\n",
    "number = int(number)\n",
    "print(number, \"has type\", type(number))\n",
    "print(\"Yay!\")"
   ],
   "outputs": [],
   "execution_count": null
  },
  {
   "metadata": {},
   "cell_type": "markdown",
   "source": [
    "Forstod/løste du alle opgaver på denne side?\n",
    "Ellers spørg [W3schools](https://www.w3schools.com/python/), [Google](https://www.google.com),\n",
    "[Perplexity](https://perplexity.ai), andre elever eller læreren.\n",
    "\n",
    "Arbejd videre med den næste Jupyter Notebook."
   ],
   "id": "5b58e21ed4481f0e"
  },
  {
   "metadata": {},
   "cell_type": "code",
   "outputs": [],
   "execution_count": null,
   "source": "",
   "id": "657202c50e9cc5b4"
  }
 ],
 "metadata": {
  "kernelspec": {
   "display_name": "Python 3 (ipykernel)",
   "language": "python",
   "name": "python3"
  },
  "language_info": {
   "codemirror_mode": {
    "name": "ipython",
    "version": 3
   },
   "file_extension": ".py",
   "mimetype": "text/x-python",
   "name": "python",
   "nbconvert_exporter": "python",
   "pygments_lexer": "ipython3",
   "version": "3.11.3"
  },
  "toc-autonumbering": false,
  "toc-showcode": false,
  "toc-showmarkdowntxt": false,
  "toc-showtags": false
 },
 "nbformat": 4,
 "nbformat_minor": 5
}
