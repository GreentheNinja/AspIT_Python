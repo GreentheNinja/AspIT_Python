{
 "cells": [
  {
   "cell_type": "markdown",
   "id": "03fbec3e-7c5b-4e64-8a0b-5128293d4932",
   "metadata": {},
   "source": "## Løkker (loops)"
  },
  {
   "metadata": {},
   "cell_type": "markdown",
   "source": [
    "Løkker er en essentiel del af programmering.\n",
    "\n",
    "I Python har vi 2 slags løkker: while-løkker og for-løkker.\n",
    "\n",
    "### while-løkker i Python\n",
    "\n",
    "while-løkker defineres ved hjælp af nøgleordet `while`, og de gentager deres blok, indtil betingelsen evalueres som False:"
   ],
   "id": "6b3e017dc2767246"
  },
  {
   "metadata": {},
   "cell_type": "code",
   "source": [
    "condition = True\n",
    "while condition:\n",
    "    print(\"The condition is True\")"
   ],
   "id": "fa5ac56174609085",
   "outputs": [],
   "execution_count": null
  },
  {
   "metadata": {},
   "cell_type": "markdown",
   "source": [
    "Dette er en uendelig løkke. Den slutter aldrig.\n",
    "\n",
    "Lad os stoppe løkken lige efter den første iteration:"
   ],
   "id": "1e4abe14f127347a"
  },
  {
   "metadata": {},
   "cell_type": "code",
   "source": [
    "condition = True\n",
    "while condition:\n",
    "    print(\"The condition is True\")\n",
    "    condition = False\n",
    "\n",
    "print(\"After the loop\")"
   ],
   "id": "455dc806374983c3",
   "outputs": [],
   "execution_count": null
  },
  {
   "metadata": {},
   "cell_type": "markdown",
   "source": [
    "I dette tilfælde køres den første iteration, da betingelsestesten evalueres til True. Ved anden iteration evalueres betingelsestesten til False, så kontrollen går til den næste instruktion efter løkken.\n",
    "\n",
    "Det er almindeligt at have en tæller for at stoppe iterationen efter et vist antal cyklusser:"
   ],
   "id": "412149084366fa07"
  },
  {
   "metadata": {},
   "cell_type": "code",
   "source": [
    "count = 0\n",
    "while count < 10:\n",
    "    print(\"The condition is True\")\n",
    "    count = count + 1\n",
    "\n",
    "print(\"After the loop\")"
   ],
   "id": "1156d639658c9b9",
   "outputs": [],
   "execution_count": null
  },
  {
   "metadata": {},
   "cell_type": "markdown",
   "source": [
    "### for-løkker i Python\n",
    "\n",
    "Ved hjælp af for-løkker kan vi fortælle Python at udføre en blok et forudbestemt antal gange, på forhånd, og uden behov for en separat variabel og betingelse for at kontrollere dens værdi.\n",
    "\n",
    "For eksempel kan vi iterere over elementerne i en liste:"
   ],
   "id": "f75d220bc0531ee4"
  },
  {
   "metadata": {},
   "cell_type": "code",
   "source": [
    "items = [1, 2, 3, 4]\n",
    "for item in items:\n",
    "    print(item)"
   ],
   "id": "d883039954d1e1ee",
   "outputs": [],
   "execution_count": null
  },
  {
   "metadata": {},
   "cell_type": "markdown",
   "source": "Eller du kan iterere et specifikt antal gange ved hjælp af `range()`-funktionen:",
   "id": "8b9b3bd9dde432ed"
  },
  {
   "metadata": {},
   "cell_type": "code",
   "source": [
    "for item in range(4):\n",
    "    print(item)"
   ],
   "id": "9b18805c48dd4a96",
   "outputs": [],
   "execution_count": null
  },
  {
   "metadata": {},
   "cell_type": "markdown",
   "source": [
    "`range(4)` opretter en sekvens, der starter fra 0 og indeholder 4 elementer:.\n",
    "\n",
    "For at få indekset skal du pakke sekvensen ind i `enumerate()`-funktionen:"
   ],
   "id": "7c02f0e68cc2dafe"
  },
  {
   "metadata": {},
   "cell_type": "code",
   "source": [
    "items = [1, 2, 3, 4]\n",
    "for index, item in enumerate(items):\n",
    "    print(index, item)"
   ],
   "id": "12dd65ca66ad7404",
   "outputs": [],
   "execution_count": null
  },
  {
   "metadata": {},
   "cell_type": "markdown",
   "source": [
    "### Break og continue i Python\n",
    "\n",
    "Både while- og for-løkker kan afbrydes inde i blokken ved hjælp af to specielle nøgleord: `break` og `continue`.\n",
    "\n",
    "`continue` stopper den aktuelle iteration og fortæller Python at udføre den næste.\n",
    "\n",
    "`break` stopper løkken helt og fortsætter med den næste instruktion efter løkken slutter.\n",
    "\n",
    "Det første eksempel her udskriver 1, 3, 4. Det andet eksempel udskriver 1:"
   ],
   "id": "2f1097b13db1852c"
  },
  {
   "metadata": {},
   "cell_type": "code",
   "source": [
    "items = [1, 2, 3, 4]\n",
    "for item in items:\n",
    "    if item == 2:\n",
    "        continue\n",
    "    print(item)\n",
    "\n",
    "items = [1, 2, 3, 4]\n",
    "for item in items:\n",
    "    if item == 2:\n",
    "        break\n",
    "    print(item)"
   ],
   "id": "ca5fddf21ea9fc41",
   "outputs": [],
   "execution_count": null
  },
  {
   "metadata": {},
   "cell_type": "markdown",
   "source": "### Øvelser",
   "id": "949bd4d6b5e5121e"
  },
  {
   "cell_type": "markdown",
   "id": "629ac9fe-01d2-496c-a47b-739f1cbdc68b",
   "metadata": {},
   "source": [
    "Kig på programmet i den næste celle. Hvad tror du, gør den? Udfør koden. Forandre koden og prøv igen. Leg med den."
   ]
  },
  {
   "cell_type": "code",
   "id": "4f5ad39f-e586-4d44-a978-e1c85d970fec",
   "metadata": {},
   "source": [
    "big_enough = False\n",
    "while not big_enough:\n",
    "    number = int(input(\"type a number\"))\n",
    "    big_enough = number > 12"
   ],
   "outputs": [],
   "execution_count": null
  },
  {
   "cell_type": "markdown",
   "id": "222781a3-d004-4591-86b7-46d0e0dedb3d",
   "metadata": {},
   "source": [
    " Forandre koden i den næste celle sådan at bare ulige tal udskrives."
   ]
  },
  {
   "cell_type": "code",
   "id": "4ee02809-687f-4b2e-80d4-609ceea0f4f8",
   "metadata": {},
   "source": [
    "numberlist = [7, 33, 2, 11, 8]\n",
    "for number in numberlist:\n",
    "    print(number)"
   ],
   "outputs": [],
   "execution_count": null
  },
  {
   "cell_type": "markdown",
   "id": "01086222-5237-4730-8c5c-b8328cf62430",
   "metadata": {},
   "source": [
    " Forandre koden i den næste celle sådan at tallene 14, 18, 22, 26, 30 udskrives."
   ]
  },
  {
   "cell_type": "code",
   "id": "884dd003-311c-4231-8214-d379e9b2d7d6",
   "metadata": {
    "ExecuteTime": {
     "end_time": "2025-04-01T19:00:42.535810Z",
     "start_time": "2025-04-01T19:00:42.532607Z"
    }
   },
   "source": [
    "start = 10\n",
    "stop = 25\n",
    "step_size = 3\n",
    "numberrange = range(start, stop, step_size)\n",
    "for number in numberrange:\n",
    "    print(number)"
   ],
   "outputs": [
    {
     "name": "stdout",
     "output_type": "stream",
     "text": [
      "10\n",
      "13\n",
      "16\n",
      "19\n",
      "22\n"
     ]
    }
   ],
   "execution_count": 3
  },
  {
   "cell_type": "markdown",
   "id": "463401fa-774c-4ec2-9815-d61ebefb6d3d",
   "metadata": {},
   "source": [
    " Forandre koden i den næste celle sådan at ved siden af hvert tal udskrives også dens kvadrattal."
   ]
  },
  {
   "cell_type": "code",
   "id": "13d99879-767f-4f17-8f20-9c5cf2fa4192",
   "metadata": {},
   "source": [
    "numberrange = range(5)\n",
    "for number in numberrange:\n",
    "    print(number)"
   ],
   "outputs": [],
   "execution_count": null
  },
  {
   "metadata": {},
   "cell_type": "markdown",
   "source": [
    "Forstod/løste du alle opgaver på denne side?\n",
    "Ellers spørg [W3schools](https://www.w3schools.com/python/), [Google](https://www.google.com),\n",
    "[Perplexity](https://perplexity.ai), andre elever eller læreren.\n",
    "\n",
    "Gå tilbage til startsiden og download installationsvejledningen til python og pycharm."
   ],
   "id": "eb62ec9d7a06c537"
  }
 ],
 "metadata": {
  "kernelspec": {
   "display_name": "Python 3 (ipykernel)",
   "language": "python",
   "name": "python3"
  },
  "language_info": {
   "codemirror_mode": {
    "name": "ipython",
    "version": 3
   },
   "file_extension": ".py",
   "mimetype": "text/x-python",
   "name": "python",
   "nbconvert_exporter": "python",
   "pygments_lexer": "ipython3",
   "version": "3.10.7"
  }
 },
 "nbformat": 4,
 "nbformat_minor": 5
}
