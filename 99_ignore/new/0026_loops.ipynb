{
 "cells": [
  {
   "cell_type": "markdown",
   "id": "03fbec3e-7c5b-4e64-8a0b-5128293d4932",
   "metadata": {},
   "source": "## Løkker (loops)"
  },
  {
   "cell_type": "markdown",
   "id": "35237d10-db7b-469c-98fb-75cc07b363f2",
   "metadata": {
    "tags": []
   },
   "source": "##### [Læs afsnittet \"Loops in Python\"](https://www.freecodecamp.org/news/the-python-handbook/#heading-loops-in-python)  (klik på linket)"
  },
  {
   "cell_type": "markdown",
   "id": "629ac9fe-01d2-496c-a47b-739f1cbdc68b",
   "metadata": {},
   "source": [
    "Kig på programmet i den næste celle. Hvad tror du, gør den? Udfør koden. Forandre koden og prøv igen. Leg med den."
   ]
  },
  {
   "cell_type": "code",
   "execution_count": null,
   "id": "4f5ad39f-e586-4d44-a978-e1c85d970fec",
   "metadata": {},
   "outputs": [],
   "source": [
    "big_enough = False\n",
    "while not big_enough:\n",
    "    number = int(input(\"type a number\"))\n",
    "    big_enough = number > 12"
   ]
  },
  {
   "cell_type": "markdown",
   "id": "222781a3-d004-4591-86b7-46d0e0dedb3d",
   "metadata": {},
   "source": [
    " Forandre koden i den næste celle sådan at bare ulige tal udskrives."
   ]
  },
  {
   "cell_type": "code",
   "execution_count": null,
   "id": "4ee02809-687f-4b2e-80d4-609ceea0f4f8",
   "metadata": {},
   "outputs": [],
   "source": [
    "numberlist = [7, 33, 2, 8]\n",
    "for number in numberlist:\n",
    "    print(number)"
   ]
  },
  {
   "cell_type": "markdown",
   "id": "01086222-5237-4730-8c5c-b8328cf62430",
   "metadata": {},
   "source": [
    " Forandre koden i den næste celle sådan at tallene 14, 18, 22, 26, 30 udskrives."
   ]
  },
  {
   "cell_type": "code",
   "execution_count": null,
   "id": "884dd003-311c-4231-8214-d379e9b2d7d6",
   "metadata": {},
   "outputs": [],
   "source": [
    "start = 10\n",
    "stop = 25\n",
    "step_size = 3\n",
    "numberrange = range(start, stop, step_size)\n",
    "for number in numberrange:\n",
    "    print(number)"
   ]
  },
  {
   "cell_type": "markdown",
   "id": "463401fa-774c-4ec2-9815-d61ebefb6d3d",
   "metadata": {},
   "source": [
    " Forandre koden i den næste celle sådan at ved siden af hvert tal udskrives også dens kvadrattal."
   ]
  },
  {
   "cell_type": "code",
   "execution_count": null,
   "id": "13d99879-767f-4f17-8f20-9c5cf2fa4192",
   "metadata": {},
   "outputs": [],
   "source": [
    "numberrange = range(5)\n",
    "for number in numberrange:\n",
    "    print(number)"
   ]
  },
  {
   "metadata": {},
   "cell_type": "markdown",
   "source": [
    "Forstod/løste du alle opgaver på denne side?\n",
    "Ellers spørg [W3schools](https://www.w3schools.com/python/), [Google](https://www.google.com),\n",
    "[Perplexity](https://perplexity.ai), andre elever eller læreren.\n",
    "\n",
    "Gå tilbage til startsiden og download installationsvejledningen til python og pycharm."
   ],
   "id": "eb62ec9d7a06c537"
  }
 ],
 "metadata": {
  "kernelspec": {
   "display_name": "Python 3 (ipykernel)",
   "language": "python",
   "name": "python3"
  },
  "language_info": {
   "codemirror_mode": {
    "name": "ipython",
    "version": 3
   },
   "file_extension": ".py",
   "mimetype": "text/x-python",
   "name": "python",
   "nbconvert_exporter": "python",
   "pygments_lexer": "ipython3",
   "version": "3.10.7"
  }
 },
 "nbformat": 4,
 "nbformat_minor": 5
}
