{
 "cells": [
  {
   "cell_type": "markdown",
   "id": "03fbec3e-7c5b-4e64-8a0b-5128293d4932",
   "metadata": {},
   "source": "### Valgfrit uddybelse om loops"
  },
  {
   "metadata": {},
   "cell_type": "markdown",
   "source": [
    "Kopier koden fra delopgaverne gerne til en ny fil i din solution mappe, hvis du hellere vil benytte pycharm redskaber som debuggeren for at løse opgaven.   \n",
    "Ellers kan du også gemme en kopi af denne notebook idet du klicker på \"File\" and \"Save a copy in Drive\".\n",
    "\n",
    "\n",
    "![-](z_screenshot_save.png)"
   ],
   "id": "dd43b788cdecb576"
  },
  {
   "cell_type": "markdown",
   "id": "222781a3-d004-4591-86b7-46d0e0dedb3d",
   "metadata": {},
   "source": " Tilføj koden i den næste celle sådan at der udskrives \"A1 A2 A3 B1 .... D4 D5\"."
  },
  {
   "cell_type": "code",
   "id": "4ee02809-687f-4b2e-80d4-609ceea0f4f8",
   "metadata": {},
   "source": [
    "rows = [\"A\", \"B\", \"C\", \"D\"]\n",
    "cols = [\"1\", \"2\", \"3\", \"4\", \"5\"]\n"
   ],
   "outputs": [],
   "execution_count": null
  },
  {
   "cell_type": "markdown",
   "id": "01086222-5237-4730-8c5c-b8328cf62430",
   "metadata": {},
   "source": " Forandre koden i funktionen sådan at den gør hvad der står i dens dokumentation."
  },
  {
   "cell_type": "code",
   "id": "884dd003-311c-4231-8214-d379e9b2d7d6",
   "metadata": {},
   "source": [
    "def make_numbers(start, multiplier, upper_limit):\n",
    "    \"\"\" \n",
    "    Beginning with the start value, this function prints the current value, \n",
    "    then multiplies it with multiplier, prints the new current value etc.\n",
    "    The function stops when the current value is greater than the upper limit\"\"\"\n",
    "    0\n",
    "\n",
    "\n",
    "\n",
    "make_numbers(10, 2, 12345) "
   ],
   "outputs": [],
   "execution_count": null
  },
  {
   "metadata": {},
   "cell_type": "markdown",
   "source": "Skriv kode i den næste celle, som printer alle kwadrattal (1, 4, 9, ...), som er mindre end limit.",
   "id": "594b64c9865cb449"
  },
  {
   "metadata": {},
   "cell_type": "code",
   "source": [
    "def print_kwadrattal(limit):\n",
    "    0\n",
    "    \n",
    "    \n",
    "print_kwadrattal(700)"
   ],
   "id": "c5dae6eec9d6d083",
   "outputs": [],
   "execution_count": null
  },
  {
   "metadata": {},
   "cell_type": "markdown",
   "source": "Forandre koden i funktionen spell_backwards() sådan at den gør hvad der står i dens dokumentation.",
   "id": "b9479914cb24920e"
  },
  {
   "metadata": {},
   "cell_type": "code",
   "source": [
    "def spell(text):\n",
    "    for letter in text:\n",
    "        print(letter, end=\"\")\n",
    "    print()\n",
    "    \n",
    "    \n",
    "def spell_backwards(text):\n",
    "    \"\"\"Spells/prints text backwards\"\"\"  \n",
    "    0\n",
    "    \n",
    "spell(\"Test\")    \n",
    "spell_backwards(\"Hello world\")  # should print \"dlrow olleH\""
   ],
   "id": "9e9778b7cf3c474e",
   "outputs": [],
   "execution_count": null
  },
  {
   "metadata": {},
   "cell_type": "markdown",
   "source": "Forandre koden i funktionen spell_first_consonants() sådan at den gør hvad der står i dens dokumentation.",
   "id": "124bfe1de8e5da"
  },
  {
   "metadata": {},
   "cell_type": "code",
   "source": [
    "def spell_first_consonants(text, letter_limit):\n",
    "    \"\"\"\n",
    "    Spells/prints the first letter_limit letters of text.\n",
    "    Prints only consonants (a, e, i, o, u, y do not get printed). \"\"\"\n",
    "    0\n",
    "    \n",
    "    \n",
    "spell_first_consonants(\"Hello world\", 7)  # should print \"Hll wrld\"\n",
    "    \n",
    "    "
   ],
   "id": "b8f865a2640204e3",
   "outputs": [],
   "execution_count": null
  }
 ],
 "metadata": {
  "kernelspec": {
   "display_name": "Python 3 (ipykernel)",
   "language": "python",
   "name": "python3"
  },
  "language_info": {
   "codemirror_mode": {
    "name": "ipython",
    "version": 3
   },
   "file_extension": ".py",
   "mimetype": "text/x-python",
   "name": "python",
   "nbconvert_exporter": "python",
   "pygments_lexer": "ipython3",
   "version": "3.10.7"
  }
 },
 "nbformat": 4,
 "nbformat_minor": 5
}
