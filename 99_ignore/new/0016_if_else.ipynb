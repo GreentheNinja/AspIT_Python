{
 "cells": [
  {
   "cell_type": "markdown",
   "id": "96295c0b-871e-4fd5-8b96-80c7b3d2ae5e",
   "metadata": {},
   "source": "## If-Else (Control Statements)"
  },
  {
   "metadata": {},
   "cell_type": "markdown",
   "source": [
    "Når du arbejder med en boolean udtryk, altså noget, som er enten `True` eller `False`, kan du træffe beslutninger\n",
    "og tage forskellige veje i programmet afhængigt af om udtrykket er sand eller falsk.\n",
    "\n",
    "I Python gør vi dette ved hjælp af _if-sætningen_:"
   ],
   "id": "82178b19051881d"
  },
  {
   "metadata": {},
   "cell_type": "code",
   "source": [
    "condition = True\n",
    "\n",
    "if condition == True:\n",
    "    print(\"Betingelsen er sand.\")"
   ],
   "id": "74048ab3ff5a3487",
   "outputs": [],
   "execution_count": null
  },
  {
   "metadata": {},
   "cell_type": "markdown",
   "source": "I stedet for `if condition == True:` kan vi også bare skrive `if condition:`",
   "id": "acbd2bbe66fe6351"
  },
  {
   "metadata": {},
   "cell_type": "code",
   "source": [
    "condition = True\n",
    "\n",
    "if condition:\n",
    "    print(\"Betingelsen er sand.\")"
   ],
   "id": "75e750de1453a5ab",
   "outputs": [],
   "execution_count": null
  },
  {
   "metadata": {},
   "cell_type": "markdown",
   "source": [
    "Når betingelsestesten resulterer i `True`, som i ovenstående tilfælde, bliver dens _blok_ udført.\n",
    "\n",
    "En blok er den del, der er indrykket et niveau (4 mellemrum) til højre:"
   ],
   "id": "87e33a36166c4d86"
  },
  {
   "metadata": {},
   "cell_type": "code",
   "source": [
    "condition = True\n",
    "\n",
    "if condition:\n",
    "    print(\"Betingelsen\")\n",
    "    print(\"er sand.\")"
   ],
   "id": "e6834263b6efef8d",
   "outputs": [],
   "execution_count": null
  },
  {
   "metadata": {},
   "cell_type": "markdown",
   "source": [
    "Blokken kan bestå af en enkelt linje eller flere linjer, og den slutter, når du går tilbage til det forrige indrykkelsesniveau.\n",
    "\n",
    "Udfør koden. Hvad sker, når du sætter `condition` på `False` i stedet for `True`?"
   ],
   "id": "ae540f9b1858b5bd"
  },
  {
   "metadata": {
    "ExecuteTime": {
     "end_time": "2025-03-31T20:56:51.514800Z",
     "start_time": "2025-03-31T20:56:51.512284Z"
    }
   },
   "cell_type": "code",
   "source": [
    "condition = True\n",
    "\n",
    "if condition:\n",
    "    print(\"Betingelsen\")\n",
    "    print(\"er sand.\")\n",
    "\n",
    "print(\"Uden for if-sætningen\")"
   ],
   "id": "9fee2e49efb30ea",
   "outputs": [
    {
     "name": "stdout",
     "output_type": "stream",
     "text": [
      "Betingelsen\n",
      "er sand.\n",
      "Uden for if-sætningen\n"
     ]
    }
   ],
   "execution_count": 9
  },
  {
   "metadata": {},
   "cell_type": "markdown",
   "source": "I kombination med `if` kan du have en _`else`-blok_, der udføres, hvis betingelsestesten i `if` resulterer i `False`:",
   "id": "244a6aaca032ff12"
  },
  {
   "metadata": {},
   "cell_type": "code",
   "source": [
    "condition = True\n",
    "\n",
    "if condition:\n",
    "    print(\"Betingelsen\")\n",
    "    print(\"er sand.\")\n",
    "else:\n",
    "    print(\"Betingelsen\")\n",
    "    print(\"er falsk.\")"
   ],
   "id": "9a0763f12b1293cb",
   "outputs": [],
   "execution_count": null
  },
  {
   "metadata": {},
   "cell_type": "markdown",
   "source": "Og du kan have forskellige sammenkædede _`if`-tjek_ med `elif`, der udføres, hvis det forrige tjek var `False`:",
   "id": "a34e45abb398fd54"
  },
  {
   "metadata": {
    "ExecuteTime": {
     "end_time": "2025-03-31T20:49:10.077971Z",
     "start_time": "2025-03-31T20:49:10.075105Z"
    }
   },
   "cell_type": "code",
   "source": [
    "condition = True\n",
    "name = \"Hans\"\n",
    "\n",
    "if condition:\n",
    "    print(\"Betingelsen\")\n",
    "    print(\"er sand.\")\n",
    "elif name == \"Hans\":\n",
    "    print(\"Hej Hans!\")\n",
    "else:\n",
    "    print(\"Betingelsen\")\n",
    "    print(\"er falsk.\")"
   ],
   "id": "e57f3896ac05ed35",
   "outputs": [
    {
     "name": "stdout",
     "output_type": "stream",
     "text": [
      "Betingelsen\n",
      "er sand.\n"
     ]
    }
   ],
   "execution_count": 8
  },
  {
   "metadata": {},
   "cell_type": "markdown",
   "source": [
    "Den anden blok i dette tilfælde udføres, hvis condition er `False`, og _name_-variablens værdi er \"Hans\".\n",
    "\n",
    "I en _`if`-sætning_ kan du have kun én _`if`- og `else`-tjek_, men flere serier af _`elif`-tjek_:"
   ],
   "id": "c66a70a59dfa2a5e"
  },
  {
   "metadata": {},
   "cell_type": "code",
   "source": [
    "condition = True\n",
    "name = \"Roger\"\n",
    "\n",
    "if condition:\n",
    "    print(\"Betingelsen\")\n",
    "    print(\"var Sand\")\n",
    "elif name == \"Roger\":\n",
    "    print(\"Hej Roger\")\n",
    "elif name == \"Syd\":\n",
    "    print(\"Hej Syd\")\n",
    "elif name == \"Flavio\":\n",
    "    print(\"Hej Flavio\")\n",
    "else:\n",
    "    print(\"Betingelsen\")\n",
    "    print(\"var Falsk\")"
   ],
   "id": "3b0a6dfa4abaeb66",
   "outputs": [],
   "execution_count": null
  },
  {
   "metadata": {},
   "cell_type": "markdown",
   "source": [
    "`if` og `else` kan også bruges i et _inline-format_, som lader os returnere en værdi eller en anden baseret på en betingelse.\n",
    "\n",
    "Eksempel:"
   ],
   "id": "3c57a067243abb51"
  },
  {
   "metadata": {},
   "cell_type": "code",
   "source": [
    "a = 7\n",
    "result = 2 if a == 0 else 3\n",
    "print(result)"
   ],
   "id": "be98adb3a966afec",
   "outputs": [],
   "execution_count": null
  },
  {
   "cell_type": "markdown",
   "id": "b1310800-2fd2-4298-addb-74112e484272",
   "metadata": {},
   "source": [
    "## Øvelser\n",
    "\n",
    "Udfør den følgende celle og analysér hvad der sker.\n",
    "Lav om på programmet sådan at den printer `number3 <= number4` når det er sandt."
   ]
  },
  {
   "cell_type": "code",
   "id": "61594c96-dd19-4665-af9a-5efc1b880026",
   "metadata": {},
   "source": [
    "number3 = 25\n",
    "number4 = 11\n",
    "if number3 > number4:\n",
    "    print(\"number3 > number4\")  # you can press tab or 4 spaces in order to indent a line"
   ],
   "outputs": [],
   "execution_count": null
  },
  {
   "cell_type": "markdown",
   "id": "b0341044-9447-4bad-a6b4-b5f9051c2adb",
   "metadata": {},
   "source": [
    "Udfør den følgende celle og analysér hvad der sker.  \n",
    "Ændr programmet sådan at en input større end 50 resulterer i output `input is 50 or larger`"
   ]
  },
  {
   "cell_type": "code",
   "id": "0816123e-9f51-46db-8963-3b0b8df731d1",
   "metadata": {},
   "source": [
    "number_input = int(input(\"type a number: \"))\n",
    "\n",
    "if number_input > 2 and number_input < 13:\n",
    "    print(\"input is between 2 and 13\")\n",
    "elif number_input > 12 and number_input < 19:\n",
    "    print(\"input is between 12 and 19\")\n",
    "elif number_input >= 19:\n",
    "    print(\"input is 19 or larger\")\n",
    "else:\n",
    "    print(\"input is 2 or less\")\n",
    "\n",
    "print(\"this gets always printed\")"
   ],
   "outputs": [],
   "execution_count": null
  },
  {
   "metadata": {},
   "cell_type": "markdown",
   "source": [
    "Forstod/løste du alle opgaver på denne side?\n",
    "Ellers spørg [W3schools](https://www.w3schools.com/python/), [Google](https://www.google.com),\n",
    "[Perplexity](https://perplexity.ai), andre elever eller læreren.\n",
    "\n",
    "Arbejd videre med den næste Jupyter Notebook."
   ],
   "id": "36807017c559b52a"
  }
 ],
 "metadata": {
  "kernelspec": {
   "display_name": "Python 3 (ipykernel)",
   "language": "python",
   "name": "python3"
  },
  "language_info": {
   "codemirror_mode": {
    "name": "ipython",
    "version": 3
   },
   "file_extension": ".py",
   "mimetype": "text/x-python",
   "name": "python",
   "nbconvert_exporter": "python",
   "pygments_lexer": "ipython3",
   "version": "3.10.7"
  }
 },
 "nbformat": 4,
 "nbformat_minor": 5
}
