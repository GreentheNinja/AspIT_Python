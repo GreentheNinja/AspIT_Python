{
 "cells": [
  {
   "cell_type": "markdown",
   "id": "03fbec3e-7c5b-4e64-8a0b-5128293d4932",
   "metadata": {},
   "source": "## Tupler (tuples)"
  },
  {
   "metadata": {},
   "cell_type": "markdown",
   "source": [
    "Tupler tillader dig at oprette uforanderlige grupper af objekter.\n",
    "Dette betyder, at når en tupel er oprettet, kan den ikke ændres. Du kan ikke tilføje eller fjerne elementer.\n",
    "\n",
    "De oprettes på en måde, der ligner lister, men ved brug af parenteser i stedet for kantede parenteser:"
   ],
   "id": "11b89ea4148e769e"
  },
  {
   "metadata": {
    "ExecuteTime": {
     "end_time": "2025-04-02T21:20:40.140581Z",
     "start_time": "2025-04-02T21:20:40.136926Z"
    }
   },
   "cell_type": "code",
   "source": "names = (\"Hans\", \"Gitte\")",
   "id": "204d58da0bfcecd",
   "outputs": [],
   "execution_count": 1
  },
  {
   "metadata": {},
   "cell_type": "markdown",
   "source": "En tupel er ordnet, ligesom en liste, så du kan få dens værdier ved at referere til en indeksværdi:",
   "id": "8af92c99bff9cbe1"
  },
  {
   "metadata": {
    "ExecuteTime": {
     "end_time": "2025-04-02T21:20:40.147251Z",
     "start_time": "2025-04-02T21:20:40.145103Z"
    }
   },
   "cell_type": "code",
   "source": [
    "print(f\"{names[0] = }\")\n",
    "print(f\"{names[1] = }\")"
   ],
   "id": "1da60b3bf25fcb2a",
   "outputs": [
    {
     "name": "stdout",
     "output_type": "stream",
     "text": [
      "names[0] = 'Hans'\n",
      "names[1] = 'Gitte'\n"
     ]
    }
   ],
   "execution_count": 2
  },
  {
   "metadata": {},
   "cell_type": "markdown",
   "source": "Som med lister kan du også bruge `index()`-funktionen til tupler.",
   "id": "79d4ed1878628e7a"
  },
  {
   "metadata": {
    "ExecuteTime": {
     "end_time": "2025-04-02T21:20:40.352184Z",
     "start_time": "2025-04-02T21:20:40.348916Z"
    }
   },
   "cell_type": "code",
   "source": [
    "print(f\"{names.index('Hans') = }\")\n",
    "print(f\"{names.index('Gitte') = }\")"
   ],
   "id": "d41bcab9c12146cf",
   "outputs": [
    {
     "name": "stdout",
     "output_type": "stream",
     "text": [
      "names.index('Hans') = 0\n",
      "names.index('Gitte') = 1\n"
     ]
    }
   ],
   "execution_count": 3
  },
  {
   "metadata": {},
   "cell_type": "markdown",
   "source": "Som med strings og lister vil brug af et negativt indeks starte søgningen fra slutningen:",
   "id": "2854c389b2cca49d"
  },
  {
   "metadata": {
    "ExecuteTime": {
     "end_time": "2025-04-02T21:20:40.360487Z",
     "start_time": "2025-04-02T21:20:40.357799Z"
    }
   },
   "cell_type": "code",
   "source": "print(f\"{names[-1] = }\")",
   "id": "206c35c1194a40f3",
   "outputs": [
    {
     "name": "stdout",
     "output_type": "stream",
     "text": [
      "names[-1] = 'Gitte'\n"
     ]
    }
   ],
   "execution_count": 4
  },
  {
   "metadata": {},
   "cell_type": "markdown",
   "source": "Du kan også tælle elementerne i en tupel med `len()`-funktionen, ligesom med lister.:",
   "id": "48708336ff48a051"
  },
  {
   "metadata": {
    "ExecuteTime": {
     "end_time": "2025-04-02T21:20:40.373941Z",
     "start_time": "2025-04-02T21:20:40.371537Z"
    }
   },
   "cell_type": "code",
   "source": "print(f\"{len(names) = }\")",
   "id": "43501ddcc8322165",
   "outputs": [
    {
     "name": "stdout",
     "output_type": "stream",
     "text": [
      "len(names) = 2\n"
     ]
    }
   ],
   "execution_count": 5
  },
  {
   "metadata": {},
   "cell_type": "markdown",
   "source": "Som med lister kan du tjekke, om et element er indeholdt i en tupel med `in`-operatoren:",
   "id": "388e661aee6cb19"
  },
  {
   "metadata": {
    "ExecuteTime": {
     "end_time": "2025-04-02T21:20:40.386674Z",
     "start_time": "2025-04-02T21:20:40.384081Z"
    }
   },
   "cell_type": "code",
   "source": "print(f\"{\"Hans\" in names = }\")",
   "id": "53a23c30d9fe2a40",
   "outputs": [
    {
     "name": "stdout",
     "output_type": "stream",
     "text": [
      "\"Hans\" in names = True\n"
     ]
    }
   ],
   "execution_count": 6
  },
  {
   "metadata": {},
   "cell_type": "markdown",
   "source": "Du kan også udtrække en del af en tupel ved hjælp af slices:",
   "id": "cade6b37f9b2f8da"
  },
  {
   "metadata": {
    "ExecuteTime": {
     "end_time": "2025-04-02T21:20:40.398719Z",
     "start_time": "2025-04-02T21:20:40.395814Z"
    }
   },
   "cell_type": "code",
   "source": [
    "print(f\"{names[0:2] = }\")\n",
    "print(f\"{names[1:] = }\")"
   ],
   "id": "fb87b395b6795041",
   "outputs": [
    {
     "name": "stdout",
     "output_type": "stream",
     "text": [
      "names[0:2] = ('Hans', 'Gitte')\n",
      "names[1:] = ('Gitte',)\n"
     ]
    }
   ],
   "execution_count": 7
  },
  {
   "metadata": {},
   "cell_type": "markdown",
   "source": "Du kan oprette en sorteret version af en tupel ved hjælp af den globale funktion `sorted()`:",
   "id": "71f93193ea1e2def"
  },
  {
   "metadata": {
    "ExecuteTime": {
     "end_time": "2025-04-02T21:20:40.414530Z",
     "start_time": "2025-04-02T21:20:40.412230Z"
    }
   },
   "cell_type": "code",
   "source": [
    "# sorted(names)\n",
    "print(f\"{sorted(names) = }\")"
   ],
   "id": "4d5d3f893afeba3f",
   "outputs": [
    {
     "name": "stdout",
     "output_type": "stream",
     "text": [
      "sorted(names) = ['Gitte', 'Hans']\n"
     ]
    }
   ],
   "execution_count": 8
  },
  {
   "metadata": {},
   "cell_type": "markdown",
   "source": "Du kan oprette en ny tupel fra eksisterende tupler ved hjælp af `+`-operatoren:",
   "id": "7adcbb5c3e5b4c8a"
  },
  {
   "metadata": {
    "ExecuteTime": {
     "end_time": "2025-04-02T21:20:40.429322Z",
     "start_time": "2025-04-02T21:20:40.426565Z"
    }
   },
   "cell_type": "code",
   "source": [
    "newTuple = names + (\"Susi\", \"Tony\")\n",
    "print(f\"{newTuple = }\")"
   ],
   "id": "1f624081d65b353a",
   "outputs": [
    {
     "name": "stdout",
     "output_type": "stream",
     "text": [
      "newTuple = ('Hans', 'Gitte', 'Susi', 'Tony')\n"
     ]
    }
   ],
   "execution_count": 9
  },
  {
   "metadata": {
    "tags": []
   },
   "cell_type": "markdown",
   "source": "### Øvelser",
   "id": "9bc9b785-935e-4f9b-8c77-dd1dbc548569"
  },
  {
   "cell_type": "code",
   "id": "59d8767e-8334-498c-9100-3b3bf411e3c3",
   "metadata": {
    "ExecuteTime": {
     "end_time": "2025-04-02T21:20:40.506027Z",
     "start_time": "2025-04-02T21:20:40.503582Z"
    }
   },
   "source": [
    "number_tuple = (18, 22, 7)\n",
    "print(f\"{number_tuple = }\")"
   ],
   "outputs": [
    {
     "name": "stdout",
     "output_type": "stream",
     "text": [
      "number_tuple = (18, 22, 7)\n"
     ]
    }
   ],
   "execution_count": 10
  },
  {
   "cell_type": "markdown",
   "id": "84552a3f-be7b-4f1f-bf44-b3009c0aaf3d",
   "metadata": {},
   "source": [
    "Udfør de næste celler en af gangen. Før du udfører en celle, regn resultatet ud på forhånd. Når du får et uventet resultat, find ud af hvorfor.\n",
    "Leg gerne med cellerne. Forandre dem og udfør dem igen. Du kan også tilføje nye celler."
   ]
  },
  {
   "cell_type": "code",
   "id": "a45e6960-0a80-4922-8ede-b9780c03b218",
   "metadata": {
    "ExecuteTime": {
     "end_time": "2025-04-02T21:20:40.578961Z",
     "start_time": "2025-04-02T21:20:40.576176Z"
    }
   },
   "source": "print(f\"{type(number_tuple) = }\")",
   "outputs": [
    {
     "name": "stdout",
     "output_type": "stream",
     "text": [
      "type(number_tuple) = <class 'tuple'>\n"
     ]
    }
   ],
   "execution_count": 11
  },
  {
   "cell_type": "code",
   "id": "b7e6d71a-efdf-41d6-922c-6852a47d1736",
   "metadata": {
    "ExecuteTime": {
     "end_time": "2025-04-02T21:20:40.624724Z",
     "start_time": "2025-04-02T21:20:40.621709Z"
    }
   },
   "source": "print(f\"{len(number_tuple) = }\")",
   "outputs": [
    {
     "name": "stdout",
     "output_type": "stream",
     "text": [
      "len(number_tuple) = 3\n"
     ]
    }
   ],
   "execution_count": 12
  },
  {
   "metadata": {
    "ExecuteTime": {
     "end_time": "2025-04-02T21:20:40.673679Z",
     "start_time": "2025-04-02T21:20:40.670287Z"
    }
   },
   "cell_type": "code",
   "source": "print(f\"{22 in number_tuple = }\")",
   "id": "e06e15aa-c625-4e4d-a71e-a067aaafa0a0",
   "outputs": [
    {
     "name": "stdout",
     "output_type": "stream",
     "text": [
      "22 in number_tuple = True\n"
     ]
    }
   ],
   "execution_count": 13
  },
  {
   "metadata": {
    "ExecuteTime": {
     "end_time": "2025-04-02T21:20:40.691959Z",
     "start_time": "2025-04-02T21:20:40.689575Z"
    }
   },
   "cell_type": "code",
   "source": [
    "x1 = number_tuple[0]\n",
    "print(f\"{x1 = }\")"
   ],
   "id": "cf558e3c-8176-4f91-946a-0d4e537ab4c7",
   "outputs": [
    {
     "name": "stdout",
     "output_type": "stream",
     "text": [
      "x1 = 18\n"
     ]
    }
   ],
   "execution_count": 14
  },
  {
   "metadata": {
    "ExecuteTime": {
     "end_time": "2025-04-02T21:20:40.716134Z",
     "start_time": "2025-04-02T21:20:40.713907Z"
    }
   },
   "cell_type": "code",
   "source": "print(f\"{type(x1) = }\")",
   "id": "14d374c0-b114-43c1-bd2d-3ed72b4a2177",
   "outputs": [
    {
     "name": "stdout",
     "output_type": "stream",
     "text": [
      "type(x1) = <class 'int'>\n"
     ]
    }
   ],
   "execution_count": 15
  },
  {
   "cell_type": "code",
   "id": "cb78ada4-31e2-4cac-9ba2-26ccd90ff04a",
   "metadata": {
    "ExecuteTime": {
     "end_time": "2025-04-02T21:20:40.735328Z",
     "start_time": "2025-04-02T21:20:40.732818Z"
    }
   },
   "source": [
    "x2 = number_tuple[0:1]\n",
    "print(f\"{x2 = }\")"
   ],
   "outputs": [
    {
     "name": "stdout",
     "output_type": "stream",
     "text": [
      "x2 = (18,)\n"
     ]
    }
   ],
   "execution_count": 16
  },
  {
   "cell_type": "code",
   "id": "204d4141-5db4-43c1-a452-ddfa4244866d",
   "metadata": {
    "ExecuteTime": {
     "end_time": "2025-04-02T21:21:07.412089Z",
     "start_time": "2025-04-02T21:21:07.409543Z"
    }
   },
   "source": "print(f\"{type(x2) = }\")",
   "outputs": [
    {
     "name": "stdout",
     "output_type": "stream",
     "text": [
      "type(x2) = <class 'tuple'>\n"
     ]
    }
   ],
   "execution_count": 18
  },
  {
   "cell_type": "code",
   "id": "a6755cf7-422b-45cd-888f-ac83eda76f27",
   "metadata": {
    "ExecuteTime": {
     "end_time": "2025-04-02T21:21:18.632533Z",
     "start_time": "2025-04-02T21:21:18.630282Z"
    }
   },
   "source": [
    "new_tuple = number_tuple + number_tuple\n",
    "print(f\"{new_tuple = }\")"
   ],
   "outputs": [
    {
     "name": "stdout",
     "output_type": "stream",
     "text": [
      "new_tuple = (18, 22, 7, 18, 22, 7)\n"
     ]
    }
   ],
   "execution_count": 19
  },
  {
   "metadata": {},
   "cell_type": "markdown",
   "source": [
    "Forstod/løste du alle opgaver på denne side?\n",
    "Ellers spørg [W3schools](https://www.w3schools.com/python/), [Google](https://www.google.com),\n",
    "[Perplexity](https://perplexity.ai), andre elever eller læreren.\n",
    "\n",
    "Arbejd videre med den næste Jupyter Notebook."
   ],
   "id": "6a9b2c8876cc9c86"
  }
 ],
 "metadata": {
  "kernelspec": {
   "display_name": "Python 3 (ipykernel)",
   "language": "python",
   "name": "python3"
  },
  "language_info": {
   "codemirror_mode": {
    "name": "ipython",
    "version": 3
   },
   "file_extension": ".py",
   "mimetype": "text/x-python",
   "name": "python",
   "nbconvert_exporter": "python",
   "pygments_lexer": "ipython3",
   "version": "3.10.7"
  }
 },
 "nbformat": 4,
 "nbformat_minor": 5
}
