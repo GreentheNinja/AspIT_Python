{
 "cells": [
  {
   "cell_type": "markdown",
   "id": "98ec751f1d382e4f",
   "metadata": {},
   "source": "## Variabler"
  },
  {
   "metadata": {},
   "cell_type": "markdown",
   "source": [
    "Vi kan oprette en ny Python-variabel ved at tildele en værdi til et mærke ved hjælp af tildelingsoperatoren __=__.\n",
    "\n",
    "I dette eksempel tildeler vi en streng med værdien \"Roger\" til mærket name:\n",
    "```python\n",
    "name = \"Roger\"\n",
    "```\n",
    "\n",
    "Bemærk, at du ikke kan udføre koden i cellen ovenfor. Dette er blot et kodeeksempel.\n",
    "\n",
    "Du kan se, om du kan udføre en celle, ved at der kommer en play-knap frem, når du fører musen hen over cellen.\n",
    "\n",
    "Her er et eksempel med et tal:\n",
    "```python\n",
    "age = 8\n",
    "```\n",
    "Med denne kode har vi gemt tallet 8 i variablen _age_.\n",
    "\n",
    "Et variabelnavn kan bestå af bogstaver, tal og _ understregningstegnet (underscore).\n",
    "Det kan ikke starte med et tal.\n",
    "\n",
    "Disse er alle gyldige variabelnavne:\n",
    "```python\n",
    "name1\n",
    "AGE\n",
    "aGE\n",
    "a11111\n",
    "my_name\n",
    "_name\n",
    "```\n",
    "\n",
    "Disse er ugyldige variabelnavne:\n",
    "```python\n",
    "123\n",
    "1test\n",
    "test!\n",
    "name%\n",
    "```\n",
    "\n",
    "Udfør den næste celle. Der opstår en fejl. Hvorfor?\n",
    "\n",
    "Læs alle kommentarer i cellen.\n",
    "\n",
    "Rediger det problematiske variabelnavn for at undgå fejlen.\n",
    "\n",
    "Udfør cellen igen indtil den printer ___Success!___.\n"
   ],
   "id": "4f9e010af5107682"
  },
  {
   "cell_type": "code",
   "id": "84ae8800-9473-4306-b2f6-6cda44fe5df5",
   "metadata": {},
   "source": [
    "u7 = 6.87  # Cifre er ok. Men ikke som variablenavnens første symbol.\n",
    "øøø = \"test\"  # Tilladt. Men bruge helst bare de 26 engelske standard bogstaver.\n",
    "5forbudt = 3  # Forbudt.\n",
    "Please_dont_do_this = 2  # Brug ikke store bogstaver i variablenavne\n",
    "AbsolutelyDontDoThis = 5  # Brug heller ikke CamelCase i variablenavne\n",
    "# Det er en konvention (god programmeringsskik) i Python, ikke at benytte store bogstaver i variablenavne.\n",
    "print(\"Success!\")"
   ],
   "outputs": [],
   "execution_count": null
  },
  {
   "cell_type": "markdown",
   "id": "988ed172-ebab-4816-b6e0-9bc8e14b191a",
   "metadata": {},
   "source": [
    "Udfør den næste celle. Også her opstår en fejl. Hvorfor?\n",
    "\n",
    "Ændr det problematiske variabelnavn for at undgå fejlen.\n",
    "\n",
    "Udfør cellen igen indtil den printer ___Hurra!___."
   ]
  },
  {
   "cell_type": "code",
   "id": "e2f32b34-1415-4835-b832-023f36bfcd38",
   "metadata": {},
   "source": [
    "test_text = 'hello' # Benyt _ (Underscore) for at adskille ord i et variablenavn.\n",
    "class = 17\n",
    "xyz = 6.23\n",
    "print(\"Hurra!\")"
   ],
   "outputs": [],
   "execution_count": null
  },
  {
   "metadata": {},
   "cell_type": "markdown",
   "source": [
    "Forstod/løste du alle opgaver på denne side?\n",
    "Ellers spørg [W3schools](https://www.w3schools.com/python/), [Google](https://www.google.com),\n",
    "[Perplexity](https://perplexity.ai), andre elever eller læreren.\n",
    "\n",
    "Arbejd videre med den næste Jupyter Notebook."
   ],
   "id": "cec84e2768e8deff"
  }
 ],
 "metadata": {
  "kernelspec": {
   "display_name": "Python 3 (ipykernel)",
   "language": "python",
   "name": "python3"
  },
  "language_info": {
   "codemirror_mode": {
    "name": "ipython",
    "version": 3
   },
   "file_extension": ".py",
   "mimetype": "text/x-python",
   "name": "python",
   "nbconvert_exporter": "python",
   "pygments_lexer": "ipython3",
   "version": "3.11.3"
  },
  "toc-autonumbering": false,
  "toc-showcode": false,
  "toc-showmarkdowntxt": false,
  "toc-showtags": false
 },
 "nbformat": 4,
 "nbformat_minor": 5
}
