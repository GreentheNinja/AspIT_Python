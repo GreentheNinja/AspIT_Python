{
 "cells": [
  {
   "cell_type": "markdown",
   "id": "03fbec3e-7c5b-4e64-8a0b-5128293d4932",
   "metadata": {},
   "source": "## Lister (lists)"
  },
  {
   "metadata": {},
   "cell_type": "markdown",
   "source": "Lister tillader dig at gruppere flere værdier sammen og referere til dem alle med et fælles navn:",
   "id": "5759b6f5e5328b09"
  },
  {
   "metadata": {
    "ExecuteTime": {
     "end_time": "2025-04-02T20:54:14.354856Z",
     "start_time": "2025-04-02T20:54:14.351362Z"
    }
   },
   "cell_type": "code",
   "source": "names = [\"Hans\", \"Gitte\"]",
   "id": "889acc23e5b84c52",
   "outputs": [],
   "execution_count": 1
  },
  {
   "metadata": {},
   "cell_type": "markdown",
   "source": "En liste kan indeholde værdier af forskellige typer:",
   "id": "a264d95ea29b4c09"
  },
  {
   "metadata": {
    "ExecuteTime": {
     "end_time": "2025-04-02T20:54:14.359358Z",
     "start_time": "2025-04-02T20:54:14.357471Z"
    }
   },
   "cell_type": "code",
   "source": "items = [\"Hans\", 1, \"Gitte\", True]",
   "id": "f9e57ce814da296a",
   "outputs": [],
   "execution_count": 2
  },
  {
   "metadata": {},
   "cell_type": "markdown",
   "source": [
    "Du kan tjekke, om et element er indeholdt i en liste med `in`-operatoren.\n",
    "\n",
    "(Husk at udføre den forrige celle, før du udfører den næste, ellers er variablen `items` ikke defineret, og du vil få en fejlmeddelelse.)"
   ],
   "id": "3bdcc5952ca4b2fd"
  },
  {
   "metadata": {
    "ExecuteTime": {
     "end_time": "2025-04-02T20:54:14.532421Z",
     "start_time": "2025-04-02T20:54:14.530215Z"
    }
   },
   "cell_type": "code",
   "source": "print(\"Hans\" in items)",
   "id": "a992e3bf55eb9dda",
   "outputs": [
    {
     "name": "stdout",
     "output_type": "stream",
     "text": [
      "True\n"
     ]
    }
   ],
   "execution_count": 3
  },
  {
   "metadata": {},
   "cell_type": "markdown",
   "source": [
    "\n",
    "En liste kan også defineres som tom:"
   ],
   "id": "7fbdf65831613f61"
  },
  {
   "metadata": {
    "ExecuteTime": {
     "end_time": "2025-04-02T20:54:14.540610Z",
     "start_time": "2025-04-02T20:54:14.537807Z"
    }
   },
   "cell_type": "code",
   "source": [
    "empty_list = []\n",
    "print(f\"{empty_list = }\")"
   ],
   "id": "6306e1ee040c113c",
   "outputs": [
    {
     "name": "stdout",
     "output_type": "stream",
     "text": [
      "empty_list = []\n"
     ]
    }
   ],
   "execution_count": 4
  },
  {
   "metadata": {},
   "cell_type": "markdown",
   "source": "Du kan referere til elementerne i en liste ved deres indeks, startende fra nul:",
   "id": "a2cde6aa839ed5bd"
  },
  {
   "metadata": {
    "ExecuteTime": {
     "end_time": "2025-04-02T20:54:14.557641Z",
     "start_time": "2025-04-02T20:54:14.554761Z"
    }
   },
   "cell_type": "code",
   "source": [
    "print(f\"{items[0] = }\")\n",
    "print(f\"{items[1] = }\")\n",
    "print(f\"{items[3] = }\")"
   ],
   "id": "bad161307a015b93",
   "outputs": [
    {
     "name": "stdout",
     "output_type": "stream",
     "text": [
      "items[0] = 'Hans'\n",
      "items[1] = 1\n",
      "items[3] = True\n"
     ]
    }
   ],
   "execution_count": 5
  },
  {
   "metadata": {},
   "cell_type": "markdown",
   "source": "Ved at bruge samme notation kan du ændre værdien gemt på et specifikt indeks:",
   "id": "2a8a694765cc0447"
  },
  {
   "metadata": {
    "ExecuteTime": {
     "end_time": "2025-04-02T20:54:14.571914Z",
     "start_time": "2025-04-02T20:54:14.569563Z"
    }
   },
   "cell_type": "code",
   "source": [
    "items[0] = \"Jesper\"\n",
    "print(f\"{items = }\")"
   ],
   "id": "cdce7e7f9954f5ab",
   "outputs": [
    {
     "name": "stdout",
     "output_type": "stream",
     "text": [
      "items = ['Jesper', 1, 'Gitte', True]\n"
     ]
    }
   ],
   "execution_count": 6
  },
  {
   "metadata": {},
   "cell_type": "markdown",
   "source": "Ligesom med strenge vil brug af et negativt indeks starte søgningen fra slutningen:",
   "id": "29a9802c5c534ff5"
  },
  {
   "metadata": {
    "ExecuteTime": {
     "end_time": "2025-04-02T20:54:14.586918Z",
     "start_time": "2025-04-02T20:54:14.584554Z"
    }
   },
   "cell_type": "code",
   "source": "print(f\"{items[-1] = }\")",
   "id": "c7a25fc2f8ad99f3",
   "outputs": [
    {
     "name": "stdout",
     "output_type": "stream",
     "text": [
      "items[-1] = True\n"
     ]
    }
   ],
   "execution_count": 7
  },
  {
   "metadata": {},
   "cell_type": "markdown",
   "source": "Du kan også udtrække en del af en liste ved hjælp af _slices_:",
   "id": "6b93570c7484ff93"
  },
  {
   "metadata": {
    "ExecuteTime": {
     "end_time": "2025-04-02T20:54:14.606788Z",
     "start_time": "2025-04-02T20:54:14.604498Z"
    }
   },
   "cell_type": "code",
   "source": [
    "print(f\"{items[0:2] = }\")\n",
    "print(f\"{items[2:] = }\")"
   ],
   "id": "3d2c0b1770e108c9",
   "outputs": [
    {
     "name": "stdout",
     "output_type": "stream",
     "text": [
      "items[0:2] = ['Jesper', 1]\n",
      "items[2:] = ['Gitte', True]\n"
     ]
    }
   ],
   "execution_count": 8
  },
  {
   "metadata": {},
   "cell_type": "markdown",
   "source": "Få antallet af elementer i en liste ved hjælp af funktionen `len()`, den samme vi brugte til at få længden af en streng:",
   "id": "9af86110e88e2a74"
  },
  {
   "metadata": {
    "ExecuteTime": {
     "end_time": "2025-04-02T20:54:14.618708Z",
     "start_time": "2025-04-02T20:54:14.616326Z"
    }
   },
   "cell_type": "code",
   "source": "print(f\"{len(items) = }\")",
   "id": "2c9ec7291e64eaa7",
   "outputs": [
    {
     "name": "stdout",
     "output_type": "stream",
     "text": [
      "len(items) = 4\n"
     ]
    }
   ],
   "execution_count": 9
  },
  {
   "metadata": {},
   "cell_type": "markdown",
   "source": "Du kan tilføje elementer til listen ved at bruge listens `append()`-metode:",
   "id": "734d858bd95a6292"
  },
  {
   "metadata": {
    "ExecuteTime": {
     "end_time": "2025-04-02T20:54:14.626950Z",
     "start_time": "2025-04-02T20:54:14.624753Z"
    }
   },
   "cell_type": "code",
   "source": [
    "items.append(\"Test\")\n",
    "print(f\"{items = }\")"
   ],
   "id": "5da6d179a52dd2c7",
   "outputs": [
    {
     "name": "stdout",
     "output_type": "stream",
     "text": [
      "items = ['Jesper', 1, 'Gitte', True, 'Test']\n"
     ]
    }
   ],
   "execution_count": 10
  },
  {
   "metadata": {},
   "cell_type": "markdown",
   "source": "Eller brug `extend()`-metoden hvis du vil tilføje flere elementer samtidigt:",
   "id": "98ce3ee695d05aca"
  },
  {
   "metadata": {
    "ExecuteTime": {
     "end_time": "2025-04-02T20:54:14.652956Z",
     "start_time": "2025-04-02T20:54:14.650548Z"
    }
   },
   "cell_type": "code",
   "source": [
    "items.extend([33, 44, \"Hej\"])\n",
    "print(f\"{items = }\")"
   ],
   "id": "3ec8b0f13b36e845",
   "outputs": [
    {
     "name": "stdout",
     "output_type": "stream",
     "text": [
      "items = ['Jesper', 1, 'Gitte', True, 'Test', 33, 44, 'Hej']\n"
     ]
    }
   ],
   "execution_count": 11
  },
  {
   "metadata": {},
   "cell_type": "markdown",
   "source": "Du kan også bruge `+=`-operatoren:",
   "id": "8a39a915277d5428"
  },
  {
   "metadata": {
    "ExecuteTime": {
     "end_time": "2025-04-02T20:54:14.659399Z",
     "start_time": "2025-04-02T20:54:14.656683Z"
    }
   },
   "cell_type": "code",
   "source": [
    "items += [\"xxx\"]\n",
    "print(f\"{items = }\")"
   ],
   "id": "7b087ea974df414c",
   "outputs": [
    {
     "name": "stdout",
     "output_type": "stream",
     "text": [
      "items = ['Jesper', 1, 'Gitte', True, 'Test', 33, 44, 'Hej', 'xxx']\n"
     ]
    }
   ],
   "execution_count": 12
  },
  {
   "metadata": {},
   "cell_type": "markdown",
   "source": [
    "Tip: Med `extend()` eller `+=` skal du ikke glemme de firkantede parenteser. Lad være med at gøre `items += \"Test\"` eller `items.extend(\"Test\")`, ellers vil Python tilføje 4 individuelle tegn til listen, hvilket resulterer i `['Hans', 1, 'Gitte', True, 'T', 'e', 's', 't']`\n",
    "\n",
    "Fjern et element ved hjælp af `remove()`-metoden:"
   ],
   "id": "41a7395a6b8d2cd4"
  },
  {
   "metadata": {
    "ExecuteTime": {
     "end_time": "2025-04-02T20:54:14.680344Z",
     "start_time": "2025-04-02T20:54:14.677788Z"
    }
   },
   "cell_type": "code",
   "source": [
    "items.remove(\"Test\")\n",
    "items.remove(33)\n",
    "items.remove(\"Gitte\")\n",
    "print(f\"{items = }\")  # removes the first element which is equal to \"Test\""
   ],
   "id": "76fa5fca4e6caabf",
   "outputs": [
    {
     "name": "stdout",
     "output_type": "stream",
     "text": [
      "items = ['Jesper', 1, True, 44, 'Hej', 'xxx']\n"
     ]
    }
   ],
   "execution_count": 13
  },
  {
   "metadata": {},
   "cell_type": "markdown",
   "source": "Funktionen `index` giver dig indekset for den første forekomst af en element i listen:",
   "id": "984cc464e8023be9"
  },
  {
   "metadata": {
    "ExecuteTime": {
     "end_time": "2025-04-02T20:54:14.691014Z",
     "start_time": "2025-04-02T20:54:14.686813Z"
    }
   },
   "cell_type": "code",
   "source": "items.index('Hej')",
   "id": "6332a776ae52162",
   "outputs": [
    {
     "data": {
      "text/plain": [
       "4"
      ]
     },
     "execution_count": 14,
     "metadata": {},
     "output_type": "execute_result"
    }
   ],
   "execution_count": 14
  },
  {
   "metadata": {},
   "cell_type": "markdown",
   "source": [
    "`append`, `extend` og `+=` tilføjer elementer til slutningen af listen.\n",
    "\n",
    "For at tilføje et element i midten af en liste, på et specifikt indeks, skal du bruge `insert()`-metoden:"
   ],
   "id": "d8bdc3c357ad215b"
  },
  {
   "metadata": {
    "ExecuteTime": {
     "end_time": "2025-04-02T20:54:14.699247Z",
     "start_time": "2025-04-02T20:54:14.696628Z"
    }
   },
   "cell_type": "code",
   "source": [
    "items.insert(2, \"Test\") # tilføj \"Test\" ved indeks 2\n",
    "print(f\"{items = }\")"
   ],
   "id": "4d22297880ee2cc8",
   "outputs": [
    {
     "name": "stdout",
     "output_type": "stream",
     "text": [
      "items = ['Jesper', 1, 'Test', True, 44, 'Hej', 'xxx']\n"
     ]
    }
   ],
   "execution_count": 15
  },
  {
   "metadata": {},
   "cell_type": "markdown",
   "source": "Sortér en liste ved hjælp af `sort()`-metoden:",
   "id": "a2c9647ff31b646f"
  },
  {
   "metadata": {
    "ExecuteTime": {
     "end_time": "2025-04-02T20:54:14.714568Z",
     "start_time": "2025-04-02T20:54:14.711788Z"
    }
   },
   "cell_type": "code",
   "source": [
    "some_numbers = [2, 6, 1, 18, 4, -3]\n",
    "print(f\"Before: {some_numbers = }\")\n",
    "some_numbers.sort()\n",
    "print(f\"After:  {some_numbers = }\")"
   ],
   "id": "dde0cd85081f8982",
   "outputs": [
    {
     "name": "stdout",
     "output_type": "stream",
     "text": [
      "Before: some_numbers = [2, 6, 1, 18, 4, -3]\n",
      "After:  some_numbers = [-3, 1, 2, 4, 6, 18]\n"
     ]
    }
   ],
   "execution_count": 16
  },
  {
   "metadata": {},
   "cell_type": "markdown",
   "source": "Tip: `sort()` vil kun virke, hvis listen indeholder værdier, der kan sammenlignes. Strenge og heltal kan for eksempel ikke sammenlignes, og du vil få en fejl som `TypeError: '<' not supported between instances of 'int' and 'str'` hvis du prøver.",
   "id": "3baf82d691c3c454"
  },
  {
   "metadata": {},
   "cell_type": "markdown",
   "source": "Sortering med `.sort` ændrer det originale listeindhold. For at undgå dette kan du bruge funktionen `sorted()`, som vil returnere en ny, sorteret liste i stedet for at ændre den originale liste:",
   "id": "d1bf957bea2298c"
  },
  {
   "metadata": {
    "ExecuteTime": {
     "end_time": "2025-04-02T20:54:14.726996Z",
     "start_time": "2025-04-02T20:54:14.724117Z"
    }
   },
   "cell_type": "code",
   "source": [
    "other_numbers = [7, 1, -4, 6]\n",
    "print(f\"Before: {other_numbers = }\")\n",
    "print(f\"{sorted(other_numbers) = }\")\n",
    "print(f\"After: {other_numbers = }\")"
   ],
   "id": "fd7878c74dfc495d",
   "outputs": [
    {
     "name": "stdout",
     "output_type": "stream",
     "text": [
      "Before: other_numbers = [7, 1, -4, 6]\n",
      "sorted(other_numbers) = [-4, 1, 6, 7]\n",
      "After: other_numbers = [7, 1, -4, 6]\n"
     ]
    }
   ],
   "execution_count": 17
  },
  {
   "metadata": {},
   "cell_type": "markdown",
   "source": "### Øvelser",
   "id": "5c140bbf518b083c"
  },
  {
   "cell_type": "code",
   "id": "5c1e543d-3070-4b58-ab3d-1914c411ac83",
   "metadata": {
    "ExecuteTime": {
     "end_time": "2025-04-02T20:54:14.738601Z",
     "start_time": "2025-04-02T20:54:14.736195Z"
    }
   },
   "source": [
    "numbers = [5, -2, 4, 17]\n",
    "print(f\"{numbers = }\")"
   ],
   "outputs": [
    {
     "name": "stdout",
     "output_type": "stream",
     "text": [
      "numbers = [5, -2, 4, 17]\n"
     ]
    }
   ],
   "execution_count": 18
  },
  {
   "cell_type": "markdown",
   "id": "dc38709c-551e-4ac0-a0a2-c1df27e5b1f8",
   "metadata": {},
   "source": [
    "Udfør de næste celler en af gangen. Før du udfører en celle, regn resultatet ud på forhånd. Når du får et uventet resultat, find ud af hvorfor.\n",
    "Leg gerne med cellerne. Forandre dem og udfør dem igen. Du kan også tilføje nye celler. "
   ]
  },
  {
   "cell_type": "code",
   "id": "29dc7307-5328-4e87-ac35-077f995a226c",
   "metadata": {
    "ExecuteTime": {
     "end_time": "2025-04-02T20:54:14.760327Z",
     "start_time": "2025-04-02T20:54:14.757811Z"
    }
   },
   "source": "print(f\"{type(numbers) = }\")",
   "outputs": [
    {
     "name": "stdout",
     "output_type": "stream",
     "text": [
      "type(numbers) = <class 'list'>\n"
     ]
    }
   ],
   "execution_count": 19
  },
  {
   "cell_type": "code",
   "id": "e5b706e2-11dc-42c3-962b-2d823364f97c",
   "metadata": {
    "ExecuteTime": {
     "end_time": "2025-04-02T20:54:14.775730Z",
     "start_time": "2025-04-02T20:54:14.773228Z"
    }
   },
   "source": "print(f\"{len(numbers) = }\")",
   "outputs": [
    {
     "name": "stdout",
     "output_type": "stream",
     "text": [
      "len(numbers) = 4\n"
     ]
    }
   ],
   "execution_count": 20
  },
  {
   "cell_type": "code",
   "id": "7535c160-b104-46e6-be63-4973c2fbac3a",
   "metadata": {
    "ExecuteTime": {
     "end_time": "2025-04-02T20:54:14.790684Z",
     "start_time": "2025-04-02T20:54:14.787650Z"
    }
   },
   "source": "print(f\"{17 in numbers = }\")",
   "outputs": [
    {
     "name": "stdout",
     "output_type": "stream",
     "text": [
      "17 in numbers = True\n"
     ]
    }
   ],
   "execution_count": 21
  },
  {
   "cell_type": "code",
   "id": "ec5929d7-d6bb-45b4-a6ee-f83d2285a8f3",
   "metadata": {
    "ExecuteTime": {
     "end_time": "2025-04-02T20:54:14.798256Z",
     "start_time": "2025-04-02T20:54:14.795944Z"
    }
   },
   "source": "print(f\"{2 in numbers = }\")",
   "outputs": [
    {
     "name": "stdout",
     "output_type": "stream",
     "text": [
      "2 in numbers = False\n"
     ]
    }
   ],
   "execution_count": 22
  },
  {
   "cell_type": "code",
   "id": "c56c6491-b5c6-44d4-bcab-b7f28fd27e72",
   "metadata": {
    "ExecuteTime": {
     "end_time": "2025-04-02T20:54:14.814649Z",
     "start_time": "2025-04-02T20:54:14.812052Z"
    }
   },
   "source": "print(f\"{numbers[0] = }\")",
   "outputs": [
    {
     "name": "stdout",
     "output_type": "stream",
     "text": [
      "numbers[0] = 5\n"
     ]
    }
   ],
   "execution_count": 23
  },
  {
   "cell_type": "code",
   "id": "e470b330-56d9-4d36-8043-04712e1986ed",
   "metadata": {
    "ExecuteTime": {
     "end_time": "2025-04-02T20:54:14.826416Z",
     "start_time": "2025-04-02T20:54:14.823945Z"
    }
   },
   "source": "print(f\"{numbers[3] = }\")",
   "outputs": [
    {
     "name": "stdout",
     "output_type": "stream",
     "text": [
      "numbers[3] = 17\n"
     ]
    }
   ],
   "execution_count": 24
  },
  {
   "cell_type": "code",
   "id": "6da378c2-9c96-41cc-a736-8d8408f7f432",
   "metadata": {
    "ExecuteTime": {
     "end_time": "2025-04-02T20:54:14.840833Z",
     "start_time": "2025-04-02T20:54:14.838050Z"
    }
   },
   "source": "print(f\"{numbers[-1] = }\")",
   "outputs": [
    {
     "name": "stdout",
     "output_type": "stream",
     "text": [
      "numbers[-1] = 17\n"
     ]
    }
   ],
   "execution_count": 25
  },
  {
   "cell_type": "code",
   "id": "38fdcae1-0747-443f-8f9d-267211932f17",
   "metadata": {
    "ExecuteTime": {
     "end_time": "2025-04-02T20:54:14.854231Z",
     "start_time": "2025-04-02T20:54:14.851845Z"
    }
   },
   "source": "print(f\"{numbers[:2] = }\")",
   "outputs": [
    {
     "name": "stdout",
     "output_type": "stream",
     "text": [
      "numbers[:2] = [5, -2]\n"
     ]
    }
   ],
   "execution_count": 26
  },
  {
   "cell_type": "code",
   "id": "1a02b79f-a61a-4f24-b035-bc9757198bee",
   "metadata": {
    "ExecuteTime": {
     "end_time": "2025-04-02T20:54:14.863708Z",
     "start_time": "2025-04-02T20:54:14.860862Z"
    }
   },
   "source": "print(f\"{numbers[2:] = }\")",
   "outputs": [
    {
     "name": "stdout",
     "output_type": "stream",
     "text": [
      "numbers[2:] = [4, 17]\n"
     ]
    }
   ],
   "execution_count": 27
  },
  {
   "cell_type": "code",
   "id": "ca748d7a-2bf9-4128-8e44-6302260b91a5",
   "metadata": {
    "ExecuteTime": {
     "end_time": "2025-04-02T20:54:14.890487Z",
     "start_time": "2025-04-02T20:54:14.887869Z"
    }
   },
   "source": [
    "numbers.append(9)\n",
    "numbers.append(5)\n",
    "print(f\"{numbers = }\")"
   ],
   "outputs": [
    {
     "name": "stdout",
     "output_type": "stream",
     "text": [
      "numbers = [5, -2, 4, 17, 9, 5]\n"
     ]
    }
   ],
   "execution_count": 28
  },
  {
   "cell_type": "code",
   "id": "dd26db4c-0bb5-44f5-8a19-673784327c13",
   "metadata": {
    "ExecuteTime": {
     "end_time": "2025-04-02T20:54:14.906081Z",
     "start_time": "2025-04-02T20:54:14.903312Z"
    }
   },
   "source": "print(f\"{numbers[2:] = }\")",
   "outputs": [
    {
     "name": "stdout",
     "output_type": "stream",
     "text": [
      "numbers[2:] = [4, 17, 9, 5]\n"
     ]
    }
   ],
   "execution_count": 29
  },
  {
   "cell_type": "code",
   "id": "6fa91586-87f0-44c7-8582-579e7da902c4",
   "metadata": {
    "ExecuteTime": {
     "end_time": "2025-04-02T20:54:14.922351Z",
     "start_time": "2025-04-02T20:54:14.919690Z"
    }
   },
   "source": "print(f\"{len(numbers) = }\")",
   "outputs": [
    {
     "name": "stdout",
     "output_type": "stream",
     "text": [
      "len(numbers) = 6\n"
     ]
    }
   ],
   "execution_count": 30
  },
  {
   "cell_type": "code",
   "id": "0f9ab272-b57c-4295-af87-20b5b21de56d",
   "metadata": {
    "ExecuteTime": {
     "end_time": "2025-04-02T20:54:14.940945Z",
     "start_time": "2025-04-02T20:54:14.938067Z"
    }
   },
   "source": "print(f\"{sorted(numbers) = }\")",
   "outputs": [
    {
     "name": "stdout",
     "output_type": "stream",
     "text": [
      "sorted(numbers) = [-2, 4, 5, 5, 9, 17]\n"
     ]
    }
   ],
   "execution_count": 31
  },
  {
   "cell_type": "code",
   "id": "27f09566-5cf7-4085-bc0f-e342e1c3b48b",
   "metadata": {
    "ExecuteTime": {
     "end_time": "2025-04-02T20:54:14.951767Z",
     "start_time": "2025-04-02T20:54:14.949308Z"
    }
   },
   "source": "print(f\"{numbers = }\")",
   "outputs": [
    {
     "name": "stdout",
     "output_type": "stream",
     "text": [
      "numbers = [5, -2, 4, 17, 9, 5]\n"
     ]
    }
   ],
   "execution_count": 32
  },
  {
   "cell_type": "code",
   "id": "06524276-72bc-4937-aaa2-8348993d98ec",
   "metadata": {
    "ExecuteTime": {
     "end_time": "2025-04-02T20:54:14.976565Z",
     "start_time": "2025-04-02T20:54:14.973388Z"
    }
   },
   "source": [
    "numbers.sort()\n",
    "print(f\"{numbers = }\")"
   ],
   "outputs": [
    {
     "name": "stdout",
     "output_type": "stream",
     "text": [
      "numbers = [-2, 4, 5, 5, 9, 17]\n"
     ]
    }
   ],
   "execution_count": 33
  },
  {
   "cell_type": "markdown",
   "id": "7e5d1571-55f2-44c8-b800-bd208464020d",
   "metadata": {},
   "source": [
    "Tilføj kode til de følgende celler, sådan at resultatet bliver den udtryk i kommentaren."
   ]
  },
  {
   "cell_type": "code",
   "id": "f3c974bb-21c8-4937-9938-277d320614bc",
   "metadata": {
    "ExecuteTime": {
     "end_time": "2025-04-02T20:54:14.985280Z",
     "start_time": "2025-04-02T20:54:14.982101Z"
    }
   },
   "source": "print(f\"{numbers[] = }\")  # 4",
   "outputs": [
    {
     "ename": "SyntaxError",
     "evalue": "invalid syntax. Perhaps you forgot a comma? (2280687252.py, line 1)",
     "output_type": "error",
     "traceback": [
      "\u001B[1;36m  Cell \u001B[1;32mIn[34], line 1\u001B[1;36m\u001B[0m\n\u001B[1;33m    print(f\"{numbers[] = }\")  # 4\u001B[0m\n\u001B[1;37m             ^\u001B[0m\n\u001B[1;31mSyntaxError\u001B[0m\u001B[1;31m:\u001B[0m invalid syntax. Perhaps you forgot a comma?\n"
     ]
    }
   ],
   "execution_count": 34
  },
  {
   "cell_type": "code",
   "id": "11645ba2-3916-40a6-a38f-cd768cd6d919",
   "metadata": {},
   "source": "print(f\"{numbers[] = }\")  # 17",
   "outputs": [],
   "execution_count": null
  },
  {
   "cell_type": "code",
   "id": "5e442f0d-1164-48cb-a9d7-d58c9bd4ac31",
   "metadata": {},
   "source": "print(f\"{numbers[] = }\")  # [5, 5]",
   "outputs": [],
   "execution_count": null
  },
  {
   "cell_type": "code",
   "id": "f5c5502e-8802-424e-a2d6-a43476b09417",
   "metadata": {},
   "source": "print(f\"{numbers[] = }\")  # [5, 9, 17]",
   "outputs": [],
   "execution_count": null
  },
  {
   "cell_type": "code",
   "id": "0d163598-b78d-4da0-a0c8-6b4087c71b57",
   "metadata": {},
   "source": [
    "numbers\n",
    "print(f\"{numbers[] = }\")  # [-2, 4, 5, 5, 9, 17, 3]"
   ],
   "outputs": [],
   "execution_count": null
  },
  {
   "metadata": {},
   "cell_type": "markdown",
   "source": [
    "Forstod/løste du alle opgaver på denne side?\n",
    "Ellers spørg [W3schools](https://www.w3schools.com/python/), [Google](https://www.google.com),\n",
    "[Perplexity](https://perplexity.ai), andre elever eller læreren.\n",
    "\n",
    "Arbejd videre med den næste Jupyter Notebook."
   ],
   "id": "9bf1bd7e7f925e58"
  }
 ],
 "metadata": {
  "kernelspec": {
   "display_name": "Python 3 (ipykernel)",
   "language": "python",
   "name": "python3"
  },
  "language_info": {
   "codemirror_mode": {
    "name": "ipython",
    "version": 3
   },
   "file_extension": ".py",
   "mimetype": "text/x-python",
   "name": "python",
   "nbconvert_exporter": "python",
   "pygments_lexer": "ipython3",
   "version": "3.10.7"
  }
 },
 "nbformat": 4,
 "nbformat_minor": 5
}
