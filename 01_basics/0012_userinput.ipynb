{
 "cells": [
  {
   "cell_type": "markdown",
   "id": "96295c0b-871e-4fd5-8b96-80c7b3d2ae5e",
   "metadata": {},
   "source": "## Brugerinput (user input)"
  },
  {
   "metadata": {},
   "cell_type": "markdown",
   "source": "Vi kan acceptere input fra brugeren ved hjælp af `input()`:",
   "id": "8a29b152ce3a444f"
  },
  {
   "metadata": {},
   "cell_type": "code",
   "source": [
    "print('Please type your age. Finish with Enter.')\n",
    "age = input()\n",
    "print('Your age is ' + age)"
   ],
   "id": "80569ec10ba6c845",
   "outputs": [],
   "execution_count": null
  },
  {
   "metadata": {},
   "cell_type": "markdown",
   "source": [
    "Denne tilgang får brugerinput mens programmet kører, hvilket betyder, at programmet stopper udførelsen og venter, indtil brugeren skriver noget og trykker på _Enter_-tasten.\n",
    "\n",
    "Bemærk, at `input()` returnerer en værdi af typen `str`."
   ],
   "id": "55e77beaa6be00e9"
  },
  {
   "cell_type": "markdown",
   "id": "81169767-b14d-437f-9305-b325f8bebb0a",
   "metadata": {},
   "source": [
    "### Øvelse\n",
    "\n",
    "Skriv et program i den næste celle.  \n",
    "Når man starter programmet, spørger den \"How old are you?\".  \n",
    "Så kan man indtaste et tal.  \n",
    "Derefter svarer programmet med \"In ten years you are x years old.\" hvor x er det korrekte tal.\n",
    "(Tip: Muligvis har du brug for at google \"type casting python\".)"
   ]
  },
  {
   "cell_type": "code",
   "id": "c331ebc8-f07d-4593-8d98-ec4d0de38fed",
   "metadata": {},
   "source": [
    "# Skriv dit program her."
   ],
   "outputs": [],
   "execution_count": null
  },
  {
   "metadata": {},
   "cell_type": "markdown",
   "source": [
    "Forstod/løste du alle opgaver på denne side?\n",
    "Ellers spørg [W3schools](https://www.w3schools.com/python/), [Google](https://www.google.com),\n",
    "[Perplexity](https://perplexity.ai), andre elever eller læreren.\n",
    "\n",
    "Arbejd videre med den næste Jupyter Notebook."
   ],
   "id": "36807017c559b52a"
  }
 ],
 "metadata": {
  "kernelspec": {
   "display_name": "Python 3 (ipykernel)",
   "language": "python",
   "name": "python3"
  },
  "language_info": {
   "codemirror_mode": {
    "name": "ipython",
    "version": 3
   },
   "file_extension": ".py",
   "mimetype": "text/x-python",
   "name": "python",
   "nbconvert_exporter": "python",
   "pygments_lexer": "ipython3",
   "version": "3.10.7"
  }
 },
 "nbformat": 4,
 "nbformat_minor": 5
}
