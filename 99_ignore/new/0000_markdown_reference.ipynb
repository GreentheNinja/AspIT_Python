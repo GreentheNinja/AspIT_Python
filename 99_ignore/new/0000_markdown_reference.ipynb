{
 "cells": [
  {
   "metadata": {},
   "cell_type": "markdown",
   "source": [
    "# # Headline\n",
    "## ## Headline\n",
    "### ### Headline\n",
    "#### #### Headline\n",
    "Normal text\n",
    "\n",
    "```python\n",
    "print(\"Python code snippet between triple backticks\")\n",
    "```\n",
    "\n",
    "_italic text between single underscores_\n",
    "\n",
    "__bold text between double underscores__\n",
    "\n",
    "___italic bold text between triple underscores___\n",
    "\n",
    "<u>Underlined text between < u> and < /u> </u>\n",
    "\n",
    "<span style=\"color: green;\">Colored text between < span style=\"color: green;\"> and < /span></span>\n",
    "\n",
    "\n",
    "`Text with background between accents`\n",
    "\n",
    "* Unordered\n",
    "* list\n",
    "* using\n",
    "* asterisks\n",
    "\n",
    "1. Ordered\n",
    "2. list\n",
    "3. using\n",
    "4. numbers\n",
    "\n",
    "#### Horizontal rule using ---:\n",
    "\n",
    "---\n",
    "\n",
    "> A block\n",
    "> quote using\n",
    "> _greater than_ characters at the start of each line\n",
    "\n",
    "[A link. The visible text is in brackets. The URL is in parentheses](https://www.dr.dk/nyheder)\n",
    "\n",
    "An image from the web, using <  img src=\"here should be the url\" alt=\"Alt text\"></img  >:\n",
    "\n",
    "<img src=\"https://private-user-images.githubusercontent.com/101515995/398484586-1dce3937-9b65-42ed-a20e-c08f28cbe0d5.png?jwt=eyJhbGciOiJIUzI1NiIsInR5cCI6IkpXVCJ9.eyJpc3MiOiJnaXRodWIuY29tIiwiYXVkIjoicmF3LmdpdGh1YnVzZXJjb250ZW50LmNvbSIsImtleSI6ImtleTUiLCJleHAiOjE3NDI5NDA0OTQsIm5iZiI6MTc0Mjk0MDE5NCwicGF0aCI6Ii8xMDE1MTU5OTUvMzk4NDg0NTg2LTFkY2UzOTM3LTliNjUtNDJlZC1hMjBlLWMwOGYyOGNiZTBkNS5wbmc_WC1BbXotQWxnb3JpdGhtPUFXUzQtSE1BQy1TSEEyNTYmWC1BbXotQ3JlZGVudGlhbD1BS0lBVkNPRFlMU0E1M1BRSzRaQSUyRjIwMjUwMzI1JTJGdXMtZWFzdC0xJTJGczMlMkZhd3M0X3JlcXVlc3QmWC1BbXotRGF0ZT0yMDI1MDMyNVQyMjAzMTRaJlgtQW16LUV4cGlyZXM9MzAwJlgtQW16LVNpZ25hdHVyZT04ZTgzZDNiYmNjYjRhMTMwYmZlYmJkZDA5MjQzNDc5Yzg3Y2NiZTc4ZDA4Yzc4ZThjOGRkMWRhNGVmYWI4NjdkJlgtQW16LVNpZ25lZEhlYWRlcnM9aG9zdCJ9.77mS1aTFWv3zXwcsLxErzdSyOrxGbP_0uHDdmsKUUY8\" alt=\"Alt text\"></img>\n",
    "\n",
    "A local image, starting with an exclamation mark, then [some alternate text in brackets](and the path+filename in parentheses):\n",
    "\n",
    "![foo](../images/some_image.png)"
   ],
   "id": "9f71d4169a5f4f5b"
  },
  {
   "metadata": {},
   "cell_type": "code",
   "outputs": [],
   "execution_count": null,
   "source": "",
   "id": "a8c129d0a645fdec"
  }
 ],
 "metadata": {
  "kernelspec": {
   "display_name": "Python 3 (ipykernel)",
   "language": "python",
   "name": "python3"
  },
  "language_info": {
   "codemirror_mode": {
    "name": "ipython",
    "version": 3
   },
   "file_extension": ".py",
   "mimetype": "text/x-python",
   "name": "python",
   "nbconvert_exporter": "python",
   "pygments_lexer": "ipython3",
   "version": "3.11.3"
  },
  "toc-autonumbering": false,
  "toc-showcode": false,
  "toc-showmarkdowntxt": false,
  "toc-showtags": false
 },
 "nbformat": 4,
 "nbformat_minor": 5
}
