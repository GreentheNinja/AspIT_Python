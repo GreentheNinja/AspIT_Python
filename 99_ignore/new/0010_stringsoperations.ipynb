{
 "cells": [
  {
   "metadata": {},
   "cell_type": "markdown",
   "source": "## String Operationer",
   "id": "96295c0b-871e-4fd5-8b96-80c7b3d2ae5e"
  },
  {
   "metadata": {},
   "cell_type": "markdown",
   "source": [
    "En string i Python er en række af tegn omsluttet af anførselstegn eller dobbelte anførselstegn:\n",
    "\n",
    " 'Thomas' eller \"Thomas\"\n",
    "\n",
    "Du kan tildele en stringværdi til en variabel:"
   ],
   "id": "1859ae2092cbce6"
  },
  {
   "metadata": {},
   "cell_type": "code",
   "source": [
    "name = \"Thomas\"\n",
    "print(name)"
   ],
   "id": "4b7230c267f7ede7",
   "outputs": [],
   "execution_count": null
  },
  {
   "metadata": {},
   "cell_type": "markdown",
   "source": "Du kan sammenkæde to stringe ved hjælp af `+` operatoren:",
   "id": "d0c625de3a094d71"
  },
  {
   "metadata": {},
   "cell_type": "code",
   "source": [
    "sentence = \"Thomas\" + \" lives in London\"\n",
    "print(sentence)"
   ],
   "id": "d73bb5a551bfcb1b",
   "outputs": [],
   "execution_count": null
  },
  {
   "metadata": {},
   "cell_type": "markdown",
   "source": "Du kan tilføje til en string ved hjælp af `+=`:",
   "id": "dd0b01639db9b9f6"
  },
  {
   "metadata": {},
   "cell_type": "code",
   "source": [
    "name = \"Thomas\"\n",
    "name += \" has a brother\"\n",
    "print(name)"
   ],
   "id": "c1696d013b9f39a5",
   "outputs": [],
   "execution_count": null
  },
  {
   "metadata": {},
   "cell_type": "markdown",
   "source": "Du kan konvertere et tal til en string ved hjælp af funktionen `str`:",
   "id": "d5cba9b437e936a"
  },
  {
   "metadata": {},
   "cell_type": "code",
   "source": [
    "number = 17\n",
    "converted_number = str(number)\n",
    "print(\"before:\", number, type(number))\n",
    "print(\"after: \", converted_number, type(converted_number))"
   ],
   "id": "1df7af33a9c2161b",
   "outputs": [],
   "execution_count": null
  },
  {
   "metadata": {},
   "cell_type": "markdown",
   "source": "Dette er essentielt for at sammenkæde et tal med en string:",
   "id": "a6ab3ca9883b5332"
  },
  {
   "metadata": {},
   "cell_type": "code",
   "source": "print(\"Thomas is \" + str(12) + \" years old\")",
   "id": "273c3669241ded33",
   "outputs": [],
   "execution_count": null
  },
  {
   "metadata": {},
   "cell_type": "markdown",
   "source": "En string kan gå over flere linjer, når den omsluttes af et sæt af 3 anførselstegn:",
   "id": "f0fc9ee59a773cc2"
  },
  {
   "metadata": {},
   "cell_type": "code",
   "source": [
    "text = (\"\"\"Thomas is\n",
    "\n",
    "    12\n",
    "\n",
    "years old\n",
    "\"\"\")\n",
    "\n",
    "print(text)"
   ],
   "id": "2154eb7cfadfe3d1",
   "outputs": [],
   "execution_count": null
  },
  {
   "metadata": {},
   "cell_type": "markdown",
   "source": [
    "En string har et sæt indbyggede metoder, såsom:\n",
    "\n",
    "* `lower()` til at få en version af en string med små bogstaver\n",
    "* `split()` til at opdele en string\n",
    "* `find()` til at finde positionen af en understring\n",
    "* og mange flere. Du kan finde dem fx [her](https://www.w3schools.com/python/python_strings_methods.asp).\n",
    "\n",
    "Ingen af disse metoder ændrer den originale string. De returnerer i stedet en ny, modificeret string. For eksempel:"
   ],
   "id": "fd0a8b0784aeed1f"
  },
  {
   "metadata": {},
   "cell_type": "code",
   "source": [
    "text = \"This IS a tEst\"\n",
    "print(text.lower())\n",
    "print(\"But variable text is still: \", text)"
   ],
   "id": "bd4b36da90c064d5",
   "outputs": [],
   "execution_count": null
  },
  {
   "metadata": {},
   "cell_type": "markdown",
   "source": "`len()` giver dig længden af en string:",
   "id": "b61d74c8fbd5a0ea"
  },
  {
   "metadata": {},
   "cell_type": "code",
   "source": [
    "name = \"Thomas\"\n",
    "print(len(name))"
   ],
   "id": "586ff8d19582f882",
   "outputs": [],
   "execution_count": null
  },
  {
   "metadata": {},
   "cell_type": "markdown",
   "source": "`in` operatoren lader dig kontrollere, om en string indeholder en understring:",
   "id": "78435d86d34f8cad"
  },
  {
   "metadata": {},
   "cell_type": "code",
   "source": [
    "name = \"Thomas\"\n",
    "print(\"oma\" in name)"
   ],
   "id": "837e4fe9759ed7bd",
   "outputs": [],
   "execution_count": null
  },
  {
   "metadata": {},
   "cell_type": "markdown",
   "source": [
    "For at tilføje specielle tegn til en string, sætter man en _backslash_ `\\` foran tegnet.\n",
    "\n",
    "For eksempel, hvis u vil have et anførselstegn i en string, ville\n",
    "\n",
    "name = \"Tho\"mas\" ikke fungere, da Python vil tro, at stringen slutter ved \"Tho\".\n",
    "\n",
    "Man siger, at man _escaper_ det dobbelte anførselstegn inde i stringen, med `\\` backslash tegnet."
   ],
   "id": "5153c2047d8e06cf"
  },
  {
   "metadata": {},
   "cell_type": "code",
   "source": [
    "name = \"Tho\\\"mas\"\n",
    "print(name)"
   ],
   "id": "f60b993de32aa94",
   "outputs": [],
   "execution_count": null
  },
  {
   "metadata": {},
   "cell_type": "markdown",
   "source": "Dette gælder også for enkelte anførselstegn `\\'`, og for specielle formateringstegn som `\\t` for tab, `\\n` for ny linje og `\\\\` for backslash.",
   "id": "b335c943ab7f3fc6"
  },
  {
   "metadata": {},
   "cell_type": "markdown",
   "source": [
    "\n",
    "Givet en string, kan du få dens tegn ved hjælp af kantede parenteser for at få et specifikt element, givet dets indeks, startende fra 0:"
   ],
   "id": "efe3a3e8fa82ccff"
  },
  {
   "metadata": {},
   "cell_type": "code",
   "source": [
    "name = \"Thomas\"\n",
    "print(name[0])\n",
    "print(name[3])"
   ],
   "id": "ed5f138254c09696",
   "outputs": [],
   "execution_count": null
  },
  {
   "metadata": {},
   "cell_type": "markdown",
   "source": "Brug af et negativt tal vil starte optællingen fra slutningen:",
   "id": "354bdf85aa1fc2bd"
  },
  {
   "metadata": {},
   "cell_type": "code",
   "source": [
    "name = \"Thomas\"\n",
    "print(name[-1])\n",
    "print(name[-2])"
   ],
   "id": "b44ae72c678b2f3b",
   "outputs": [],
   "execution_count": null
  },
  {
   "metadata": {},
   "cell_type": "markdown",
   "source": "Du kan også bruge et interval, ved hjælp af det, vi kalder _slicing_:",
   "id": "b6c842261b039394"
  },
  {
   "metadata": {},
   "cell_type": "code",
   "source": [
    "name = \"Thomas\"\n",
    "print(name[0:2])  # start at 0, end at 2 (not including 2)\n",
    "print(name[:4])   # start at 0, end at 4 (not including 4)\n",
    "print(name[2:])   # start at 2, end at the end"
   ],
   "id": "9e6c6be75ea3a951",
   "outputs": [],
   "execution_count": null
  },
  {
   "metadata": {},
   "cell_type": "markdown",
   "source": [
    "### Øvelser\n",
    "\n",
    "Udfør den næste celle og analysér resultatet."
   ],
   "id": "382252ba-a286-484c-ac8d-6b31d9e2af93"
  },
  {
   "metadata": {},
   "cell_type": "code",
   "source": [
    "string_1 = \"word1\"\n",
    "string_2 = 'word2'  # I Python kan du benytte \" eller ' for strings. Det er ligemeget. \n",
    "print(string_1 + string_2)\n",
    "print(string_1 + \" \" + string_2)"
   ],
   "id": "588a8dad-ea87-4e77-9a00-fc75882270c1",
   "outputs": [],
   "execution_count": null
  },
  {
   "cell_type": "markdown",
   "id": "0e060638-e004-4eb1-b89e-a3c7e2f6ed19",
   "metadata": {},
   "source": [
    "Udfør den næste celle. Der opstår en fejl. Hvorfor? Forandre den fejlagtige kodelinje sådan at der bliver printet \"5 is greater than 3\""
   ]
  },
  {
   "cell_type": "code",
   "id": "e3ae29e0-936a-4cca-8c8e-56ee5d0c9193",
   "metadata": {},
   "source": [
    "number1 = 5\n",
    "number2 = 3\n",
    "print(number1 + number2)  # this works\n",
    "print(number1 + \" is greater than \" + number2)  # this does not work"
   ],
   "outputs": [],
   "execution_count": null
  },
  {
   "cell_type": "markdown",
   "id": "19a28354-461f-4838-8ae5-3e971e8e9cd1",
   "metadata": {},
   "source": [
    "Udfør de næste celler en af gangen. Før du udfører en celle, regn resultatet ud på forhånd. Når du får et uventet resultat, find ud af hvorfor.\n",
    "Leg gerne med cellerne. Forandre dem og udfør dem igen. Du kan også tilføje nye celler."
   ]
  },
  {
   "cell_type": "code",
   "id": "f470c0fd-8a6a-49b3-abe4-37c21269cc14",
   "metadata": {},
   "source": [
    "string1 = \"hej\"\n",
    "print(string1)"
   ],
   "outputs": [],
   "execution_count": null
  },
  {
   "cell_type": "code",
   "id": "ec9585d9-912e-4cfe-b43c-f27ae301955d",
   "metadata": {},
   "source": [
    "string1 += \", \"\n",
    "print(string1)"
   ],
   "outputs": [],
   "execution_count": null
  },
  {
   "cell_type": "code",
   "id": "034c0694-4611-4416-9f72-967fd14ec6e3",
   "metadata": {},
   "source": [
    "string1 += string1\n",
    "print(string1)"
   ],
   "outputs": [],
   "execution_count": null
  },
  {
   "cell_type": "code",
   "id": "1e5a4d1f-d708-450e-bc4d-d6bbab4437f3",
   "metadata": {},
   "source": [
    "print(string1.upper())"
   ],
   "outputs": [],
   "execution_count": null
  },
  {
   "cell_type": "code",
   "id": "69aa6d23-3175-4d88-ae5a-52b6a3000d48",
   "metadata": {},
   "source": [
    "print(string1.isupper())"
   ],
   "outputs": [],
   "execution_count": null
  },
  {
   "cell_type": "code",
   "id": "d63856bf-5bf3-4c78-bbb9-4e214697d930",
   "metadata": {
    "tags": []
   },
   "source": [
    "print(string1.replace(\"e\", \"ø\"))"
   ],
   "outputs": [],
   "execution_count": null
  },
  {
   "cell_type": "code",
   "id": "cd4864ad-0eed-4a9b-9d22-59692c4a9261",
   "metadata": {},
   "source": [
    "print(string1.split(\"j\"))"
   ],
   "outputs": [],
   "execution_count": null
  },
  {
   "cell_type": "code",
   "id": "21ae650b-29bc-4789-b2d0-2e95d4cf1032",
   "metadata": {},
   "source": [
    "string2 = \"software\"\n",
    "print(\"h\" in string2)"
   ],
   "outputs": [],
   "execution_count": null
  },
  {
   "cell_type": "code",
   "id": "647169d0-dc12-4c7f-a8b9-23ca58236190",
   "metadata": {},
   "source": [
    "print(len(string2))"
   ],
   "outputs": [],
   "execution_count": null
  },
  {
   "cell_type": "code",
   "id": "c8d34225-1e2c-4f4e-b73f-2d440d4291f2",
   "metadata": {},
   "source": [
    "print(string2 + \"\\nNy linje!\")"
   ],
   "outputs": [],
   "execution_count": null
  },
  {
   "cell_type": "code",
   "id": "1b0c4399-94dd-4ee4-95f6-c901d12aaa4f",
   "metadata": {},
   "source": [
    "print(string2[0])"
   ],
   "outputs": [],
   "execution_count": null
  },
  {
   "cell_type": "code",
   "id": "aef23a3c-3ce8-405b-9d92-ec6aed551613",
   "metadata": {},
   "source": [
    "print(string2[3])"
   ],
   "outputs": [],
   "execution_count": null
  },
  {
   "cell_type": "code",
   "id": "56b5ae2a-7c79-4f50-bc41-4aaa8df26526",
   "metadata": {},
   "source": [
    "print(string2[-1])"
   ],
   "outputs": [],
   "execution_count": null
  },
  {
   "cell_type": "code",
   "id": "c6567c75-2d6b-4498-b805-9232daae1a8e",
   "metadata": {},
   "source": [
    "print(string2[-4])"
   ],
   "outputs": [],
   "execution_count": null
  },
  {
   "cell_type": "code",
   "id": "9c2cc1a0-6224-4590-b322-ea8753f8bcd6",
   "metadata": {},
   "source": [
    "print(string2[2:])"
   ],
   "outputs": [],
   "execution_count": null
  },
  {
   "cell_type": "code",
   "id": "2b089016-5a20-401f-a191-dd1a7557239b",
   "metadata": {},
   "source": [
    "print(string2[2:6])"
   ],
   "outputs": [],
   "execution_count": null
  },
  {
   "metadata": {},
   "cell_type": "markdown",
   "source": [
    "Forstod/løste du alle opgaver på denne side?\n",
    "Ellers spørg [W3schools](https://www.w3schools.com/python/), [Google](https://www.google.com),\n",
    "[Perplexity](https://perplexity.ai), andre elever eller læreren.\n",
    "\n",
    "Arbejd videre med den næste Jupyter Notebook."
   ],
   "id": "36807017c559b52a"
  }
 ],
 "metadata": {
  "kernelspec": {
   "display_name": "Python 3 (ipykernel)",
   "language": "python",
   "name": "python3"
  },
  "language_info": {
   "codemirror_mode": {
    "name": "ipython",
    "version": 3
   },
   "file_extension": ".py",
   "mimetype": "text/x-python",
   "name": "python",
   "nbconvert_exporter": "python",
   "pygments_lexer": "ipython3",
   "version": "3.10.7"
  }
 },
 "nbformat": 4,
 "nbformat_minor": 5
}
