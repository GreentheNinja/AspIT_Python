{
 "cells": [
  {
   "cell_type": "markdown",
   "id": "96295c0b-871e-4fd5-8b96-80c7b3d2ae5e",
   "metadata": {},
   "source": "## User Input"
  },
  {
   "cell_type": "markdown",
   "id": "96f46e86-5e91-40b6-980e-7675ed0e3d7b",
   "metadata": {},
   "source": "##### [Læs afsnittet \"User Input in Python\"](https://www.freecodecamp.org/news/the-python-handbook/#heading-user-input-in-python) (klik på linket)"
  },
  {
   "cell_type": "markdown",
   "id": "81169767-b14d-437f-9305-b325f8bebb0a",
   "metadata": {},
   "source": [
    "Skriv et program i den næste celle.  \n",
    "Når man starter programmet, spørger den \"How old are you?\".  \n",
    "Så kan man indtaste et tal.  \n",
    "Derefter svarer programmet med \"In ten years are you x years old.\" hvor x er det korrekte tal.\n",
    "(Tip: Muligvis har du brug for at google \"type casting python\".)"
   ]
  },
  {
   "cell_type": "code",
   "execution_count": null,
   "id": "c331ebc8-f07d-4593-8d98-ec4d0de38fed",
   "metadata": {},
   "outputs": [],
   "source": [
    "# Skriv dit program her."
   ]
  },
  {
   "metadata": {},
   "cell_type": "markdown",
   "source": [
    "Forstod/løste du alle opgaver på denne side?\n",
    "Ellers spørg [W3schools](https://www.w3schools.com/python/), [Google](https://www.google.com),\n",
    "[Perplexity](https://perplexity.ai), andre elever eller læreren.\n",
    "\n",
    "Arbejd videre med den næste Jupyter Notebook."
   ],
   "id": "36807017c559b52a"
  }
 ],
 "metadata": {
  "kernelspec": {
   "display_name": "Python 3 (ipykernel)",
   "language": "python",
   "name": "python3"
  },
  "language_info": {
   "codemirror_mode": {
    "name": "ipython",
    "version": 3
   },
   "file_extension": ".py",
   "mimetype": "text/x-python",
   "name": "python",
   "nbconvert_exporter": "python",
   "pygments_lexer": "ipython3",
   "version": "3.10.7"
  }
 },
 "nbformat": 4,
 "nbformat_minor": 5
}
