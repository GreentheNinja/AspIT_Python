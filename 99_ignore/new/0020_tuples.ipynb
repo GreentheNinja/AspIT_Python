{
 "cells": [
  {
   "cell_type": "markdown",
   "id": "03fbec3e-7c5b-4e64-8a0b-5128293d4932",
   "metadata": {},
   "source": "## Tupler (tuples)"
  },
  {
   "metadata": {},
   "cell_type": "markdown",
   "source": [
    "Tupler tillader dig at oprette uforanderlige grupper af objekter.\n",
    "Dette betyder, at når en tupel er oprettet, kan den ikke ændres. Du kan ikke tilføje eller fjerne elementer.\n",
    "\n",
    "De oprettes på en måde, der ligner lister, men ved brug af parenteser i stedet for kantede parenteser:"
   ],
   "id": "11b89ea4148e769e"
  },
  {
   "metadata": {},
   "cell_type": "code",
   "source": "names = (\"Hans\", \"Gitte\")",
   "id": "204d58da0bfcecd",
   "outputs": [],
   "execution_count": null
  },
  {
   "metadata": {},
   "cell_type": "markdown",
   "source": "En tupel er ordnet, ligesom en liste, så du kan få dens værdier ved at referere til en indeksværdi:",
   "id": "8af92c99bff9cbe1"
  },
  {
   "metadata": {},
   "cell_type": "code",
   "source": [
    "print(f\"{names[0] = }\")\n",
    "print(f\"{names[1] = }\")"
   ],
   "id": "1da60b3bf25fcb2a",
   "outputs": [],
   "execution_count": null
  },
  {
   "metadata": {},
   "cell_type": "markdown",
   "source": "Som med lister kan du også bruge `index()`-funktionen til tupler.",
   "id": "79d4ed1878628e7a"
  },
  {
   "metadata": {},
   "cell_type": "code",
   "source": [
    "print(f\"{names.index('Hans') = }\")\n",
    "print(f\"{names.index('Gitte') = }\")"
   ],
   "id": "d41bcab9c12146cf",
   "outputs": [],
   "execution_count": null
  },
  {
   "metadata": {},
   "cell_type": "markdown",
   "source": "Som med strings og lister vil brug af et negativt indeks starte søgningen fra slutningen:",
   "id": "2854c389b2cca49d"
  },
  {
   "metadata": {},
   "cell_type": "code",
   "source": "print(f\"{names[-1] = }\")",
   "id": "206c35c1194a40f3",
   "outputs": [],
   "execution_count": null
  },
  {
   "metadata": {},
   "cell_type": "markdown",
   "source": "Du kan også tælle elementerne i en tupel med `len()`-funktionen, ligesom med lister.:",
   "id": "48708336ff48a051"
  },
  {
   "metadata": {},
   "cell_type": "code",
   "source": "print(f\"{len(names) = }\")",
   "id": "43501ddcc8322165",
   "outputs": [],
   "execution_count": null
  },
  {
   "metadata": {},
   "cell_type": "markdown",
   "source": "Som med lister kan du tjekke, om et element er indeholdt i en tupel med `in`-operatoren:",
   "id": "388e661aee6cb19"
  },
  {
   "metadata": {},
   "cell_type": "code",
   "source": "print(f\"{\"Hans\" in names = }\")",
   "id": "53a23c30d9fe2a40",
   "outputs": [],
   "execution_count": null
  },
  {
   "metadata": {},
   "cell_type": "markdown",
   "source": "Du kan også udtrække en del af en tupel ved hjælp af slices:",
   "id": "cade6b37f9b2f8da"
  },
  {
   "metadata": {},
   "cell_type": "code",
   "source": [
    "print(f\"{names[0:2] = }\")\n",
    "print(f\"{names[1:] = }\")"
   ],
   "id": "fb87b395b6795041",
   "outputs": [],
   "execution_count": null
  },
  {
   "metadata": {},
   "cell_type": "markdown",
   "source": "Du kan oprette en sorteret version af en tupel ved hjælp af den globale funktion `sorted()`:",
   "id": "71f93193ea1e2def"
  },
  {
   "metadata": {},
   "cell_type": "code",
   "source": [
    "# sorted(names)\n",
    "print(f\"{sorted(names) = }\")"
   ],
   "id": "4d5d3f893afeba3f",
   "outputs": [],
   "execution_count": null
  },
  {
   "metadata": {},
   "cell_type": "markdown",
   "source": "Du kan oprette en ny tupel fra eksisterende tupler ved hjælp af `+`-operatoren:",
   "id": "7adcbb5c3e5b4c8a"
  },
  {
   "metadata": {},
   "cell_type": "code",
   "source": [
    "newTuple = names + (\"Susi\", \"Tony\")\n",
    "print(f\"{newTuple = }\")"
   ],
   "id": "1f624081d65b353a",
   "outputs": [],
   "execution_count": null
  },
  {
   "metadata": {
    "tags": []
   },
   "cell_type": "markdown",
   "source": "### Øvelser",
   "id": "9bc9b785-935e-4f9b-8c77-dd1dbc548569"
  },
  {
   "cell_type": "code",
   "id": "59d8767e-8334-498c-9100-3b3bf411e3c3",
   "metadata": {},
   "source": [
    "number_tuple = (18, 22, 7)\n",
    "print(f\"{number_tuple = }\")"
   ],
   "outputs": [],
   "execution_count": null
  },
  {
   "cell_type": "markdown",
   "id": "84552a3f-be7b-4f1f-bf44-b3009c0aaf3d",
   "metadata": {},
   "source": [
    "Udfør de næste celler en af gangen. Før du udfører en celle, regn resultatet ud på forhånd. Når du får et uventet resultat, find ud af hvorfor.\n",
    "Leg gerne med cellerne. Forandre dem og udfør dem igen. Du kan også tilføje nye celler."
   ]
  },
  {
   "cell_type": "code",
   "id": "a45e6960-0a80-4922-8ede-b9780c03b218",
   "metadata": {},
   "source": "print(f\"{type(number_tuple) = }\")",
   "outputs": [],
   "execution_count": null
  },
  {
   "cell_type": "code",
   "id": "b7e6d71a-efdf-41d6-922c-6852a47d1736",
   "metadata": {},
   "source": "print(f\"{len(number_tuple) = }\")",
   "outputs": [],
   "execution_count": null
  },
  {
   "metadata": {},
   "cell_type": "code",
   "source": "print(f\"{22 in number_tuple = }\")",
   "id": "e06e15aa-c625-4e4d-a71e-a067aaafa0a0",
   "outputs": [],
   "execution_count": null
  },
  {
   "metadata": {},
   "cell_type": "code",
   "source": [
    "x1 = number_tuple[0]\n",
    "print(f\"{x1 = }\")"
   ],
   "id": "cf558e3c-8176-4f91-946a-0d4e537ab4c7",
   "outputs": [],
   "execution_count": null
  },
  {
   "metadata": {},
   "cell_type": "code",
   "source": "print(f\"{type(x1) = }\")",
   "id": "14d374c0-b114-43c1-bd2d-3ed72b4a2177",
   "outputs": [],
   "execution_count": null
  },
  {
   "cell_type": "code",
   "id": "cb78ada4-31e2-4cac-9ba2-26ccd90ff04a",
   "metadata": {},
   "source": [
    "x2 = number_tuple[0:1]\n",
    "print(f\"{x2 = }\")"
   ],
   "outputs": [],
   "execution_count": null
  },
  {
   "cell_type": "code",
   "id": "204d4141-5db4-43c1-a452-ddfa4244866d",
   "metadata": {},
   "source": "print(f\"{type(x2) = }\")",
   "outputs": [],
   "execution_count": null
  },
  {
   "cell_type": "code",
   "id": "a6755cf7-422b-45cd-888f-ac83eda76f27",
   "metadata": {},
   "source": [
    "new_tuple = number_tuple + number_tuple\n",
    "print(f\"{new_tuple = }\")"
   ],
   "outputs": [],
   "execution_count": null
  },
  {
   "metadata": {},
   "cell_type": "markdown",
   "source": [
    "Forstod/løste du alle opgaver på denne side?\n",
    "Ellers spørg [W3schools](https://www.w3schools.com/python/), [Google](https://www.google.com),\n",
    "[Perplexity](https://perplexity.ai), andre elever eller læreren.\n",
    "\n",
    "Arbejd videre med den næste Jupyter Notebook."
   ],
   "id": "6a9b2c8876cc9c86"
  }
 ],
 "metadata": {
  "kernelspec": {
   "display_name": "Python 3 (ipykernel)",
   "language": "python",
   "name": "python3"
  },
  "language_info": {
   "codemirror_mode": {
    "name": "ipython",
    "version": 3
   },
   "file_extension": ".py",
   "mimetype": "text/x-python",
   "name": "python",
   "nbconvert_exporter": "python",
   "pygments_lexer": "ipython3",
   "version": "3.10.7"
  }
 },
 "nbformat": 4,
 "nbformat_minor": 5
}
