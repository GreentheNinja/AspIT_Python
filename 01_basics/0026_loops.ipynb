{
 "cells": [
  {
   "cell_type": "markdown",
   "id": "03fbec3e-7c5b-4e64-8a0b-5128293d4932",
   "metadata": {},
   "source": "## Løkker (loops)"
  },
  {
   "metadata": {},
   "cell_type": "markdown",
   "source": [
    "Løkker er en essentiel del af programmering.\n",
    "\n",
    "I Python har vi 2 slags løkker: while-løkker og for-løkker.\n",
    "\n",
    "### while-løkker\n",
    "\n",
    "while-løkker defineres ved hjælp af nøgleordet `while`, og de gentager deres blok, indtil betingelsen evalueres som `False`:"
   ],
   "id": "6b3e017dc2767246"
  },
  {
   "metadata": {},
   "cell_type": "code",
   "source": [
    "loop_condition = True\n",
    "while loop_condition:\n",
    "    print(\"The condition is True\")"
   ],
   "id": "fa5ac56174609085",
   "outputs": [],
   "execution_count": null
  },
  {
   "metadata": {},
   "cell_type": "markdown",
   "source": [
    "Dette er en uendelig løkke. Den slutter aldrig.\n",
    "\n",
    "Lad os stoppe løkken lige efter den første gennemgang (iteration):"
   ],
   "id": "1e4abe14f127347a"
  },
  {
   "metadata": {},
   "cell_type": "code",
   "source": [
    "loop_condition = True\n",
    "while loop_condition:\n",
    "    print(\"The condition is True\")\n",
    "    loop_condition = False\n",
    "\n",
    "print(\"After the loop\")"
   ],
   "id": "455dc806374983c3",
   "outputs": [],
   "execution_count": null
  },
  {
   "metadata": {},
   "cell_type": "markdown",
   "source": [
    "I dette tilfælde køres den første iteration, da betingelsestesten evalueres til `True`. Ved anden iteration evalueres betingelsestesten til `False`, så kontrollen går til den næste instruktion efter løkken.\n",
    "\n",
    "Det er almindeligt at have en tæller for at stoppe iterationen efter et vist antal iterationer:"
   ],
   "id": "412149084366fa07"
  },
  {
   "metadata": {
    "ExecuteTime": {
     "end_time": "2025-04-03T13:26:22.798187Z",
     "start_time": "2025-04-03T13:26:22.795001Z"
    }
   },
   "cell_type": "code",
   "source": [
    "count = 0\n",
    "while count < 4:\n",
    "    print(\"The condition is True\")\n",
    "    count = count + 1\n",
    "\n",
    "print(\"After the loop\")"
   ],
   "id": "1156d639658c9b9",
   "outputs": [
    {
     "name": "stdout",
     "output_type": "stream",
     "text": [
      "The condition is True\n",
      "The condition is True\n",
      "The condition is True\n",
      "The condition is True\n",
      "After the loop\n"
     ]
    }
   ],
   "execution_count": 2
  },
  {
   "metadata": {},
   "cell_type": "markdown",
   "source": [
    "### for-løkker\n",
    "\n",
    "Ved hjælp af for-løkker kan vi fortælle Python at udføre en blok et forudbestemt antal gange, på forhånd, og uden behov for en separat variabel og betingelse for at kontrollere dens værdi.\n",
    "\n",
    "For eksempel kan vi iterere over elementerne i en liste:"
   ],
   "id": "f75d220bc0531ee4"
  },
  {
   "metadata": {
    "ExecuteTime": {
     "end_time": "2025-04-03T13:27:10.107161Z",
     "start_time": "2025-04-03T13:27:10.102224Z"
    }
   },
   "cell_type": "code",
   "source": [
    "items = [8, 2, 6, 14]\n",
    "for item in items:\n",
    "    print(item)"
   ],
   "id": "d883039954d1e1ee",
   "outputs": [
    {
     "name": "stdout",
     "output_type": "stream",
     "text": [
      "8\n",
      "2\n",
      "6\n",
      "14\n"
     ]
    }
   ],
   "execution_count": 3
  },
  {
   "metadata": {},
   "cell_type": "markdown",
   "source": [
    "Eller du kan iterere et specifikt antal gange ved hjælp af `range()`-funktionen.\n",
    "\n",
    "`range(4)` opretter fx en sekvens, der starter fra 0 og indeholder 4 elementer:"
   ],
   "id": "8b9b3bd9dde432ed"
  },
  {
   "metadata": {
    "ExecuteTime": {
     "end_time": "2025-04-03T13:59:16.541890Z",
     "start_time": "2025-04-03T13:59:16.537577Z"
    }
   },
   "cell_type": "code",
   "source": [
    "for item in range(4):\n",
    "    print(item)"
   ],
   "id": "9b18805c48dd4a96",
   "outputs": [
    {
     "name": "stdout",
     "output_type": "stream",
     "text": [
      "0\n",
      "1\n",
      "2\n",
      "3\n"
     ]
    }
   ],
   "execution_count": 12
  },
  {
   "metadata": {},
   "cell_type": "markdown",
   "source": "Du kan kalde range() også med 2 eller 3 parametre. 2 parametre interpreteres som start- og stop-værdi:",
   "id": "5e01ae378f357d54"
  },
  {
   "metadata": {},
   "cell_type": "code",
   "outputs": [],
   "execution_count": null,
   "source": [
    "for item in range(4, 8):\n",
    "    print(item)"
   ],
   "id": "e2ede6800790219e"
  },
  {
   "metadata": {},
   "cell_type": "markdown",
   "source": "3 parametre interpreteres som start, stop og trinstørrelse:",
   "id": "2dc8deeefcf0c7a"
  },
  {
   "metadata": {
    "ExecuteTime": {
     "end_time": "2025-04-03T14:01:50.865872Z",
     "start_time": "2025-04-03T14:01:50.862051Z"
    }
   },
   "cell_type": "code",
   "source": [
    "for item in range(3, 18, 4):\n",
    "    print(item)"
   ],
   "id": "3a2b0c6af526041e",
   "outputs": [
    {
     "name": "stdout",
     "output_type": "stream",
     "text": [
      "3\n",
      "7\n",
      "11\n",
      "15\n"
     ]
    }
   ],
   "execution_count": 13
  },
  {
   "metadata": {},
   "cell_type": "markdown",
   "source": "Hvis du vil vide, hvilken iteration du befinder dig i, skal du pakke sekvensen ind i `enumerate()`-funktionen:",
   "id": "9547d4dc4b942cef"
  },
  {
   "metadata": {
    "ExecuteTime": {
     "end_time": "2025-04-03T14:06:03.305133Z",
     "start_time": "2025-04-03T14:06:03.302304Z"
    }
   },
   "cell_type": "code",
   "source": [
    "items = [8, \"Hej\", 6.2, 14]\n",
    "for iteration_counter, item in enumerate(items):\n",
    "    print(f\"{iteration_counter = } og {item = }\")"
   ],
   "id": "12dd65ca66ad7404",
   "outputs": [
    {
     "name": "stdout",
     "output_type": "stream",
     "text": [
      "iteration_counter = 0 og item = 8\n",
      "iteration_counter = 1 og item = 'Hej'\n",
      "iteration_counter = 2 og item = 6.2\n",
      "iteration_counter = 3 og item = 14\n"
     ]
    }
   ],
   "execution_count": 15
  },
  {
   "metadata": {},
   "cell_type": "markdown",
   "source": [
    "### Break og continue i Python\n",
    "\n",
    "Både while- og for-løkker kan afbrydes inde i blokken ved hjælp af to specielle nøgleord: `break` og `continue`.\n",
    "\n",
    "`continue` stopper den aktuelle iteration og fortæller Python at udføre den næste:"
   ],
   "id": "2f1097b13db1852c"
  },
  {
   "metadata": {
    "ExecuteTime": {
     "end_time": "2025-04-03T13:31:52.622611Z",
     "start_time": "2025-04-03T13:31:52.619588Z"
    }
   },
   "cell_type": "code",
   "source": [
    "items = [1, 2, 3, 4]\n",
    "for item in items:\n",
    "    if item == 2:\n",
    "        continue\n",
    "    print(item)\n",
    "print(\"after the loop\")"
   ],
   "id": "b0e5480b708b7b50",
   "outputs": [
    {
     "name": "stdout",
     "output_type": "stream",
     "text": [
      "1\n",
      "3\n",
      "4\n",
      "after the loop\n"
     ]
    }
   ],
   "execution_count": 10
  },
  {
   "metadata": {},
   "cell_type": "markdown",
   "source": "`break` stopper løkken helt og fortsætter med den næste instruktion efter løkken slutter.",
   "id": "39b2b407bd712080"
  },
  {
   "metadata": {
    "ExecuteTime": {
     "end_time": "2025-04-03T13:31:56.498304Z",
     "start_time": "2025-04-03T13:31:56.493090Z"
    }
   },
   "cell_type": "code",
   "source": [
    "items = [1, 2, 3, 4]\n",
    "for item in items:\n",
    "    if item == 2:\n",
    "        break\n",
    "    print(item)\n",
    "print(\"after the loop\")\n"
   ],
   "id": "ca5fddf21ea9fc41",
   "outputs": [
    {
     "name": "stdout",
     "output_type": "stream",
     "text": [
      "1\n",
      "after the loop\n"
     ]
    }
   ],
   "execution_count": 11
  },
  {
   "metadata": {},
   "cell_type": "markdown",
   "source": "### Øvelser",
   "id": "949bd4d6b5e5121e"
  },
  {
   "cell_type": "markdown",
   "id": "629ac9fe-01d2-496c-a47b-739f1cbdc68b",
   "metadata": {},
   "source": [
    "Kig på programmet i den næste celle. Hvad tror du, gør den? Udfør koden. Forandre koden og prøv igen. Leg med den."
   ]
  },
  {
   "cell_type": "code",
   "id": "4f5ad39f-e586-4d44-a978-e1c85d970fec",
   "metadata": {},
   "source": [
    "big_enough = False\n",
    "while not big_enough:\n",
    "    number = int(input(\"type a number\"))\n",
    "    big_enough = number > 12"
   ],
   "outputs": [],
   "execution_count": null
  },
  {
   "cell_type": "markdown",
   "id": "222781a3-d004-4591-86b7-46d0e0dedb3d",
   "metadata": {},
   "source": " Forandre koden i den næste celle sådan at bare tal mindre end 10 udskrives."
  },
  {
   "cell_type": "code",
   "id": "4ee02809-687f-4b2e-80d4-609ceea0f4f8",
   "metadata": {},
   "source": [
    "numberlist = [7, 33, 2, 11, 8]\n",
    "for number in numberlist:\n",
    "    print(number)"
   ],
   "outputs": [],
   "execution_count": null
  },
  {
   "cell_type": "markdown",
   "id": "01086222-5237-4730-8c5c-b8328cf62430",
   "metadata": {},
   "source": [
    " Forandre koden i den næste celle sådan at tallene 14, 18, 22, 26, 30 udskrives."
   ]
  },
  {
   "cell_type": "code",
   "id": "884dd003-311c-4231-8214-d379e9b2d7d6",
   "metadata": {
    "ExecuteTime": {
     "end_time": "2025-04-01T19:00:42.535810Z",
     "start_time": "2025-04-01T19:00:42.532607Z"
    }
   },
   "source": [
    "start = 10\n",
    "stop = 25\n",
    "step_size = 3\n",
    "numberrange = range(start, stop, step_size)\n",
    "for number in numberrange:\n",
    "    print(number)"
   ],
   "outputs": [
    {
     "name": "stdout",
     "output_type": "stream",
     "text": [
      "10\n",
      "13\n",
      "16\n",
      "19\n",
      "22\n"
     ]
    }
   ],
   "execution_count": 3
  },
  {
   "cell_type": "markdown",
   "id": "463401fa-774c-4ec2-9815-d61ebefb6d3d",
   "metadata": {},
   "source": [
    " Forandre koden i den næste celle sådan at ved siden af hvert tal udskrives også dens kvadrattal."
   ]
  },
  {
   "cell_type": "code",
   "id": "13d99879-767f-4f17-8f20-9c5cf2fa4192",
   "metadata": {},
   "source": [
    "numberrange = range(5)\n",
    "for number in numberrange:\n",
    "    print(number)"
   ],
   "outputs": [],
   "execution_count": null
  },
  {
   "metadata": {},
   "cell_type": "markdown",
   "source": [
    "Forstod/løste du alle opgaver på denne side?\n",
    "Ellers spørg [W3schools](https://www.w3schools.com/python/), [Google](https://www.google.com),\n",
    "[Perplexity](https://perplexity.ai), andre elever eller læreren.\n",
    "\n",
    "Gå tilbage til startsiden og download installationsvejledningen til python og pycharm."
   ],
   "id": "eb62ec9d7a06c537"
  }
 ],
 "metadata": {
  "kernelspec": {
   "display_name": "Python 3 (ipykernel)",
   "language": "python",
   "name": "python3"
  },
  "language_info": {
   "codemirror_mode": {
    "name": "ipython",
    "version": 3
   },
   "file_extension": ".py",
   "mimetype": "text/x-python",
   "name": "python",
   "nbconvert_exporter": "python",
   "pygments_lexer": "ipython3",
   "version": "3.10.7"
  }
 },
 "nbformat": 4,
 "nbformat_minor": 5
}
