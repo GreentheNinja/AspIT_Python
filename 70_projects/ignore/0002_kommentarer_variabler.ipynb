{
 "cells": [
  {
   "cell_type": "markdown",
   "id": "98ec751f1d382e4f",
   "metadata": {},
   "source": "## Din første kode, kommentarer, variabler"
  },
  {
   "metadata": {},
   "cell_type": "markdown",
   "source": "#### Dit første python programm",
   "id": "c40d1a45-f8cb-4265-ab24-1298ee9a13e6"
  },
  {
   "cell_type": "markdown",
   "id": "c0400477-8237-44fc-a6e4-711b35ac9729",
   "metadata": {},
   "source": "Klik på den næste celle og tryk så ___Shift+Enter___ eller klik på play-knappen for at udføre koden i cellen."
  },
  {
   "cell_type": "code",
   "id": "2e9843e0-cdc6-4a10-a1cc-81a07f91ea0c",
   "metadata": {},
   "source": "print(\"hello world\")",
   "outputs": [],
   "execution_count": null
  },
  {
   "cell_type": "markdown",
   "id": "a7829e39-3751-493e-be90-cd58019aefa8",
   "metadata": {},
   "source": [
    "Tillykke, du har udført  dit første python script :)  \n",
    "Klik på den næste celle og ændr teksten mellem \"\". \n",
    "Udfør derefter koden i cellen."
   ]
  },
  {
   "cell_type": "code",
   "id": "80f685f3-f53d-4344-a33b-23f518704b90",
   "metadata": {},
   "source": [
    "print(\"ændr det her\")"
   ],
   "outputs": [],
   "execution_count": null
  },
  {
   "metadata": {},
   "cell_type": "markdown",
   "source": "#### Kommentarer",
   "id": "d8ed7f2392a8e8d5"
  },
  {
   "cell_type": "markdown",
   "source": [
    "Du kan tilføje kommentarer til din programkode.\n",
    "Det hjælper dig og andre med at forstå koden. \n",
    "I Python er kommentarer markeret med tegnet #. \n",
    "I dette undervisningsmateriale er forklaringerne typisk på dansk mens kommentarer er mest på engelsk.\n",
    "Det er en god idé at du også bruger engelsk i dine kommentarer, så alle kan forstå dine noter.\n",
    "\n",
    "\n",
    "Udfør den næste celle."
   ],
   "metadata": {
    "collapsed": false
   },
   "id": "7fb4c0f9860e6341"
  },
  {
   "cell_type": "code",
   "source": [
    "# Dette er en kommentar\n",
    "print(\"Only this code line does something\")  # Dette er også en kommentar"
   ],
   "metadata": {
    "collapsed": false
   },
   "id": "65310e14c764740b",
   "outputs": [],
   "execution_count": null
  },
  {
   "metadata": {},
   "cell_type": "markdown",
   "source": "#### Variabler",
   "id": "7a7b9e60912808c3"
  },
  {
   "metadata": {},
   "cell_type": "markdown",
   "source": [
    "Vi kan oprette en ny Python-variabel ved at tildele en værdi til et mærke ved hjælp af tildelingsoperatoren __=__.\n",
    "\n",
    "I dette eksempel tildeler vi en streng med værdien \"Roger\" til mærket name:\n",
    "```python\n",
    "name = \"Roger\"\n",
    "```\n",
    "\n",
    "Her er et eksempel med et tal:\n",
    "```python\n",
    "age = 8\n",
    "```\n",
    "Et variabelnavn kan bestå af bogstaver, tal og _ understregningstegnet. Det kan ikke starte med et tal.\n",
    "Disse er alle gyldige variabelnavne:\n",
    "```python\n",
    "name1\n",
    "AGE\n",
    "aGE\n",
    "a11111\n",
    "my_name\n",
    "_name\n",
    "```\n",
    "\n",
    "Disse er ugyldige variabelnavne:\n",
    "```python\n",
    "123\n",
    "1test\n",
    "test!\n",
    "name%\n",
    "```\n",
    "\n",
    "Udfør den næste celle. Der opstår en fejl. Hvorfor?\n",
    "Læs alle kommentarer i cellen.\n",
    "Rediger det problematiske variabelnavn for at undgå fejlen.\n",
    "Udfør cellen igen indtil den printer ___Success!___.\n"
   ],
   "id": "4f9e010af5107682"
  },
  {
   "cell_type": "code",
   "id": "84ae8800-9473-4306-b2f6-6cda44fe5df5",
   "metadata": {},
   "source": [
    "u7 = 6.87  # Cifre er ok. Men ikke som variablenavnens første symbol.\n",
    "øøø = \"test\"  # Tilladt. Men bruge helst bare de 26 engelske standard bogstaver.\n",
    "4forbudt = 3  # Forbudt.\n",
    "Dont_do_this = 2  # Brug ikke store bogstaver i variablenavne\n",
    "AbsolutelyDontDoThis = 5  # Brug heller ikke CamelCase i variablenavne\n",
    "# Det er en konvention (god programmeringsskik) i Python, ikke at benytte store bogstaver i variablenavne.\n",
    "print(\"Success!\")"
   ],
   "outputs": [],
   "execution_count": null
  },
  {
   "cell_type": "markdown",
   "id": "988ed172-ebab-4816-b6e0-9bc8e14b191a",
   "metadata": {},
   "source": [
    "Udfør den næste celle. \n",
    "Også her opstår en fejl. Hvorfor? \n",
    "Ændr det problematiske variabelnavn for at undgå fejlen.\n",
    "Udfør cellen igen indtil den printer ___Hurra!___."
   ]
  },
  {
   "cell_type": "code",
   "id": "e2f32b34-1415-4835-b832-023f36bfcd38",
   "metadata": {},
   "source": [
    "test_text = 'hello' # Benyt _ (Underscore) for at adskille ord i et variablenavn.\n",
    "class = 17\n",
    "xyz = 6.23\n",
    "print(\"Hurra!\")"
   ],
   "outputs": [],
   "execution_count": null
  },
  {
   "cell_type": "markdown",
   "id": "c9e42d16-9a04-4e2d-a8f2-5881b48927a6",
   "metadata": {},
   "source": [
    "Forstod/løste du alle opgaver på denne side?\n",
    "Ellers spørg [W3schools](https://www.w3schools.com/python/), [Google](https://www.google.com),\n",
    "[Perplexity](https://perplexity.ai), andre elever eller læreren."
   ]
  },
  {
   "metadata": {},
   "cell_type": "markdown",
   "source": "__Når du forstår (næsten) alt på denne side, send denne tekst som Teams-besked til læreren:  _0002 færdig_.__",
   "id": "5c041c38e0aa9cbe"
  },
  {
   "cell_type": "markdown",
   "id": "68400f4f-2b00-40fd-b186-6719bf2c3cb1",
   "metadata": {},
   "source": [
    "Arbejd videre med den næste Jupyter Notebook."
   ]
  },
  {
   "metadata": {},
   "cell_type": "markdown",
   "source": "",
   "id": "cec84e2768e8deff"
  }
 ],
 "metadata": {
  "kernelspec": {
   "display_name": "Python 3 (ipykernel)",
   "language": "python",
   "name": "python3"
  },
  "language_info": {
   "codemirror_mode": {
    "name": "ipython",
    "version": 3
   },
   "file_extension": ".py",
   "mimetype": "text/x-python",
   "name": "python",
   "nbconvert_exporter": "python",
   "pygments_lexer": "ipython3",
   "version": "3.11.3"
  },
  "toc-autonumbering": false,
  "toc-showcode": false,
  "toc-showmarkdowntxt": false,
  "toc-showtags": false
 },
 "nbformat": 4,
 "nbformat_minor": 5
}
