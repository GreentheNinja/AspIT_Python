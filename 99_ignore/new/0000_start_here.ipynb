{
 "cells": [
  {
   "cell_type": "markdown",
   "source": [
    "# Introduktion til Python hos AspIT"
   ],
   "metadata": {
    "collapsed": false
   },
   "id": "6fcab83b935b7045"
  },
  {
   "cell_type": "markdown",
   "source": [
    "Klik på linkene for at arbejde med de første programmeringsopgaver:\n",
    "\n",
    "1. [Kommentarer](https://colab.research.google.com/github/lichtgestalter/AspIT_Python/blob/master/99_ignore/new/0002_comments.ipynb)\n",
    "2. [Variabler](https://colab.research.google.com/github/lichtgestalter/AspIT_Python/blob/master/99_ignore/new/0004_variables.ipynb)\n",
    "3. [Datatyper](https://colab.research.google.com/github/lichtgestalter/AspIT_Python/blob/master/99_ignore/new/0006_datatypes.ipynb)\n",
    "4. [Operatorer](https://colab.research.google.com/github/lichtgestalter/AspIT_Python/blob/master/99_ignore/new/0008_operators.ipynb)\n",
    "5. [Operatorer](https://colab.research.google.com/github/lichtgestalter/AspIT_Python/blob/master/99_ignore/new/0010_stringsoperations.ipynb)\n",
    "6. [Operatorer](https://colab.research.google.com/github/lichtgestalter/AspIT_Python/blob/master/99_ignore/new/0012_userinput.ipynb)\n",
    "7. [Operatorer](https://colab.research.google.com/github/lichtgestalter/AspIT_Python/blob/master/99_ignore/new/0014_f-strings.ipynb)\n",
    "8. [Operatorer](https://colab.research.google.com/github/lichtgestalter/AspIT_Python/blob/master/99_ignore/new/0016_if_else.ipynb)\n"
   ],
   "metadata": {},
   "id": "eebcfbe1295ee5ba"
  },
  {
   "metadata": {
    "collapsed": false
   },
   "cell_type": "markdown",
   "source": [
    "---\n",
    "\n",
    "Når du er færdig med samtlige opgaver, download og åbn denne\n",
    "[installationsvejledning](https://github.com/lichtgestalter/AspIT_Python/raw/refs/heads/master/00_installation/S0001_Opret_Python%20-%20PycharmPro.docx)\n",
    "og brug den til at installere Python og Pycharm.\n",
    "\n",
    "Derefter skift til Pycharm for at arbejde med de videregående opgaver.\n",
    "\n",
    "Den første opgave indenfor pycharm er \\01_basics\\S0100_test.py\n"
   ],
   "id": "abfd31113f101b5f"
  }
 ],
 "metadata": {
  "kernelspec": {
   "display_name": "Python 3 (ipykernel)",
   "language": "python",
   "name": "python3"
  },
  "language_info": {
   "codemirror_mode": {
    "name": "ipython",
    "version": 3
   },
   "file_extension": ".py",
   "mimetype": "text/x-python",
   "name": "python",
   "nbconvert_exporter": "python",
   "pygments_lexer": "ipython3",
   "version": "3.10.7"
  }
 },
 "nbformat": 4,
 "nbformat_minor": 5
}
