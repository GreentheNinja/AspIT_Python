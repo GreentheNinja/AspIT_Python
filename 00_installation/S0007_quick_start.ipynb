{
 "cells": [
  {
   "cell_type": "markdown",
   "source": [
    "# Introduktion til Python hos AspIT"
   ],
   "metadata": {
    "collapsed": false
   },
   "id": "6fcab83b935b7045"
  },
  {
   "cell_type": "markdown",
   "source": [
    "Klik på linkene for at arbejde med de første programmeringsopgaver:\n",
    "\n",
    "[Python Basics, del 1](https://colab.research.google.com/github/lichtgestalter/AspIT_Python/blob/master/01_basics/S0010_basics.ipynb)\n",
    "\n",
    "[Python Basics, del 2](https://colab.research.google.com/github/lichtgestalter/AspIT_Python/blob/master/01_basics/S0020_basics.ipynb)\n",
    "\n",
    "[Python Basics, del 3](https://colab.research.google.com/github/lichtgestalter/AspIT_Python/blob/master/01_basics/S0030_basics.ipynb)\n",
    "\n",
    "[Python Basics, del 4](https://colab.research.google.com/github/lichtgestalter/AspIT_Python/blob/master/01_basics/S0040_basics.ipynb)\n",
    "\n"
   ],
   "metadata": {
    "collapsed": false
   },
   "id": "8ca33be035211e35"
  },
  {
   "cell_type": "markdown",
   "source": [
    "Derefter skift til Pycharm for at arbejde med de videregående opgaver.\n",
    "\n",
    "Brug denne [installationsvejledning](https://github.com/lichtgestalter/AspIT_Python/blob/master/00_installation/S0001_Opret_Python%20-%20PycharmPro.docx)\n",
    "til at installere Python og Pycharm.\n",
    "Klik på linket.  På GitHub skal du klikke på \"Download raw file\"-ikonet i højre side (se billedet).\n",
    "\n",
    "![](GithubDownload.png)   \n",
    "\n",
    "Den første opgave indenfor pycharm er \\01_basics\\S0100_test.py\n"
   ],
   "metadata": {
    "collapsed": false
   },
   "id": "abfd31113f101b5f"
  },
  {
   "cell_type": "code",
   "outputs": [],
   "source": [],
   "metadata": {
    "collapsed": false
   },
   "id": "c7a085b77f019a4c",
   "execution_count": null
  }
 ],
 "metadata": {
  "kernelspec": {
   "display_name": "Python 3 (ipykernel)",
   "language": "python",
   "name": "python3"
  },
  "language_info": {
   "codemirror_mode": {
    "name": "ipython",
    "version": 3
   },
   "file_extension": ".py",
   "mimetype": "text/x-python",
   "name": "python",
   "nbconvert_exporter": "python",
   "pygments_lexer": "ipython3",
   "version": "3.10.7"
  }
 },
 "nbformat": 4,
 "nbformat_minor": 5
}
