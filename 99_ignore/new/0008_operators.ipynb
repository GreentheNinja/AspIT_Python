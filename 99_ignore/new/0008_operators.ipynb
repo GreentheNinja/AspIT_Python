{
 "cells": [
  {
   "cell_type": "markdown",
   "id": "98ec751f1d382e4f",
   "metadata": {},
   "source": "## Operatorer"
  },
  {
   "metadata": {},
   "cell_type": "markdown",
   "source": [
    "Python-operatorer er symboler, som vi bruger til at udføre operationer på værdier og variabler.\n",
    "\n",
    "#### Tildelingsoperator (assignment operator)\n",
    "\n",
    "Tildelingsoperatoren bruges til at tildele en værdi til en variabel:"
   ],
   "id": "cc7e6c0d1d872e2b"
  },
  {
   "metadata": {},
   "cell_type": "code",
   "outputs": [],
   "execution_count": null,
   "source": "age = 8",
   "id": "60a86571b68e2eff"
  },
  {
   "metadata": {},
   "cell_type": "markdown",
   "source": "Eller til at tildele en variabels værdi til en anden variabel:",
   "id": "804f8d9101e981e0"
  },
  {
   "metadata": {},
   "cell_type": "code",
   "outputs": [],
   "execution_count": null,
   "source": [
    "age = 8\n",
    "anotherVariable = age"
   ],
   "id": "46b6c859f02db4b8"
  },
  {
   "metadata": {},
   "cell_type": "markdown",
   "source": [
    "Siden Python 3.8 bruges `:=` walrus-operatoren til at tildele en værdi til en variabel som en del af en anden operation. For eksempel inde i et if-udtryk eller i den betingede del af en løkke. Mere om det senere.\n",
    "\n",
    "#### Aritmetiske operatorer (arithmetic operators)\n",
    "\n",
    "Python har en række aritmetiske operatorer: `+`, `-`, `*`, `/` (division), `%` (rest), `**` (eksponentiering) og `//` (heltalsdivision):"
   ],
   "id": "73837c52bd22e11d"
  },
  {
   "metadata": {},
   "cell_type": "code",
   "outputs": [],
   "execution_count": null,
   "source": [
    "1 + 1 #2\n",
    "2 - 1 #1\n",
    "2 * 2 #4\n",
    "4 / 2 #2\n",
    "4 % 3 #1\n",
    "4 ** 2 #16\n",
    "4 // 2 #2"
   ],
   "id": "c2983dbade8792da"
  },
  {
   "metadata": {},
   "cell_type": "markdown",
   "source": [
    "Bemærk, at du ikke behøver et mellemrum mellem operanderne, men det er godt for læsbarheden.\n",
    "\n",
    "`-` fungerer også som en unær minus-operator:"
   ],
   "id": "480c64d9e75821ce"
  },
  {
   "metadata": {},
   "cell_type": "code",
   "outputs": [],
   "execution_count": null,
   "source": "print(-4) #-4",
   "id": "1c8723638ff780d0"
  },
  {
   "metadata": {},
   "cell_type": "markdown",
   "source": "`+` bruges også til at sammenkæde String-værdier:",
   "id": "7f5bda9c610ff2bd"
  },
  {
   "metadata": {},
   "cell_type": "code",
   "outputs": [],
   "execution_count": null,
   "source": [
    "\"Roger\" + \" is a good dog\"\n",
    "#Roger is a good dog"
   ],
   "id": "8683c3625b6280d2"
  },
  {
   "metadata": {},
   "cell_type": "markdown",
   "source": [
    "Vi kan kombinere tildelingsoperatoren med aritmetiske operatorer:\n",
    "\n",
    "- `+=`\n",
    "- `-=`\n",
    "- `*=`\n",
    "- `/=`\n",
    "- `%=`\n",
    "- ...og så videre\n",
    "\n",
    "Eksempel:"
   ],
   "id": "c60cf0238b682016"
  },
  {
   "metadata": {},
   "cell_type": "code",
   "outputs": [],
   "execution_count": null,
   "source": [
    "age = 8\n",
    "age += 1\n",
    "# age er nu 9"
   ],
   "id": "b118c8bdad5f7ab7"
  },
  {
   "metadata": {},
   "cell_type": "markdown",
   "source": [
    "#### Sammenligningsoperatorer (comparison operators)\n",
    "\n",
    "Python definerer nogle få sammenligningsoperatorer:\n",
    "\n",
    "- `==`\n",
    "- `!=`\n",
    "- `>`\n",
    "- `=`\n",
    "- ` b #False\n",
    "a >` shift right operation"
   ],
   "id": "3c46ab570ef96f4c"
  },
  {
   "metadata": {},
   "cell_type": "markdown",
   "source": [
    "#### Medlemskabsoperatoren\n",
    "\n",
    "Medlemskabsoperatoren `in` bruges til at fortælle, om en værdi er indeholdt i en liste eller en anden sekvens. Mere om lister og andre sekvenser senere."
   ],
   "id": "ab5b204f3d3e84a7"
  },
  {
   "metadata": {},
   "cell_type": "markdown",
   "source": [
    "### Øvelser\n",
    "\n",
    "Udfør de næste celler en af gangen. Før du udfører en celle, regn resultatet ud på forhånd. Når du får et uventet resultat, find ud af hvorfor.\n",
    "Leg gerne med cellerne. Forandre dem og udfør dem igen.\n",
    "Du kan også tilføje nye celler."
   ],
   "id": "270a81e6-f134-41cd-9663-527e386d3bd7"
  },
  {
   "metadata": {},
   "cell_type": "markdown",
   "source": "##### Arithmetic operators",
   "id": "a9374133-6f28-460a-a60c-fd0ed7b7a16f"
  },
  {
   "metadata": {},
   "cell_type": "code",
   "outputs": [],
   "execution_count": null,
   "source": [
    "a = 5\n",
    "b = 13\n",
    "print(a * b)  # addition"
   ],
   "id": "a108bf01-fcbd-4c38-b83f-5f024df30905"
  },
  {
   "metadata": {},
   "cell_type": "code",
   "outputs": [],
   "execution_count": null,
   "source": [
    "c = a - b  # subtraction\n",
    "print(c * c)  #  multiplication"
   ],
   "id": "59db67af-d779-40c6-80df-be4d5e900320"
  },
  {
   "metadata": {},
   "cell_type": "code",
   "outputs": [],
   "execution_count": null,
   "source": "print(a % b)  # remainder (sometimes called modulo)",
   "id": "74e745c2-b8f0-47d8-8b8e-527b22938ac6"
  },
  {
   "metadata": {},
   "cell_type": "code",
   "outputs": [],
   "execution_count": null,
   "source": "print(c)",
   "id": "b3430d31-eab1-48ea-8b98-91d154acdfc3"
  },
  {
   "metadata": {},
   "cell_type": "code",
   "outputs": [],
   "execution_count": null,
   "source": "print(c % c)",
   "id": "9d74ec87-b260-4a48-b259-8d46cfebb139"
  },
  {
   "metadata": {},
   "cell_type": "code",
   "outputs": [],
   "execution_count": null,
   "source": "print(a ** c)  # exponentiation",
   "id": "0bf968c0-c507-4712-8006-64433a565dbc"
  },
  {
   "metadata": {},
   "cell_type": "code",
   "outputs": [],
   "execution_count": null,
   "source": [
    "print(a / c)  # division\n",
    "print(type(a / c))"
   ],
   "id": "9feb4ae4-3a5c-4909-b8de-62157a38a748"
  },
  {
   "metadata": {},
   "cell_type": "code",
   "outputs": [],
   "execution_count": null,
   "source": [
    "print(a // c)  # floor division\n",
    "print(type(a // c))"
   ],
   "id": "09730287-1466-4112-b054-a303a7610cc2"
  },
  {
   "metadata": {},
   "cell_type": "code",
   "outputs": [],
   "execution_count": null,
   "source": [
    "d = 17\n",
    "d += 5\n",
    "print(d)\n",
    "d -= 18\n",
    "print(d)"
   ],
   "id": "8a5a5ae4-e8ff-4acc-bf0f-b0e9b116def4"
  },
  {
   "metadata": {},
   "cell_type": "markdown",
   "source": "##### Comparison operators",
   "id": "33562149-3db4-4ce9-8195-49cdcad9bd4d"
  },
  {
   "metadata": {},
   "cell_type": "code",
   "outputs": [],
   "execution_count": null,
   "source": "print(4 > 3)",
   "id": "0adef621-332b-411f-9606-8dcc7bb57c31"
  },
  {
   "metadata": {},
   "cell_type": "code",
   "outputs": [],
   "execution_count": null,
   "source": "print(4 == 3)",
   "id": "9d314ca2-2711-48a7-85a5-b4fad69b3918"
  },
  {
   "metadata": {},
   "cell_type": "code",
   "outputs": [],
   "execution_count": null,
   "source": "print(4 != 3)",
   "id": "405fdc10-aaf1-4b6f-ad0d-b71aa00bc851"
  },
  {
   "metadata": {},
   "cell_type": "code",
   "outputs": [],
   "execution_count": null,
   "source": "print(4 <= 3)",
   "id": "80250681-cd9d-4910-b338-2a8dbc120992"
  },
  {
   "metadata": {},
   "cell_type": "markdown",
   "source": "##### Boolean  operators",
   "id": "c7977f72-6410-4b2a-8474-2bdb8902e7db"
  },
  {
   "metadata": {
    "ExecuteTime": {
     "end_time": "2025-03-27T13:59:59.100727Z",
     "start_time": "2025-03-27T13:59:59.096862Z"
    }
   },
   "cell_type": "code",
   "source": "print(not True)",
   "id": "abfe3d6f-bb54-467e-b818-311941bb1487",
   "outputs": [
    {
     "name": "stdout",
     "output_type": "stream",
     "text": [
      "False\n"
     ]
    }
   ],
   "execution_count": 1
  },
  {
   "metadata": {},
   "cell_type": "code",
   "outputs": [],
   "execution_count": null,
   "source": "print(True or False)",
   "id": "ce4ce199-a24a-4d7e-9de4-b4008bef17c2"
  },
  {
   "metadata": {},
   "cell_type": "code",
   "outputs": [],
   "execution_count": null,
   "source": "print(True and False)",
   "id": "fad7fa92-6f23-4ae1-9a3b-1433eefd5007"
  },
  {
   "metadata": {},
   "cell_type": "code",
   "outputs": [],
   "execution_count": null,
   "source": [
    "bool1 = 5 <= 2\n",
    "bool2 = True\n",
    "print(bool1, bool2)"
   ],
   "id": "41ca3724-e12c-429f-be1b-83015b2ae584"
  },
  {
   "metadata": {},
   "cell_type": "code",
   "outputs": [],
   "execution_count": null,
   "source": "print(bool1 or bool2)",
   "id": "90900c5a-e15c-487a-8f3c-161a686cfff5"
  },
  {
   "metadata": {},
   "cell_type": "markdown",
   "source": "##### The in operator",
   "id": "4586e459-3d95-4c91-b95d-0f8e5b2eb8a7"
  },
  {
   "metadata": {},
   "cell_type": "code",
   "outputs": [],
   "execution_count": null,
   "source": [
    "numbers = [3, 1, 8]\n",
    "print(\"numbers has type\", type(numbers))\n",
    "print(2 in numbers)"
   ],
   "id": "78928854-b594-49bd-9dca-ca3b3ce6bfd2"
  },
  {
   "metadata": {},
   "cell_type": "code",
   "outputs": [],
   "execution_count": null,
   "source": "print(3 in numbers)",
   "id": "f9acade0-98a2-4e31-a6e8-7cba0eb07e04"
  },
  {
   "metadata": {},
   "cell_type": "markdown",
   "source": [
    "Forstod/løste du alle opgaver på denne side?\n",
    "Ellers spørg [W3schools](https://www.w3schools.com/python/), [Google](https://www.google.com),\n",
    "[Perplexity](https://perplexity.ai), andre elever eller læreren.\n",
    "\n",
    "Arbejd videre med den næste Jupyter Notebook."
   ],
   "id": "94c2b297a7991ed3"
  },
  {
   "metadata": {},
   "cell_type": "markdown",
   "source": "##### Læs afsnittet \"Operators in Python\". Linket på websiden virker pt. ikke, men det er det afsnit umiddelbart efter [\"Data Types in Python\"](https://www.freecodecamp.org/news/the-python-handbook/#heading-data-types-in-python)  (klik på linket)",
   "id": "0b6d1a3a-ffa3-4e86-a216-58074a6818e2"
  }
 ],
 "metadata": {
  "kernelspec": {
   "display_name": "Python 3 (ipykernel)",
   "language": "python",
   "name": "python3"
  },
  "language_info": {
   "codemirror_mode": {
    "name": "ipython",
    "version": 3
   },
   "file_extension": ".py",
   "mimetype": "text/x-python",
   "name": "python",
   "nbconvert_exporter": "python",
   "pygments_lexer": "ipython3",
   "version": "3.11.3"
  },
  "toc-autonumbering": false,
  "toc-showcode": false,
  "toc-showmarkdowntxt": false,
  "toc-showtags": false
 },
 "nbformat": 4,
 "nbformat_minor": 5
}
