{
 "cells": [
  {
   "cell_type": "markdown",
   "id": "c40d1a45-f8cb-4265-ab24-1298ee9a13e6",
   "metadata": {},
   "source": [
    "### Variables, Assignments, Operators"
   ]
  },
  {
   "cell_type": "markdown",
   "id": "c0400477-8237-44fc-a6e4-711b35ac9729",
   "metadata": {},
   "source": [
    "Klik på den næste celle og tryk så Shift+Enter for at udføre koden i cellen."
   ]
  },
  {
   "cell_type": "code",
   "id": "2e9843e0-cdc6-4a10-a1cc-81a07f91ea0c",
   "metadata": {},
   "source": "print(\"hello world\")",
   "outputs": [],
   "execution_count": null
  },
  {
   "cell_type": "markdown",
   "id": "a7829e39-3751-493e-be90-cd58019aefa8",
   "metadata": {},
   "source": [
    "Tillykke, du har udført  dit første python script :)  \n",
    "Klik på den næste celle og ændr teksten mellem \"\". \n",
    "Udfør derefter koden i cellen."
   ]
  },
  {
   "cell_type": "code",
   "id": "80f685f3-f53d-4344-a33b-23f518704b90",
   "metadata": {},
   "source": [
    "print(\"ændr det her\")"
   ],
   "outputs": [],
   "execution_count": null
  },
  {
   "cell_type": "markdown",
   "source": [
    "Du kan tilføje kommentarer til din programkode. \n",
    "Det hjælper dig og andre med at forstå koden. \n",
    "I Python er kommentarer markeret med tegnet #. \n",
    "I dette opgaveark vil du se kommentarer både på engelsk og på dansk. \n",
    "Det bedste er dog udelukkende at bruge engelsk i dine kommentarer, \n",
    "så alle, på tværs af lande, kan forstå dine noter.\n",
    "Udfør den næste celle."
   ],
   "metadata": {
    "collapsed": false
   },
   "id": "7fb4c0f9860e6341"
  },
  {
   "cell_type": "code",
   "source": [
    "# Dette er en kommentar\n",
    "print(\"Only this code line does something\")  # Dette er også en kommentar"
   ],
   "metadata": {
    "collapsed": false
   },
   "id": "65310e14c764740b",
   "outputs": [],
   "execution_count": null
  },
  {
   "cell_type": "markdown",
   "id": "3a749d02-a80a-4de0-9516-521e64b71907",
   "metadata": {},
   "source": [
    "##### [Læs afsnittet \"Python Basics\"](https://www.freecodecamp.org/news/the-python-handbook/#heading-python-basics) (klik på linket)\n",
    "(Læs bare til overskriften “Data Types in Python”. Der begynder den næste afsnit.)"
   ]
  },
  {
   "cell_type": "markdown",
   "id": "9b5b82e2-e896-4362-863a-f13168a60b55",
   "metadata": {},
   "source": [
    "Udfør den næste celle. \n",
    "Der opstår en fejl. Hvorfor? \n",
    "Skift det problematiske variabelnavn for at undgå fejlen. \n",
    "Udfør cellen igen."
   ]
  },
  {
   "cell_type": "code",
   "id": "84ae8800-9473-4306-b2f6-6cda44fe5df5",
   "metadata": {},
   "source": [
    "u7 = 6.87  # Cifre er ok. Men ikke som variablenavnens første symbol.\n",
    "øøø = \"test\"  # Tilladt. Men bruge helst bare de 26 engelske standard bogstaver.\n",
    "4forbudt = 3  # Forbudt.\n",
    "Dont_do_this = 2  # Brug ikke store bogstaver i variablenavne\n",
    "AbsolutelyDontDoThis = 5  # Brug heller ikke CamelCase i variablenavne\n",
    "# Det er en konvention (god programmeringsskik) i Python, ikke at benytte store bogstaver i variablenavne.\n",
    "print(\"Success!\")"
   ],
   "outputs": [],
   "execution_count": null
  },
  {
   "cell_type": "markdown",
   "id": "988ed172-ebab-4816-b6e0-9bc8e14b191a",
   "metadata": {},
   "source": [
    "Udfør den næste celle. \n",
    "Også her opstår en fejl. Hvorfor? \n",
    "Ændr det problematiske variabelnavn for at undgå fejlen.\n",
    "Udfør cellen igen."
   ]
  },
  {
   "cell_type": "code",
   "id": "e2f32b34-1415-4835-b832-023f36bfcd38",
   "metadata": {},
   "source": [
    "test_text = 'hello' # Benyt _ (Underscore) for at adskille ord i et variablenavn.\n",
    "class = 17\n",
    "xyz = 6.23\n",
    "print(\"Hurra!\")"
   ],
   "outputs": [],
   "execution_count": null
  },
  {
   "cell_type": "markdown",
   "id": "ac3e4e7b-113b-4cff-a121-98813c17864f",
   "metadata": {},
   "source": "##### [Læs afsnittet \"Data Types in Python\"](https://www.freecodecamp.org/news/the-python-handbook/#heading-data-types-in-python)  (klik på linket)"
  },
  {
   "cell_type": "markdown",
   "id": "f42bb24f-5c27-485a-a064-a947ab0f7b68",
   "metadata": {},
   "source": [
    "Udfør den næste celle og analysér resultatet. "
   ]
  },
  {
   "cell_type": "code",
   "id": "ebba1b53-0862-479c-bb35-0c95134473ed",
   "metadata": {},
   "source": [
    "print(123, \"has type\", type(123))\n",
    "\n",
    "x = 64.33\n",
    "print(x, \"has type\", type(x))\n",
    "\n",
    "y = \"python\"\n",
    "print(y, \"has type\", type(y))\n",
    "\n",
    "x = int(x)\n",
    "print(x, \"has type\", type(x))"
   ],
   "outputs": [],
   "execution_count": null
  },
  {
   "cell_type": "markdown",
   "id": "0437a79d-f550-46ee-bf2a-72b2be422c1a",
   "metadata": {},
   "source": [
    "Udfør den næste celle. Derefter tilføj kode i den tomme linje sådan at resultatets sidste række bliver \"20 has type <class 'int'>\" når du udfører cellen igen."
   ]
  },
  {
   "cell_type": "code",
   "id": "14a258f2-ff58-4bd4-981d-a6b9e4dd9be7",
   "metadata": {},
   "source": [
    "z = \"20\"\n",
    "print(z, \"has type\", type(z))\n",
    "\n",
    "print(z, \"has type\", type(z))"
   ],
   "outputs": [],
   "execution_count": null
  },
  {
   "cell_type": "markdown",
   "id": "ee1d4ed4-dafb-4fec-a095-6fa71994b041",
   "metadata": {},
   "source": [
    "Udfør den næste celle. Der opstår en fejl. Hvorfor? Forandre den fejlagtige kodelinje sådan at der bliver printet \"20 has type <class 'int'>\". Udfør cellen igen."
   ]
  },
  {
   "cell_type": "code",
   "id": "22524de0-7063-4b53-b9c1-ec6c6be55516",
   "metadata": {},
   "source": [
    "number = \"number 20\"\n",
    "number = int(number)\n",
    "print(number, \"has type\", type(number))\n",
    "print(\"Yay!\")"
   ],
   "outputs": [],
   "execution_count": null
  },
  {
   "cell_type": "markdown",
   "id": "0b6d1a3a-ffa3-4e86-a216-58074a6818e2",
   "metadata": {},
   "source": "##### Læs afsnittet \"Operators in Python\". Linket på websiden virker pt. ikke, men det er det afsnit umiddelbart efter [\"Data Types in Python\"](https://www.freecodecamp.org/news/the-python-handbook/#heading-data-types-in-python)  (klik på linket)"
  },
  {
   "cell_type": "markdown",
   "id": "270a81e6-f134-41cd-9663-527e386d3bd7",
   "metadata": {},
   "source": [
    "Udfør de næste celler en af gangen. Før du udfører en celle, regn resultatet ud på forhånd. Når du får et uventet resultat, find ud af hvorfor.  \n",
    "Leg gerne med cellerne. Forandre dem og udfør dem igen. \n",
    "Du kan også tilføje nye celler."
   ]
  },
  {
   "cell_type": "markdown",
   "id": "a9374133-6f28-460a-a60c-fd0ed7b7a16f",
   "metadata": {},
   "source": [
    "##### Arithmetic operators"
   ]
  },
  {
   "cell_type": "code",
   "id": "a108bf01-fcbd-4c38-b83f-5f024df30905",
   "metadata": {},
   "source": [
    "a = 5\n",
    "b = 13\n",
    "print(a * b)  # addition"
   ],
   "outputs": [],
   "execution_count": null
  },
  {
   "cell_type": "code",
   "id": "59db67af-d779-40c6-80df-be4d5e900320",
   "metadata": {},
   "source": [
    "c = a - b  # subtraction\n",
    "print(c * c)  #  multiplication"
   ],
   "outputs": [],
   "execution_count": null
  },
  {
   "cell_type": "code",
   "id": "74e745c2-b8f0-47d8-8b8e-527b22938ac6",
   "metadata": {},
   "source": [
    "print(a % b)  # remainder (sometimes called modulo)"
   ],
   "outputs": [],
   "execution_count": null
  },
  {
   "cell_type": "code",
   "id": "b3430d31-eab1-48ea-8b98-91d154acdfc3",
   "metadata": {},
   "source": [
    "print(c)"
   ],
   "outputs": [],
   "execution_count": null
  },
  {
   "cell_type": "code",
   "id": "9d74ec87-b260-4a48-b259-8d46cfebb139",
   "metadata": {},
   "source": [
    "print(c % c)"
   ],
   "outputs": [],
   "execution_count": null
  },
  {
   "cell_type": "code",
   "id": "0bf968c0-c507-4712-8006-64433a565dbc",
   "metadata": {},
   "source": [
    "print(a ** c)  # exponentiation"
   ],
   "outputs": [],
   "execution_count": null
  },
  {
   "cell_type": "code",
   "id": "9feb4ae4-3a5c-4909-b8de-62157a38a748",
   "metadata": {},
   "source": [
    "print(a / c)  # division\n",
    "print(type(a / c))"
   ],
   "outputs": [],
   "execution_count": null
  },
  {
   "cell_type": "code",
   "id": "09730287-1466-4112-b054-a303a7610cc2",
   "metadata": {},
   "source": [
    "print(a // c)  # floor division\n",
    "print(type(a // c))"
   ],
   "outputs": [],
   "execution_count": null
  },
  {
   "cell_type": "code",
   "id": "8a5a5ae4-e8ff-4acc-bf0f-b0e9b116def4",
   "metadata": {},
   "source": [
    "d = 17\n",
    "d += 5\n",
    "print(d)\n",
    "d -= 18\n",
    "print(d)"
   ],
   "outputs": [],
   "execution_count": null
  },
  {
   "cell_type": "markdown",
   "id": "33562149-3db4-4ce9-8195-49cdcad9bd4d",
   "metadata": {},
   "source": [
    "##### Comparison operators"
   ]
  },
  {
   "cell_type": "code",
   "id": "0adef621-332b-411f-9606-8dcc7bb57c31",
   "metadata": {},
   "source": [
    "print(4 > 3)"
   ],
   "outputs": [],
   "execution_count": null
  },
  {
   "cell_type": "code",
   "id": "9d314ca2-2711-48a7-85a5-b4fad69b3918",
   "metadata": {},
   "source": [
    "print(4 == 3)"
   ],
   "outputs": [],
   "execution_count": null
  },
  {
   "cell_type": "code",
   "id": "405fdc10-aaf1-4b6f-ad0d-b71aa00bc851",
   "metadata": {},
   "source": [
    "print(4 != 3)"
   ],
   "outputs": [],
   "execution_count": null
  },
  {
   "cell_type": "code",
   "id": "80250681-cd9d-4910-b338-2a8dbc120992",
   "metadata": {},
   "source": [
    "print(4 <= 3)"
   ],
   "outputs": [],
   "execution_count": null
  },
  {
   "cell_type": "markdown",
   "id": "c7977f72-6410-4b2a-8474-2bdb8902e7db",
   "metadata": {},
   "source": [
    "##### Boolean  operators"
   ]
  },
  {
   "cell_type": "code",
   "id": "abfe3d6f-bb54-467e-b818-311941bb1487",
   "metadata": {},
   "source": [
    "print(not True)"
   ],
   "outputs": [],
   "execution_count": null
  },
  {
   "cell_type": "code",
   "id": "ce4ce199-a24a-4d7e-9de4-b4008bef17c2",
   "metadata": {},
   "source": [
    "print(True or False)"
   ],
   "outputs": [],
   "execution_count": null
  },
  {
   "cell_type": "code",
   "id": "fad7fa92-6f23-4ae1-9a3b-1433eefd5007",
   "metadata": {},
   "source": [
    "print(True and False)"
   ],
   "outputs": [],
   "execution_count": null
  },
  {
   "cell_type": "code",
   "id": "41ca3724-e12c-429f-be1b-83015b2ae584",
   "metadata": {},
   "source": [
    "bool1 = 5 <= 2\n",
    "bool2 = True\n",
    "print(bool1, bool2)"
   ],
   "outputs": [],
   "execution_count": null
  },
  {
   "cell_type": "code",
   "id": "90900c5a-e15c-487a-8f3c-161a686cfff5",
   "metadata": {},
   "source": [
    "print(bool1 or bool2)"
   ],
   "outputs": [],
   "execution_count": null
  },
  {
   "cell_type": "markdown",
   "id": "4586e459-3d95-4c91-b95d-0f8e5b2eb8a7",
   "metadata": {},
   "source": [
    "##### The in operator"
   ]
  },
  {
   "cell_type": "code",
   "id": "78928854-b594-49bd-9dca-ca3b3ce6bfd2",
   "metadata": {},
   "source": [
    "numbers = [3, 1, 8]\n",
    "print(\"numbers has type\", type(numbers))\n",
    "print(2 in numbers)"
   ],
   "outputs": [],
   "execution_count": null
  },
  {
   "cell_type": "code",
   "id": "f9acade0-98a2-4e31-a6e8-7cba0eb07e04",
   "metadata": {},
   "source": [
    "print(3 in numbers)"
   ],
   "outputs": [],
   "execution_count": null
  },
  {
   "cell_type": "markdown",
   "id": "c9e42d16-9a04-4e2d-a8f2-5881b48927a6",
   "metadata": {},
   "source": [
    "Forstod/løste du alle opgaver på denne side?   \n",
    "Ellers spørg Google, [W3schools](https://www.w3schools.com/python/), andre elever eller læreren.  \n",
    "__Når du forstår (næsten) alt på denne side, send denne tekst som Teams-besked til læreren:  Jeg er færdig med S0010.__"
   ]
  },
  {
   "cell_type": "markdown",
   "id": "68400f4f-2b00-40fd-b186-6719bf2c3cb1",
   "metadata": {},
   "source": [
    "Arbejd videre med den næste Jupyter Notebook."
   ]
  },
  {
   "cell_type": "code",
   "id": "b6823296-78aa-4a33-a3b9-1a3e4353c953",
   "metadata": {},
   "source": [],
   "outputs": [],
   "execution_count": null
  }
 ],
 "metadata": {
  "kernelspec": {
   "display_name": "Python 3 (ipykernel)",
   "language": "python",
   "name": "python3"
  },
  "language_info": {
   "codemirror_mode": {
    "name": "ipython",
    "version": 3
   },
   "file_extension": ".py",
   "mimetype": "text/x-python",
   "name": "python",
   "nbconvert_exporter": "python",
   "pygments_lexer": "ipython3",
   "version": "3.11.3"
  },
  "toc-autonumbering": false,
  "toc-showcode": false,
  "toc-showmarkdowntxt": false,
  "toc-showtags": false
 },
 "nbformat": 4,
 "nbformat_minor": 5
}
