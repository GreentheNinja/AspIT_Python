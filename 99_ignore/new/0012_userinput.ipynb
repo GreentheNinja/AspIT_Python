{
 "cells": [
  {
   "cell_type": "markdown",
   "id": "96295c0b-871e-4fd5-8b96-80c7b3d2ae5e",
   "metadata": {},
   "source": "## Brugerinput"
  },
  {
   "metadata": {},
   "cell_type": "markdown",
   "source": "Vi kan acceptere input fra brugeren ved hjælp af `input()`:",
   "id": "8a29b152ce3a444f"
  },
  {
   "metadata": {
    "ExecuteTime": {
     "end_time": "2025-03-31T12:34:52.724411Z",
     "start_time": "2025-03-31T12:34:49.645038Z"
    }
   },
   "cell_type": "code",
   "source": [
    "print('Please type your age. Finish with Enter.')\n",
    "age = input()\n",
    "print('Your age is ' + age)"
   ],
   "id": "80569ec10ba6c845",
   "outputs": [
    {
     "name": "stdout",
     "output_type": "stream",
     "text": [
      "Please type your age. Finish with Enter.\n",
      "Your age is cb\n"
     ]
    }
   ],
   "execution_count": 2
  },
  {
   "metadata": {},
   "cell_type": "markdown",
   "source": [
    "Denne tilgang får brugerinput mens programmet kører, hvilket betyder, at programmet stopper udførelsen og venter, indtil brugeren skriver noget og trykker på _Enter_-tasten.\n",
    "\n",
    "Bemærk, at `input()` returnerer en værdi af typen `str`."
   ],
   "id": "55e77beaa6be00e9"
  },
  {
   "cell_type": "markdown",
   "id": "81169767-b14d-437f-9305-b325f8bebb0a",
   "metadata": {},
   "source": [
    "Skriv et program i den næste celle.  \n",
    "Når man starter programmet, spørger den \"How old are you?\".  \n",
    "Så kan man indtaste et tal.  \n",
    "Derefter svarer programmet med \"In ten years are you x years old.\" hvor x er det korrekte tal.\n",
    "(Tip: Muligvis har du brug for at google \"type casting python\".)"
   ]
  },
  {
   "cell_type": "code",
   "execution_count": null,
   "id": "c331ebc8-f07d-4593-8d98-ec4d0de38fed",
   "metadata": {},
   "outputs": [],
   "source": [
    "# Skriv dit program her."
   ]
  },
  {
   "metadata": {},
   "cell_type": "markdown",
   "source": [
    "Forstod/løste du alle opgaver på denne side?\n",
    "Ellers spørg [W3schools](https://www.w3schools.com/python/), [Google](https://www.google.com),\n",
    "[Perplexity](https://perplexity.ai), andre elever eller læreren.\n",
    "\n",
    "Arbejd videre med den næste Jupyter Notebook."
   ],
   "id": "36807017c559b52a"
  }
 ],
 "metadata": {
  "kernelspec": {
   "display_name": "Python 3 (ipykernel)",
   "language": "python",
   "name": "python3"
  },
  "language_info": {
   "codemirror_mode": {
    "name": "ipython",
    "version": 3
   },
   "file_extension": ".py",
   "mimetype": "text/x-python",
   "name": "python",
   "nbconvert_exporter": "python",
   "pygments_lexer": "ipython3",
   "version": "3.10.7"
  }
 },
 "nbformat": 4,
 "nbformat_minor": 5
}
